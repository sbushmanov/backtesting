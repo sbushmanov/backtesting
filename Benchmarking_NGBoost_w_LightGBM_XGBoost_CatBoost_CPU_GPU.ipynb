{
 "cells": [
  {
   "cell_type": "markdown",
   "metadata": {
    "toc": true
   },
   "source": [
    "<h1>Table of Contents<span class=\"tocSkip\"></span></h1>\n",
    "<div class=\"toc\"><ul class=\"toc-item\"></ul></div>"
   ]
  },
  {
   "cell_type": "markdown",
   "metadata": {},
   "source": [
    "- The winner is LightGMB on CPU"
   ]
  },
  {
   "cell_type": "code",
   "execution_count": 1,
   "metadata": {},
   "outputs": [],
   "source": [
    "from ngboost import NGBoost, NGBRegressor\n",
    "from ngboost.distns import Exponential, Normal\n",
    "from lightgbm.sklearn import LGBMRegressor\n",
    "from catboost import CatBoostRegressor\n",
    "from xgboost.sklearn import XGBRegressor\n",
    "from sklearn.datasets import make_regression\n",
    "from sklearn.model_selection import train_test_split\n",
    "from sklearn.metrics import mean_squared_error\n",
    "\n",
    "X,y = make_regression(1000,100)\n",
    "X_train, X_test, y_train, y_test = train_test_split(X,y)"
   ]
  },
  {
   "cell_type": "code",
   "execution_count": 2,
   "metadata": {},
   "outputs": [
    {
     "name": "stdout",
     "output_type": "stream",
     "text": [
      "CPU times: user 915 ms, sys: 330 ms, total: 1.24 s\n",
      "Wall time: 110 ms\n"
     ]
    },
    {
     "data": {
      "text/plain": [
       "4263.687522151796"
      ]
     },
     "execution_count": 2,
     "metadata": {},
     "output_type": "execute_result"
    }
   ],
   "source": [
    "%%time\n",
    "lgb = LGBMRegressor(n_estimators=100,\n",
    "                    max_depth=3,\n",
    "                    verbose=-1,\n",
    "                    learning_rate=.1,\n",
    "                    force_col_wise=True,\n",
    "                    min_child_samples=2,\n",
    "                    device=\"cpu\")\n",
    "lgb.fit(X_train,y_train)\n",
    "preds=lgb.predict(X_test)\n",
    "mean_squared_error(y_test,preds)"
   ]
  },
  {
   "cell_type": "code",
   "execution_count": 26,
   "metadata": {},
   "outputs": [
    {
     "name": "stdout",
     "output_type": "stream",
     "text": [
      "[iter 0] loss=6.7270 val_loss=0.0000 scale=2.0000 norm=321.9833\n",
      "[iter 100] loss=5.5562 val_loss=0.0000 scale=2.0000 norm=53.4676\n",
      "[iter 200] loss=4.5837 val_loss=0.0000 scale=2.0000 norm=12.7870\n",
      "[iter 300] loss=2.7074 val_loss=0.0000 scale=4.0000 norm=5.4873\n",
      "[iter 400] loss=0.9483 val_loss=0.0000 scale=4.0000 norm=2.4091\n",
      "CPU times: user 7min 39s, sys: 12.5 s, total: 7min 52s\n",
      "Wall time: 39.8 s\n"
     ]
    },
    {
     "data": {
      "text/plain": [
       "(1970.9071838101336, 0.19776681952827818)"
      ]
     },
     "execution_count": 26,
     "metadata": {},
     "output_type": "execute_result"
    }
   ],
   "source": [
    "%%time\n",
    "lgb = LGBMRegressor(n_estimators=100,\n",
    "                    max_depth=3,\n",
    "                    verbose=-1,\n",
    "                    learning_rate=.1,\n",
    "                    force_col_wise=True,\n",
    "                    device=\"cpu\")\n",
    "ngb = NGBRegressor(Dist=Normal, Base=lgb,n_estimators=500).fit(X_train,y_train)\n",
    "preds=ngb.predict(X_test)\n",
    "dist = ngb.pred_dist(X_test)\n",
    "mean_squared_error(y_test,preds), dist.params[\"scale\"].mean() # 0.005928139301892113"
   ]
  },
  {
   "cell_type": "code",
   "execution_count": 4,
   "metadata": {},
   "outputs": [
    {
     "name": "stdout",
     "output_type": "stream",
     "text": [
      "CPU times: user 2.6 s, sys: 348 ms, total: 2.94 s\n",
      "Wall time: 260 ms\n"
     ]
    },
    {
     "data": {
      "text/plain": [
       "3672.888290282761"
      ]
     },
     "execution_count": 4,
     "metadata": {},
     "output_type": "execute_result"
    }
   ],
   "source": [
    "%%time\n",
    "lgb = LGBMRegressor(n_estimators=100,\n",
    "                    max_depth=3,\n",
    "                    verbose=-1,\n",
    "                    learning_rate=.1,\n",
    "                    device=\"gpu\")\n",
    "lgb.fit(X_train,y_train)\n",
    "preds=lgb.predict(X_test)\n",
    "mean_squared_error(y_test,preds)"
   ]
  },
  {
   "cell_type": "code",
   "execution_count": 5,
   "metadata": {},
   "outputs": [
    {
     "name": "stdout",
     "output_type": "stream",
     "text": [
      "[iter 0] loss=6.7270 val_loss=0.0000 scale=2.0000 norm=321.9833\n",
      "[iter 100] loss=5.5562 val_loss=0.0000 scale=2.0000 norm=53.4676\n",
      "[iter 200] loss=4.5837 val_loss=0.0000 scale=2.0000 norm=12.7870\n",
      "CPU times: user 20min 52s, sys: 2min 10s, total: 23min 2s\n",
      "Wall time: 1min 58s\n"
     ]
    },
    {
     "data": {
      "text/plain": [
       "1985.662547903987"
      ]
     },
     "execution_count": 5,
     "metadata": {},
     "output_type": "execute_result"
    }
   ],
   "source": [
    "%%time\n",
    "lgb = LGBMRegressor(n_estimators=100,\n",
    "                    max_depth=3,\n",
    "                    verbose=-1,\n",
    "                    learning_rate=.1,\n",
    "                    device=\"gpu\")\n",
    "lgb.fit(X_train,y_train)\n",
    "ngb = NGBRegressor(Dist=Normal, Base=lgb,n_estimators=300).fit(X_train,y_train)\n",
    "preds=ngb.predict(X_test)\n",
    "preds_param = ngb.pred_param(X_test)\n",
    "mean_squared_error(y_test,preds)"
   ]
  },
  {
   "cell_type": "code",
   "execution_count": 6,
   "metadata": {},
   "outputs": [
    {
     "name": "stdout",
     "output_type": "stream",
     "text": [
      "CPU times: user 2.75 s, sys: 105 ms, total: 2.85 s\n",
      "Wall time: 238 ms\n"
     ]
    },
    {
     "data": {
      "text/plain": [
       "4304.198169895188"
      ]
     },
     "execution_count": 6,
     "metadata": {},
     "output_type": "execute_result"
    }
   ],
   "source": [
    "%%time\n",
    "xgb = XGBRegressor(n_estimators=100, \n",
    "                   max_depth=3, \n",
    "                   verbosity=0, \n",
    "                   learning_rate=.1,\n",
    "                   tree_method=\"hist\")\n",
    "xgb.fit(X_train,y_train)\n",
    "preds = xgb.predict(X_test)\n",
    "mean_squared_error(y_test,preds)"
   ]
  },
  {
   "cell_type": "code",
   "execution_count": 7,
   "metadata": {},
   "outputs": [
    {
     "name": "stderr",
     "output_type": "stream",
     "text": [
      "/home/sergey/anaconda3/lib/python3.7/site-packages/xgboost/data.py:106: UserWarning: Use subset (sliced data) of np.ndarray is not recommended because it will generate extra copies and increase memory consumption\n",
      "  \"because it will generate extra copies and increase \" +\n"
     ]
    },
    {
     "name": "stdout",
     "output_type": "stream",
     "text": [
      "[iter 0] loss=6.7270 val_loss=0.0000 scale=2.0000 norm=321.9833\n",
      "[iter 100] loss=5.5507 val_loss=0.0000 scale=2.0000 norm=52.6475\n",
      "[iter 200] loss=4.5722 val_loss=0.0000 scale=2.0000 norm=11.7392\n",
      "CPU times: user 27min 55s, sys: 57.2 s, total: 28min 52s\n",
      "Wall time: 2min 25s\n"
     ]
    },
    {
     "data": {
      "text/plain": [
       "2568.008642924577"
      ]
     },
     "execution_count": 7,
     "metadata": {},
     "output_type": "execute_result"
    }
   ],
   "source": [
    "%%time\n",
    "xgb = XGBRegressor(n_estimators=100, \n",
    "                   max_depth=3, \n",
    "                   verbosity=0, \n",
    "                   learning_rate=.1,\n",
    "                   tree_method=\"hist\")\n",
    "ngb = NGBRegressor(Dist=Normal, Base=xgb,n_estimators=300).fit(X_train,y_train)\n",
    "preds=ngb.predict(X_test)\n",
    "preds_param = ngb.pred_param(X_test)\n",
    "mean_squared_error(y_test,preds)"
   ]
  },
  {
   "cell_type": "code",
   "execution_count": 8,
   "metadata": {},
   "outputs": [
    {
     "name": "stdout",
     "output_type": "stream",
     "text": [
      "CPU times: user 2.25 s, sys: 208 ms, total: 2.46 s\n",
      "Wall time: 251 ms\n"
     ]
    },
    {
     "data": {
      "text/plain": [
       "4304.19823614987"
      ]
     },
     "execution_count": 8,
     "metadata": {},
     "output_type": "execute_result"
    }
   ],
   "source": [
    "%%time\n",
    "xgb = XGBRegressor(n_estimators=100, \n",
    "                   max_depth=3, \n",
    "                   verbosity=0, \n",
    "                   learning_rate=.1,\n",
    "                   tree_method=\"gpu_hist\")\n",
    "xgb.fit(X_train,y_train)\n",
    "preds = xgb.predict(X_test)\n",
    "mean_squared_error(y_test, preds)"
   ]
  },
  {
   "cell_type": "code",
   "execution_count": 9,
   "metadata": {},
   "outputs": [
    {
     "name": "stderr",
     "output_type": "stream",
     "text": [
      "/home/sergey/anaconda3/lib/python3.7/site-packages/xgboost/data.py:106: UserWarning: Use subset (sliced data) of np.ndarray is not recommended because it will generate extra copies and increase memory consumption\n",
      "  \"because it will generate extra copies and increase \" +\n"
     ]
    },
    {
     "name": "stdout",
     "output_type": "stream",
     "text": [
      "[iter 0] loss=6.7270 val_loss=0.0000 scale=2.0000 norm=321.9833\n",
      "[iter 100] loss=5.5507 val_loss=0.0000 scale=2.0000 norm=52.6475\n",
      "[iter 200] loss=4.5722 val_loss=0.0000 scale=2.0000 norm=11.7326\n",
      "CPU times: user 15min 17s, sys: 1min 9s, total: 16min 26s\n",
      "Wall time: 1min 22s\n"
     ]
    },
    {
     "data": {
      "text/plain": [
       "2569.341305369871"
      ]
     },
     "execution_count": 9,
     "metadata": {},
     "output_type": "execute_result"
    }
   ],
   "source": [
    "%%time\n",
    "xgb = XGBRegressor(n_estimators=100, \n",
    "                   max_depth=3, \n",
    "                   verbosity=0, \n",
    "                   learning_rate=.1,\n",
    "                   tree_method=\"gpu_hist\")\n",
    "xgb.fit(X_train,y_train)\n",
    "ngb = NGBRegressor(Dist=Normal, Base=xgb,n_estimators=300).fit(X_train,y_train)\n",
    "preds=ngb.predict(X_test)\n",
    "preds_param = ngb.pred_param(X_test)\n",
    "mean_squared_error(y_test,preds)"
   ]
  },
  {
   "cell_type": "code",
   "execution_count": 30,
   "metadata": {},
   "outputs": [
    {
     "name": "stdout",
     "output_type": "stream",
     "text": [
      "CPU times: user 1.46 s, sys: 30.9 ms, total: 1.49 s\n",
      "Wall time: 409 ms\n"
     ]
    },
    {
     "data": {
      "text/plain": [
       "2755.2483292568486"
      ]
     },
     "execution_count": 30,
     "metadata": {},
     "output_type": "execute_result"
    }
   ],
   "source": [
    "%%time\n",
    "cat = CatBoostRegressor(iterations=100, \n",
    "                        learning_rate=0.1, \n",
    "                        max_depth=3,\n",
    "                        verbose=0,\n",
    "                        task_type=\"CPU\")\n",
    "cat.fit(X_train, y_train)\n",
    "preds = cat.predict(X_test)\n",
    "mean_squared_error(y_test, preds)"
   ]
  },
  {
   "cell_type": "code",
   "execution_count": 31,
   "metadata": {},
   "outputs": [
    {
     "name": "stdout",
     "output_type": "stream",
     "text": [
      "[iter 0] loss=6.7270 val_loss=0.0000 scale=2.0000 norm=321.9833\n",
      "[iter 100] loss=5.6152 val_loss=0.0000 scale=2.0000 norm=65.4091\n",
      "[iter 200] loss=4.6990 val_loss=0.0000 scale=2.0000 norm=22.4405\n",
      "CPU times: user 15min 18s, sys: 22.2 s, total: 15min 40s\n",
      "Wall time: 3min 44s\n"
     ]
    },
    {
     "data": {
      "text/plain": [
       "649.1095010371579"
      ]
     },
     "execution_count": 31,
     "metadata": {},
     "output_type": "execute_result"
    }
   ],
   "source": [
    "%%time\n",
    "cat = CatBoostRegressor(iterations=100, \n",
    "                        learning_rate=0.1, \n",
    "                        max_depth=3,\n",
    "                        verbose=0,\n",
    "                        task_type=\"CPU\")\n",
    "ngb = NGBRegressor(Dist=Normal, Base=cat,n_estimators=300).fit(X_train,y_train)\n",
    "preds=ngb.predict(X_test)\n",
    "preds_param = ngb.pred_param(X_test)\n",
    "mean_squared_error(y_test,preds)"
   ]
  },
  {
   "cell_type": "code",
   "execution_count": 32,
   "metadata": {},
   "outputs": [
    {
     "name": "stdout",
     "output_type": "stream",
     "text": [
      "CPU times: user 455 ms, sys: 129 ms, total: 584 ms\n",
      "Wall time: 455 ms\n"
     ]
    },
    {
     "data": {
      "text/plain": [
       "2980.1152619176582"
      ]
     },
     "execution_count": 32,
     "metadata": {},
     "output_type": "execute_result"
    }
   ],
   "source": [
    "%%time\n",
    "cat = CatBoostRegressor(iterations=100, \n",
    "                        learning_rate=0.1, \n",
    "                        max_depth=3,\n",
    "                        verbose=0,\n",
    "                        task_type=\"GPU\")\n",
    "cat.fit(X_train, y_train)\n",
    "preds = cat.predict(X_test)\n",
    "mean_squared_error(y_test,preds)"
   ]
  },
  {
   "cell_type": "code",
   "execution_count": 33,
   "metadata": {},
   "outputs": [
    {
     "name": "stdout",
     "output_type": "stream",
     "text": [
      "[iter 0] loss=6.7270 val_loss=0.0000 scale=2.0000 norm=321.9833\n",
      "[iter 100] loss=5.6012 val_loss=0.0000 scale=2.0000 norm=62.9621\n",
      "[iter 200] loss=4.6709 val_loss=0.0000 scale=2.0000 norm=20.4710\n",
      "CPU times: user 5min 14s, sys: 1min 11s, total: 6min 25s\n",
      "Wall time: 6min 9s\n"
     ]
    },
    {
     "data": {
      "text/plain": [
       "812.9709068285159"
      ]
     },
     "execution_count": 33,
     "metadata": {},
     "output_type": "execute_result"
    }
   ],
   "source": [
    "%%time\n",
    "cat = CatBoostRegressor(iterations=100, \n",
    "                        learning_rate=0.1, \n",
    "                        max_depth=3,\n",
    "                        verbose=0,\n",
    "                        task_type=\"GPU\")\n",
    "cat.fit(X_train, y_train)\n",
    "ngb = NGBRegressor(Dist=Normal, Base=cat,n_estimators=300).fit(X_train,y_train)\n",
    "preds=ngb.predict(X_test)\n",
    "preds_param = ngb.pred_param(X_test)\n",
    "mean_squared_error(y_test,preds)"
   ]
  }
 ],
 "metadata": {
  "kernelspec": {
   "display_name": "Python 3",
   "language": "python",
   "name": "python3"
  },
  "language_info": {
   "codemirror_mode": {
    "name": "ipython",
    "version": 3
   },
   "file_extension": ".py",
   "mimetype": "text/x-python",
   "name": "python",
   "nbconvert_exporter": "python",
   "pygments_lexer": "ipython3",
   "version": "3.7.8"
  },
  "toc": {
   "base_numbering": 1,
   "nav_menu": {},
   "number_sections": true,
   "sideBar": true,
   "skip_h1_title": false,
   "title_cell": "Table of Contents",
   "title_sidebar": "Contents",
   "toc_cell": true,
   "toc_position": {},
   "toc_section_display": true,
   "toc_window_display": false
  }
 },
 "nbformat": 4,
 "nbformat_minor": 4
}
