{
 "cells": [
  {
   "cell_type": "markdown",
   "id": "197d9c78",
   "metadata": {
    "toc": true
   },
   "source": [
    "<h1>Table of Contents<span class=\"tocSkip\"></span></h1>\n",
    "<div class=\"toc\"><ul class=\"toc-item\"></ul></div>"
   ]
  },
  {
   "cell_type": "code",
   "execution_count": 1,
   "id": "b575632e",
   "metadata": {
    "ExecuteTime": {
     "end_time": "2021-04-28T15:58:32.292383Z",
     "start_time": "2021-04-28T15:58:31.962919Z"
    }
   },
   "outputs": [],
   "source": [
    "from numba import njit\n",
    "from utils import gen_GBM\n",
    "from talib import BBANDS\n",
    "\n",
    "@njit\n",
    "def crossup(x, y, i):\n",
    "    if x[i - 1] < y[i - 1] and x[i] > y[i]:\n",
    "        return 1\n",
    "    else:\n",
    "        return 0\n",
    "\n",
    "@njit\n",
    "def crossdown(x, y, i):\n",
    "    if x[i - 1] > y[i - 1] and x[i] < y[i]:\n",
    "        return 1\n",
    "    else:\n",
    "        return 0\n",
    "\n",
    "price = gen_GBM(120)\n",
    "upper, middle, lower = BBANDS(price, 20, 1, 1)\n",
    "price = price[20:]\n",
    "upper = upper[20:]\n",
    "middle = middle[20:]\n",
    "lower = lower[20:]"
   ]
  },
  {
   "cell_type": "code",
   "execution_count": 2,
   "id": "0ce24a26",
   "metadata": {
    "ExecuteTime": {
     "end_time": "2021-04-28T15:58:32.299612Z",
     "start_time": "2021-04-28T15:58:32.294009Z"
    }
   },
   "outputs": [],
   "source": [
    "def ret_np(price, upper, middle, lower, comission = .0003):\n",
    "    L = price.shape[0]\n",
    "    out = np.empty(L)\n",
    "    out[:2] = 0.0\n",
    "    out[-2:] = 0.0\n",
    "    i = 1 # we need history to check crossup\n",
    "\n",
    "    while i < (L-2):\n",
    "        \n",
    "        out[i+1] = 0.0\n",
    "        \n",
    "        if crossup(price, lower, i) and i < (L-2):\n",
    "            out[i+1] = price[i+2]/(price[i+1]*(1+comission)) - 1.0\n",
    "            trade = True\n",
    "            while trade and i < (L-3):\n",
    "                i += 1\n",
    "                out[i+1] = price[i+2]/price[i+1] - 1.0\n",
    "                if crossup(price, middle,i) or crossdown(price, lower, i):\n",
    "                    trade = False\n",
    "                    out[i+1] = (1-comission)*price[i+2]/price[i+1] - 1.0\n",
    "        \n",
    "        \n",
    "        if crossdown(price, upper, i) and i < (L-2):\n",
    "            out[i+1] = (1-comission)*price[i+1]/price[i+2] - 1.0\n",
    "            trade = True\n",
    "            while trade and i < (L-3):\n",
    "                i += 1\n",
    "                out[i+1] = price[i+1]/price[i+2] - 1.0\n",
    "                if crossup(price, upper, i) or crossdown(price, middle, i):\n",
    "                    trade = False\n",
    "                    out[i+1] = price[i+1]/(price[i+2]*(1+comission)) - 1.0\n",
    "         \n",
    "        \n",
    "        i +=1\n",
    "    return out"
   ]
  },
  {
   "cell_type": "code",
   "execution_count": 8,
   "id": "5df598b8",
   "metadata": {
    "ExecuteTime": {
     "end_time": "2021-04-28T16:00:56.154815Z",
     "start_time": "2021-04-28T16:00:56.134653Z"
    }
   },
   "outputs": [],
   "source": [
    "@njit\n",
    "def BBANDS_return(price, upper, middle, lower, comission = .0003):\n",
    "    L = price.shape[0]\n",
    "    out = np.empty(L)\n",
    "    out[:] = 99.99\n",
    "    out[:2] = 0.0\n",
    "    out[-2:] = 0.0\n",
    "    i = 1\n",
    "\n",
    "    while i < (L-2):\n",
    "        \n",
    "        out[i+1] = 0.0\n",
    "        \n",
    "        if crossup(price, lower, i) and i < (L-2):\n",
    "            out[i+1] = price[i+2]/(price[i+1]*(1+comission)) - 1.0\n",
    "            trade = True\n",
    "            while trade and i < (L-3):\n",
    "                i += 1\n",
    "                out[i+1] = price[i+2]/price[i+1] - 1.0\n",
    "                if crossup(price, middle,i) or crossdown(price, lower, i):\n",
    "                    trade = False\n",
    "                    out[i+1] = (1-comission)*price[i+2]/price[i+1] - 1.0\n",
    "        \n",
    "        \n",
    "        if crossdown(price, upper, i) and i < (L-2):\n",
    "            out[i+1] = (1-comission)*price[i+1]/price[i+2] - 1.0\n",
    "            trade = True\n",
    "            while trade and i < (L-3):\n",
    "                i += 1\n",
    "                out[i+1] = price[i+1]/price[i+2] - 1.0\n",
    "                if crossup(price, upper, i) or crossdown(price, middle, i):\n",
    "                    trade = False\n",
    "                    out[i+1] = price[i+1]/(price[i+2]*(1+comission)) - 1.0\n",
    "         \n",
    "        \n",
    "        i +=1\n",
    "    return out\n",
    "\n",
    "price = gen_GBM(100000, random_seed=None)\n",
    "upper, middle, lower = BBANDS(price, 20, 1, 1)\n",
    "price = price[20:]\n",
    "upper = upper[20:]\n",
    "middle = middle[20:]\n",
    "lower = lower[20:]"
   ]
  },
  {
   "cell_type": "code",
   "execution_count": 4,
   "id": "69e48e89",
   "metadata": {
    "ExecuteTime": {
     "end_time": "2021-04-28T15:58:40.632882Z",
     "start_time": "2021-04-28T15:58:32.586582Z"
    }
   },
   "outputs": [
    {
     "name": "stdout",
     "output_type": "stream",
     "text": [
      "94.1 ms ± 334 µs per loop (mean ± std. dev. of 7 runs, 10 loops each)\n"
     ]
    }
   ],
   "source": [
    "rnp = ret_np(price, upper, middle, lower)\n",
    "%timeit ret_np(price, upper, middle, lower)"
   ]
  },
  {
   "cell_type": "code",
   "execution_count": 5,
   "id": "b306b81a",
   "metadata": {
    "ExecuteTime": {
     "end_time": "2021-04-28T15:58:45.683516Z",
     "start_time": "2021-04-28T15:58:40.634058Z"
    }
   },
   "outputs": [
    {
     "name": "stdout",
     "output_type": "stream",
     "text": [
      "564 µs ± 280 ns per loop (mean ± std. dev. of 7 runs, 1000 loops each)\n"
     ]
    }
   ],
   "source": [
    "rnb = BBANDS_return(price, upper, middle, lower)\n",
    "%timeit BBANDS_return(price, upper, middle, lower)"
   ]
  },
  {
   "cell_type": "code",
   "execution_count": 6,
   "id": "6ed20f5f",
   "metadata": {
    "ExecuteTime": {
     "end_time": "2021-04-28T15:58:45.690740Z",
     "start_time": "2021-04-28T15:58:45.685242Z"
    }
   },
   "outputs": [
    {
     "data": {
      "text/plain": [
       "True"
      ]
     },
     "execution_count": 6,
     "metadata": {},
     "output_type": "execute_result"
    }
   ],
   "source": [
    "np.allclose(rnp, rnb)"
   ]
  },
  {
   "cell_type": "code",
   "execution_count": 7,
   "id": "f907b82b",
   "metadata": {
    "ExecuteTime": {
     "end_time": "2021-04-28T16:00:29.835090Z",
     "start_time": "2021-04-28T15:58:45.691734Z"
    }
   },
   "outputs": [],
   "source": [
    "for _ in range(1000):\n",
    "    price = gen_GBM(100000, random_seed=None)\n",
    "    upper, middle, lower = BBANDS(price, 20, 1, 1)\n",
    "    price = price[20:]\n",
    "    upper = upper[20:]\n",
    "    middle = middle[20:]\n",
    "    lower = lower[20:]\n",
    "    rnp = ret_np(price, upper, middle, lower)\n",
    "    rnb = BBANDS_return(price, upper, middle, lower)\n",
    "    assert np.allclose(rnp, rnb), \"Really?!\""
   ]
  },
  {
   "cell_type": "code",
   "execution_count": 9,
   "id": "6682e1b4",
   "metadata": {
    "ExecuteTime": {
     "end_time": "2021-04-28T16:01:06.789822Z",
     "start_time": "2021-04-28T16:01:02.779620Z"
    }
   },
   "outputs": [],
   "source": [
    "for _ in range(10000):\n",
    "    price = gen_GBM(1000, random_seed=None)\n",
    "    upper, middle, lower = BBANDS(price, 20, 1, 1)\n",
    "    price = price[20:]\n",
    "    upper = upper[20:]\n",
    "    middle = middle[20:]\n",
    "    lower = lower[20:]\n",
    "    if any(BBANDS_return(price, upper, middle, lower) == 99.99):\n",
    "        print(\"Fail!\")"
   ]
  }
 ],
 "metadata": {
  "kernelspec": {
   "display_name": "Python 3",
   "language": "python",
   "name": "python3"
  },
  "language_info": {
   "codemirror_mode": {
    "name": "ipython",
    "version": 3
   },
   "file_extension": ".py",
   "mimetype": "text/x-python",
   "name": "python",
   "nbconvert_exporter": "python",
   "pygments_lexer": "ipython3",
   "version": "3.9.2"
  },
  "toc": {
   "base_numbering": 1,
   "nav_menu": {},
   "number_sections": true,
   "sideBar": true,
   "skip_h1_title": false,
   "title_cell": "Table of Contents",
   "title_sidebar": "Contents",
   "toc_cell": true,
   "toc_position": {},
   "toc_section_display": true,
   "toc_window_display": false
  }
 },
 "nbformat": 4,
 "nbformat_minor": 5
}
