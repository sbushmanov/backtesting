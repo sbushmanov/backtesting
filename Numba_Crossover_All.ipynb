{
 "cells": [
  {
   "cell_type": "markdown",
   "id": "unusual-ground",
   "metadata": {
    "toc": true
   },
   "source": [
    "<h1>Table of Contents<span class=\"tocSkip\"></span></h1>\n",
    "<div class=\"toc\"><ul class=\"toc-item\"></ul></div>"
   ]
  },
  {
   "cell_type": "code",
   "execution_count": 5,
   "id": "hawaiian-principle",
   "metadata": {
    "ExecuteTime": {
     "end_time": "2021-04-13T07:59:37.260982Z",
     "start_time": "2021-04-13T07:59:37.241657Z"
    }
   },
   "outputs": [
    {
     "data": {
      "text/plain": [
       "(132090, 102)"
      ]
     },
     "execution_count": 5,
     "metadata": {},
     "output_type": "execute_result"
    }
   ],
   "source": [
    "from numba import njit, prange\n",
    "\n",
    "np.random.seed(42)\n",
    "N,M,K = np.random.choice(np.arange(1000),3)\n",
    "arr2 = np.array(N*[M*[0]+K*[1]]).ravel() - .5\n",
    "arr1 = np.zeros(len(arr2))\n",
    "len(arr2), N"
   ]
  },
  {
   "cell_type": "code",
   "execution_count": 6,
   "id": "invisible-dayton",
   "metadata": {
    "ExecuteTime": {
     "end_time": "2021-04-13T07:59:43.558800Z",
     "start_time": "2021-04-13T07:59:40.108879Z"
    }
   },
   "outputs": [
    {
     "name": "stdout",
     "output_type": "stream",
     "text": [
      "42 ms ± 522 µs per loop (mean ± std. dev. of 7 runs, 10 loops each)\n"
     ]
    }
   ],
   "source": [
    "def crossover(signal, price):\n",
    "    L = price.shape[0]\n",
    "    out = np.empty(L, dtype=np.int64)\n",
    "    out[0] = 0\n",
    "    for i in range(1,L):\n",
    "        if signal[i-1] < price[i-1] and signal[i] > price[i]:\n",
    "            out[i] =1\n",
    "        else:\n",
    "            out[i] =0\n",
    "    return out  \n",
    "\n",
    "%timeit crossover(arr2,arr1)"
   ]
  },
  {
   "cell_type": "code",
   "execution_count": 7,
   "id": "documentary-measurement",
   "metadata": {
    "ExecuteTime": {
     "end_time": "2021-04-13T07:59:52.760983Z",
     "start_time": "2021-04-13T07:59:52.704089Z"
    }
   },
   "outputs": [
    {
     "data": {
      "text/plain": [
       "102"
      ]
     },
     "execution_count": 7,
     "metadata": {},
     "output_type": "execute_result"
    }
   ],
   "source": [
    "crossover(arr2,arr1).sum()"
   ]
  },
  {
   "cell_type": "code",
   "execution_count": 2,
   "id": "exact-render",
   "metadata": {
    "ExecuteTime": {
     "end_time": "2021-04-13T07:54:38.240420Z",
     "start_time": "2021-04-13T07:54:16.521659Z"
    }
   },
   "outputs": [
    {
     "name": "stdout",
     "output_type": "stream",
     "text": [
      "102\n",
      "203 µs ± 8.95 µs per loop (mean ± std. dev. of 1000 runs, 100 loops each)\n"
     ]
    }
   ],
   "source": [
    "@njit\n",
    "def nb_crossover(signal, price):\n",
    "    L = price.shape[0]\n",
    "    out = np.empty(L, dtype=np.int64)\n",
    "    out[0] = 0\n",
    "    for i in range(1, L):\n",
    "        if signal[i - 1] < price[i - 1] and signal[i] > price[i]:\n",
    "            out[i] = 1\n",
    "        else:\n",
    "            out[i] = 0\n",
    "    return out\n",
    "\n",
    "\n",
    "print(nb_crossover(arr2, arr1).sum())\n",
    "%timeit -n100 -r1000 nb_crossover(arr2,arr1)"
   ]
  },
  {
   "cell_type": "code",
   "execution_count": 3,
   "id": "contained-sociology",
   "metadata": {
    "ExecuteTime": {
     "end_time": "2021-04-13T07:54:43.604663Z",
     "start_time": "2021-04-13T07:54:38.241877Z"
    }
   },
   "outputs": [
    {
     "name": "stdout",
     "output_type": "stream",
     "text": [
      "102\n",
      "The slowest run took 22.15 times longer than the fastest. This could mean that an intermediate result is being cached.\n",
      "47.1 µs ± 43 µs per loop (mean ± std. dev. of 1000 runs, 100 loops each)\n"
     ]
    }
   ],
   "source": [
    "@njit(parallel=True)\n",
    "def nbp_crossover(signal, price):\n",
    "    L = price.shape[0]\n",
    "    out = np.empty(L, dtype=np.int32)\n",
    "    out[0] = 0\n",
    "    for i in prange(1, L):\n",
    "        if signal[i - 1] < price[i - 1] and signal[i] > price[i]:\n",
    "            out[i] = 1\n",
    "        else:\n",
    "            out[i] = 0\n",
    "    return out\n",
    "\n",
    "print(nbp_crossover(arr2,arr1).sum())\n",
    "%timeit -n100 -r1000 nbp_crossover(arr2,arr1)"
   ]
  },
  {
   "cell_type": "code",
   "execution_count": 4,
   "id": "casual-scenario",
   "metadata": {
    "ExecuteTime": {
     "end_time": "2021-04-13T07:57:19.913822Z",
     "start_time": "2021-04-13T07:56:19.299984Z"
    }
   },
   "outputs": [],
   "source": [
    "for _ in range(1000):\n",
    "    N,M,K = np.random.choice(np.arange(1,1000),3)\n",
    "    arr2 = np.array(N*[M*[0]+K*[1]]).ravel() - .5\n",
    "    arr1 = np.zeros(len(arr2))\n",
    "    assert np.allclose(nbp_crossover(arr2,arr1), nb_crossover(arr2,arr1))"
   ]
  },
  {
   "cell_type": "code",
   "execution_count": null,
   "id": "earlier-jefferson",
   "metadata": {
    "ExecuteTime": {
     "end_time": "2021-04-12T21:41:44.887940Z",
     "start_time": "2021-04-12T21:41:43.285Z"
    }
   },
   "outputs": [],
   "source": [
    "for _ in range(1000):\n",
    "    N,M,K = np.random.choice(np.arange(1,1000),3)\n",
    "    arr2 = np.array(N*[M*[0]+K*[1]]).ravel() - .5\n",
    "    arr1 = np.zeros(len(arr2))\n",
    "    assert N == nb_crossover(arr2,arr1).sum()"
   ]
  },
  {
   "cell_type": "code",
   "execution_count": null,
   "id": "unique-cocktail",
   "metadata": {
    "ExecuteTime": {
     "end_time": "2021-04-12T21:41:44.888466Z",
     "start_time": "2021-04-12T21:41:43.287Z"
    }
   },
   "outputs": [],
   "source": [
    "import time\n",
    "\n",
    "acc = 0\n",
    "for _ in range(1000):\n",
    "    N,M,K = np.random.choice(np.arange(1,1000),3)\n",
    "    arr2 = np.array(N*[M*[0]+K*[1]]).ravel() - .5\n",
    "    arr1 = np.zeros(len(arr2))\n",
    "    start = time.time()\n",
    "    out = nb_crossover(arr2,arr1)\n",
    "    finish = time.time()\n",
    "    acc +=  finish - start\n",
    "    assert N == out.sum()\n",
    "\n",
    "print(acc)\n",
    "# 12.3147554397583"
   ]
  },
  {
   "cell_type": "code",
   "execution_count": null,
   "id": "nominated-oriental",
   "metadata": {
    "ExecuteTime": {
     "end_time": "2021-04-12T21:41:44.889014Z",
     "start_time": "2021-04-12T21:41:43.290Z"
    }
   },
   "outputs": [],
   "source": [
    "acc = 0\n",
    "for _ in range(1000):\n",
    "    N,M,K = np.random.choice(np.arange(1,1000),3)\n",
    "    arr2 = np.array(N*[M*[0]+K*[1]]).ravel() - .5\n",
    "    arr1 = np.zeros(len(arr2))\n",
    "    start = time.time()\n",
    "    out = nbp_crossover(arr2,arr1)\n",
    "    finish = time.time()\n",
    "    acc +=  finish - start\n",
    "    assert N == out.sum()\n",
    "\n",
    "print(acc)\n",
    "# 7.125715970993042"
   ]
  },
  {
   "cell_type": "code",
   "execution_count": null,
   "id": "psychological-accountability",
   "metadata": {
    "ExecuteTime": {
     "end_time": "2021-04-12T21:41:44.889614Z",
     "start_time": "2021-04-12T21:41:43.292Z"
    }
   },
   "outputs": [],
   "source": [
    "# %%timeit -n100 -r100\n",
    "N,M,K = np.random.choice(np.arange(1,1000),3)\n",
    "arr2 = np.array(N*[M*[0]+K*[1]]).ravel() - .5\n",
    "arr1 = np.zeros(len(arr2))\n",
    "%timeit nb_crossover(arr2,arr1)"
   ]
  },
  {
   "cell_type": "code",
   "execution_count": null,
   "id": "radio-sixth",
   "metadata": {
    "ExecuteTime": {
     "end_time": "2021-04-12T21:41:44.890103Z",
     "start_time": "2021-04-12T21:41:43.295Z"
    }
   },
   "outputs": [],
   "source": [
    "# %%timeit -n100 -r100\n",
    "N,M,K = np.random.choice(np.arange(1,1000),3)\n",
    "arr2 = np.array(N*[M*[0]+K*[1]]).ravel() - .5\n",
    "arr1 = np.zeros(len(arr2))\n",
    "%timeit nbp_crossover(arr2,arr1)"
   ]
  },
  {
   "cell_type": "code",
   "execution_count": null,
   "id": "dangerous-mexico",
   "metadata": {
    "ExecuteTime": {
     "end_time": "2021-04-12T21:41:44.890762Z",
     "start_time": "2021-04-12T21:41:43.298Z"
    }
   },
   "outputs": [],
   "source": [
    "from talib import BBANDS\n",
    "np.random.seed(42)\n",
    "ret = np.random.randn(1000)/100\n",
    "price = np.cumprod(1+ ret)\n",
    "upper, middle, lower = BBANDS(price, 30, 1)\n",
    "plt.figure(figsize=(15,3))\n",
    "plt.plot(price, c=\"black\")\n",
    "plt.plot(upper, c=\"red\")\n",
    "plt.plot(lower, c=\"green\")\n",
    "plt.plot(middle, c=\"blue\");"
   ]
  },
  {
   "cell_type": "code",
   "execution_count": 1,
   "id": "fresh-freeze",
   "metadata": {
    "ExecuteTime": {
     "end_time": "2021-04-12T21:41:52.896948Z",
     "start_time": "2021-04-12T21:41:50.835132Z"
    }
   },
   "outputs": [
    {
     "name": "stdout",
     "output_type": "stream",
     "text": [
      "79.3 µs ± 7.12 µs per loop (mean ± std. dev. of 100 runs, 100 loops each)\n"
     ]
    }
   ],
   "source": [
    "from talib import BBANDS\n",
    "from numba import njit, prange\n",
    "\n",
    "np.random.seed(42)\n",
    "ret = np.random.randn(100000) / 100\n",
    "price = np.cumprod(1 + ret)\n",
    "\n",
    "lb = 100\n",
    "std = 1\n",
    "upper, middle, lower = BBANDS(price, lb, std)\n",
    "price = price[lb:]\n",
    "upper = upper[lb:]\n",
    "middle = middle[lb:]\n",
    "lower = lower[lb:]\n",
    "\n",
    "\n",
    "@njit(parallel=True)\n",
    "def gen_signal(price, upper, middle, lower):\n",
    "\n",
    "    L = price.shape[0]\n",
    "    signal = np.empty(L, dtype=np.int32)\n",
    "\n",
    "    lower_crossup = 0\n",
    "    upper_crossdown = 0\n",
    "\n",
    "    signal[0] = 0\n",
    "    for i in prange(1, L):\n",
    "\n",
    "        # lower crossup\n",
    "        if lower[i - 1] > price[i - 1] and lower[i] < price[i]:\n",
    "            lower_crossup = 1\n",
    "\n",
    "        # upper crossdown\n",
    "        if upper[i - 1] < price[i - 1] and upper[i] > price[i]:\n",
    "            upper_crossdown = 1\n",
    "\n",
    "        # enter long\n",
    "        if lower_crossup:\n",
    "            signal[i] = 1\n",
    "            if (middle[i - 1] > price[i - 1] and middle[i] < price[i]) or (\n",
    "                lower[i - 1] < price[i - 1] and lower[i] > price[i]\n",
    "            ):\n",
    "                lower_crossup = 0\n",
    "                signal[i] = 0\n",
    "\n",
    "        elif upper_crossdown:\n",
    "            signal[i] = -1\n",
    "            if (price[i - 1] > middle[i - 1] and price[i] < middle[i]) or (\n",
    "                price[i - 1] < upper[i - 1] and price[i] > upper[i]\n",
    "            ):\n",
    "                signal[i] = 0\n",
    "                upper_crossdown = 0\n",
    "        else:\n",
    "            signal[i] = 0\n",
    "\n",
    "    return signal\n",
    "\n",
    "\n",
    "out=gen_signal(price, upper, middle, lower)\n",
    "%timeit -n100 -r100 gen_signal(price, upper, middle, lower)\n",
    "\n",
    "# 88.4 µs ± 10.2 µs per loop (mean ± std. dev. of 100 runs, 100 loops each)"
   ]
  },
  {
   "cell_type": "code",
   "execution_count": 2,
   "id": "5ef02970",
   "metadata": {
    "ExecuteTime": {
     "end_time": "2021-04-12T21:41:53.811232Z",
     "start_time": "2021-04-12T21:41:52.898490Z"
    }
   },
   "outputs": [
    {
     "name": "stdout",
     "output_type": "stream",
     "text": [
      "The slowest run took 11.11 times longer than the fastest. This could mean that an intermediate result is being cached.\n",
      "90.4 µs ± 79.9 µs per loop (mean ± std. dev. of 100 runs, 100 loops each)\n"
     ]
    }
   ],
   "source": [
    "out = gen_signal(price, upper, middle, lower)\n",
    "%timeit -n100 -r100 gen_signal(price, upper, middle, lower)"
   ]
  },
  {
   "cell_type": "code",
   "execution_count": 3,
   "id": "complicated-median",
   "metadata": {
    "ExecuteTime": {
     "end_time": "2021-04-12T21:41:54.014042Z",
     "start_time": "2021-04-12T21:41:53.813018Z"
    }
   },
   "outputs": [
    {
     "data": {
      "image/png": "[encoded data removed]",
      "text/plain": [
       "<Figure size 432x288 with 1 Axes>"
      ]
     },
     "metadata": {
      "image/png": {
       "height": 247,
       "width": 385
      },
      "needs_background": "light"
     },
     "output_type": "display_data"
    }
   ],
   "source": [
    "plt.plot(out[:300]);"
   ]
  },
  {
   "cell_type": "code",
   "execution_count": 4,
   "id": "8e1b9a63",
   "metadata": {
    "ExecuteTime": {
     "end_time": "2021-04-12T21:41:57.879038Z",
     "start_time": "2021-04-12T21:41:54.015124Z"
    }
   },
   "outputs": [
    {
     "name": "stdout",
     "output_type": "stream",
     "text": [
      "350 µs ± 6.42 µs per loop (mean ± std. dev. of 100 runs, 100 loops each)\n"
     ]
    }
   ],
   "source": [
    "@njit\n",
    "def crossup(x, y, i):\n",
    "    if x[i - 1] < y[i - 1] and x[i] > y[i]:\n",
    "        return 1\n",
    "    else:\n",
    "        return 0\n",
    "\n",
    "\n",
    "@njit\n",
    "def crossdown(x, y, i):\n",
    "    if x[i - 1] > y[i - 1] and x[i] < y[i]:\n",
    "        return 1\n",
    "    else:\n",
    "        return 0\n",
    "\n",
    "\n",
    "@njit\n",
    "def gen_signal2(price, upper, middle, lower):\n",
    "\n",
    "    L = price.shape[0]\n",
    "    out = np.empty(L, dtype=np.int64)\n",
    "    out[0] = 0\n",
    "    i = 1\n",
    "\n",
    "    while i < L:\n",
    "                \n",
    "        if crossup(price, lower, i):\n",
    "            while not (crossup(price, middle, i) or crossdown(price, lower, i)) and i < L:\n",
    "                out[i] = 1\n",
    "                i += 1\n",
    "\n",
    "        elif crossdown(price, upper, i):\n",
    "            while not (crossdown(price, middle, i) or crossup(price, upper, i)) and i < L:\n",
    "                out[i] = -1\n",
    "                i += 1\n",
    "\n",
    "        \n",
    "        out[i] = 0      \n",
    "        i +=1\n",
    "          \n",
    "    return out\n",
    "\n",
    "out2 = gen_signal2(price, upper, middle, lower)\n",
    "%timeit -n100 -r100 gen_signal2(price, upper, middle, lower)"
   ]
  },
  {
   "cell_type": "code",
   "execution_count": 5,
   "id": "a4dff653",
   "metadata": {
    "ExecuteTime": {
     "end_time": "2021-04-12T21:14:55.047169Z",
     "start_time": "2021-04-12T21:14:55.043218Z"
    }
   },
   "outputs": [
    {
     "data": {
      "text/plain": [
       "array([ 0,  0,  0,  0,  0,  0,  0,  0,  0,  0,  0,  0,  0,  0,  0,  0,  0,\n",
       "        0,  0,  0,  0,  0,  0,  0,  0,  0, -1, -1, -1, -1,  0,  0,  0,  0,\n",
       "        0])"
      ]
     },
     "execution_count": 5,
     "metadata": {},
     "output_type": "execute_result"
    }
   ],
   "source": [
    "out2[:35]"
   ]
  },
  {
   "cell_type": "code",
   "execution_count": 5,
   "id": "6c1674d6",
   "metadata": {
    "ExecuteTime": {
     "end_time": "2021-04-12T21:41:58.001927Z",
     "start_time": "2021-04-12T21:41:57.880118Z"
    }
   },
   "outputs": [
    {
     "data": {
      "image/png": "[encoded data removed]",
      "text/plain": [
       "<Figure size 1080x216 with 1 Axes>"
      ]
     },
     "metadata": {
      "image/png": {
       "height": 192,
       "width": 886
      },
      "needs_background": "light"
     },
     "output_type": "display_data"
    }
   ],
   "source": [
    "plt.figure(figsize=(15, 3))\n",
    "plt.plot(price[8320:8330], c=\"black\")\n",
    "plt.plot(upper[8320:8330], c=\"red\")\n",
    "plt.plot(lower[8320:8330], c=\"green\")\n",
    "plt.plot(middle[8320:8330], c=\"blue\")\n",
    "plt.xticks(range(10));"
   ]
  },
  {
   "cell_type": "code",
   "execution_count": 20,
   "id": "2a1817c4",
   "metadata": {
    "ExecuteTime": {
     "end_time": "2021-04-12T21:47:05.527504Z",
     "start_time": "2021-04-12T21:47:04.131071Z"
    }
   },
   "outputs": [
    {
     "name": "stdout",
     "output_type": "stream",
     "text": [
      "The slowest run took 4.15 times longer than the fastest. This could mean that an intermediate result is being cached.\n",
      "90 µs ± 40.7 µs per loop (mean ± std. dev. of 100 runs, 100 loops each)\n"
     ]
    }
   ],
   "source": [
    "@njit(parallel=True)\n",
    "def gen_signal3(price, upper, middle, lower):\n",
    "\n",
    "    L = price.shape[0]\n",
    "    out = np.empty(L, dtype=np.int64)\n",
    "    out[0] = 0\n",
    "    lower_crossup = 0\n",
    "    upper_crossdown = 0\n",
    "    \n",
    "    for i in prange(1,L):\n",
    "\n",
    "        if crossup(price, lower, i):\n",
    "            crossup_lower = 1\n",
    "            \n",
    "        if crossdown(price, upper, i):\n",
    "            crossdown_upper = 1\n",
    "           \n",
    "        if crossup_lower:\n",
    "            out[i] = 1 \n",
    "            if crossup(price, middle, i) or crossdown(price, lower, i):\n",
    "                out[i] = 0\n",
    "                crossup_lower = 0\n",
    "            \n",
    "        elif crossdown_upper:\n",
    "            out[i] = - 1\n",
    "            if crossdown(price, middle, i) or crossup(price, upper, i):\n",
    "                out[i] = 0\n",
    "                crossdown_upper = 0\n",
    "                \n",
    "        else:\n",
    "            out[i] = 0\n",
    "          \n",
    "    return out\n",
    "\n",
    "out3 = gen_signal3(price, upper, middle, lower)\n",
    "%timeit -n100 -r100 gen_signal3(price, upper, middle, lower)"
   ]
  },
  {
   "cell_type": "code",
   "execution_count": 22,
   "id": "e8fd4cce",
   "metadata": {
    "ExecuteTime": {
     "end_time": "2021-04-12T21:48:04.229714Z",
     "start_time": "2021-04-12T21:47:59.530941Z"
    }
   },
   "outputs": [
    {
     "name": "stdout",
     "output_type": "stream",
     "text": [
      "442 µs ± 8.27 µs per loop (mean ± std. dev. of 100 runs, 100 loops each)\n"
     ]
    }
   ],
   "source": [
    "@njit\n",
    "def gen_signal4(price, upper, middle, lower):\n",
    "\n",
    "    L = price.shape[0]\n",
    "    out = np.empty(L, dtype=np.int64)\n",
    "    out[0] = 0\n",
    "    lower_crossup = 0\n",
    "    upper_crossdown = 0\n",
    "    \n",
    "    for i in range(1,L):\n",
    "\n",
    "        if crossup(price, lower, i):\n",
    "            crossup_lower = 1\n",
    "            \n",
    "        if crossdown(price, upper, i):\n",
    "            crossdown_upper = 1\n",
    "           \n",
    "        if crossup_lower:\n",
    "            out[i] = 1 \n",
    "            if crossup(price, middle, i) or crossdown(price, lower, i):\n",
    "                out[i] = 0\n",
    "                crossup_lower = 0\n",
    "            \n",
    "        elif crossdown_upper:\n",
    "            out[i] = - 1\n",
    "            if crossdown(price, middle, i) or crossup(price, upper, i):\n",
    "                out[i] = 0\n",
    "                crossdown_upper = 0\n",
    "                \n",
    "        else:\n",
    "            out[i] = 0\n",
    "          \n",
    "    return out\n",
    "\n",
    "out4 = gen_signal4(price, upper, middle, lower)\n",
    "%timeit -n100 -r100 gen_signal4(price, upper, middle, lower)"
   ]
  },
  {
   "cell_type": "code",
   "execution_count": 24,
   "id": "0b13f186",
   "metadata": {
    "ExecuteTime": {
     "end_time": "2021-04-12T21:48:38.142591Z",
     "start_time": "2021-04-12T21:48:38.134844Z"
    }
   },
   "outputs": [
    {
     "data": {
      "text/plain": [
       "False"
      ]
     },
     "execution_count": 24,
     "metadata": {},
     "output_type": "execute_result"
    }
   ],
   "source": [
    "np.allclose(out2, out3)"
   ]
  },
  {
   "cell_type": "code",
   "execution_count": 19,
   "id": "f578a50d",
   "metadata": {
    "ExecuteTime": {
     "end_time": "2021-04-12T21:46:14.167786Z",
     "start_time": "2021-04-12T21:46:14.159990Z"
    }
   },
   "outputs": [
    {
     "data": {
      "text/plain": [
       "False"
      ]
     },
     "execution_count": 19,
     "metadata": {},
     "output_type": "execute_result"
    }
   ],
   "source": [
    "np.allclose(out, out3)"
   ]
  },
  {
   "cell_type": "code",
   "execution_count": 23,
   "id": "dda7d205",
   "metadata": {
    "ExecuteTime": {
     "end_time": "2021-04-12T21:48:32.819291Z",
     "start_time": "2021-04-12T21:48:32.811159Z"
    }
   },
   "outputs": [
    {
     "data": {
      "text/plain": [
       "False"
      ]
     },
     "execution_count": 23,
     "metadata": {},
     "output_type": "execute_result"
    }
   ],
   "source": [
    "np.allclose(out4, out3)"
   ]
  },
  {
   "cell_type": "code",
   "execution_count": 25,
   "id": "c94aa6b2",
   "metadata": {
    "ExecuteTime": {
     "end_time": "2021-04-12T21:49:00.466048Z",
     "start_time": "2021-04-12T21:49:00.458135Z"
    }
   },
   "outputs": [
    {
     "data": {
      "text/plain": [
       "True"
      ]
     },
     "execution_count": 25,
     "metadata": {},
     "output_type": "execute_result"
    }
   ],
   "source": [
    "np.allclose(out4, out2)"
   ]
  },
  {
   "cell_type": "code",
   "execution_count": 9,
   "id": "a3109824",
   "metadata": {
    "ExecuteTime": {
     "end_time": "2021-04-12T21:41:59.537159Z",
     "start_time": "2021-04-12T21:41:59.430944Z"
    }
   },
   "outputs": [
    {
     "data": {
      "text/plain": [
       "8326"
      ]
     },
     "execution_count": 9,
     "metadata": {},
     "output_type": "execute_result"
    }
   ],
   "source": [
    "(out != out2).argmax()"
   ]
  },
  {
   "cell_type": "code",
   "execution_count": 10,
   "id": "f546068f",
   "metadata": {
    "ExecuteTime": {
     "end_time": "2021-04-12T21:41:59.645819Z",
     "start_time": "2021-04-12T21:41:59.538068Z"
    }
   },
   "outputs": [
    {
     "data": {
      "text/plain": [
       "array([-1,  0, -1, -1, -1, -1,  0,  0,  0,  0], dtype=int32)"
      ]
     },
     "execution_count": 10,
     "metadata": {},
     "output_type": "execute_result"
    }
   ],
   "source": [
    "out[8320:8330]"
   ]
  },
  {
   "cell_type": "code",
   "execution_count": 11,
   "id": "683f7088",
   "metadata": {
    "ExecuteTime": {
     "end_time": "2021-04-12T21:41:59.746030Z",
     "start_time": "2021-04-12T21:41:59.647513Z"
    }
   },
   "outputs": [
    {
     "data": {
      "text/plain": [
       "array([-1,  0, -1, -1, -1, -1, -1, -1,  0,  0])"
      ]
     },
     "execution_count": 11,
     "metadata": {},
     "output_type": "execute_result"
    }
   ],
   "source": [
    "out2[8320:8330]"
   ]
  },
  {
   "cell_type": "code",
   "execution_count": 12,
   "id": "1fd4fb4a",
   "metadata": {
    "ExecuteTime": {
     "end_time": "2021-04-12T21:41:59.871374Z",
     "start_time": "2021-04-12T21:41:59.747882Z"
    }
   },
   "outputs": [
    {
     "data": {
      "text/plain": [
       "array([ True,  True,  True, ...,  True,  True,  True])"
      ]
     },
     "execution_count": 12,
     "metadata": {},
     "output_type": "execute_result"
    }
   ],
   "source": [
    "(price > upper) | (price < middle)"
   ]
  },
  {
   "cell_type": "code",
   "execution_count": 13,
   "id": "7a86db94",
   "metadata": {
    "ExecuteTime": {
     "end_time": "2021-04-12T21:42:00.000729Z",
     "start_time": "2021-04-12T21:41:59.873360Z"
    }
   },
   "outputs": [
    {
     "data": {
      "text/html": [
       "<div>\n",
       "<style scoped>\n",
       "    .dataframe tbody tr th:only-of-type {\n",
       "        vertical-align: middle;\n",
       "    }\n",
       "\n",
       "    .dataframe tbody tr th {\n",
       "        vertical-align: top;\n",
       "    }\n",
       "\n",
       "    .dataframe thead th {\n",
       "        text-align: right;\n",
       "    }\n",
       "</style>\n",
       "<table border=\"1\" class=\"dataframe\">\n",
       "  <thead>\n",
       "    <tr style=\"text-align: right;\">\n",
       "      <th></th>\n",
       "      <th>price</th>\n",
       "      <th>upper</th>\n",
       "      <th>middle</th>\n",
       "      <th>crossup</th>\n",
       "    </tr>\n",
       "  </thead>\n",
       "  <tbody>\n",
       "    <tr>\n",
       "      <th>8320</th>\n",
       "      <td>0.501111</td>\n",
       "      <td>0.505457</td>\n",
       "      <td>0.495143</td>\n",
       "      <td>False</td>\n",
       "    </tr>\n",
       "    <tr>\n",
       "      <th>8321</th>\n",
       "      <td>0.505840</td>\n",
       "      <td>0.505383</td>\n",
       "      <td>0.495587</td>\n",
       "      <td>True</td>\n",
       "    </tr>\n",
       "    <tr>\n",
       "      <th>8322</th>\n",
       "      <td>0.502814</td>\n",
       "      <td>0.505389</td>\n",
       "      <td>0.495917</td>\n",
       "      <td>False</td>\n",
       "    </tr>\n",
       "    <tr>\n",
       "      <th>8323</th>\n",
       "      <td>0.498446</td>\n",
       "      <td>0.505419</td>\n",
       "      <td>0.496127</td>\n",
       "      <td>False</td>\n",
       "    </tr>\n",
       "    <tr>\n",
       "      <th>8324</th>\n",
       "      <td>0.501504</td>\n",
       "      <td>0.505486</td>\n",
       "      <td>0.496364</td>\n",
       "      <td>False</td>\n",
       "    </tr>\n",
       "    <tr>\n",
       "      <th>8325</th>\n",
       "      <td>0.501341</td>\n",
       "      <td>0.505592</td>\n",
       "      <td>0.496520</td>\n",
       "      <td>False</td>\n",
       "    </tr>\n",
       "    <tr>\n",
       "      <th>8326</th>\n",
       "      <td>0.505504</td>\n",
       "      <td>0.505766</td>\n",
       "      <td>0.496726</td>\n",
       "      <td>False</td>\n",
       "    </tr>\n",
       "    <tr>\n",
       "      <th>8327</th>\n",
       "      <td>0.500925</td>\n",
       "      <td>0.505852</td>\n",
       "      <td>0.496897</td>\n",
       "      <td>False</td>\n",
       "    </tr>\n",
       "    <tr>\n",
       "      <th>8328</th>\n",
       "      <td>0.492012</td>\n",
       "      <td>0.505852</td>\n",
       "      <td>0.496977</td>\n",
       "      <td>True</td>\n",
       "    </tr>\n",
       "    <tr>\n",
       "      <th>8329</th>\n",
       "      <td>0.489389</td>\n",
       "      <td>0.505841</td>\n",
       "      <td>0.497036</td>\n",
       "      <td>True</td>\n",
       "    </tr>\n",
       "  </tbody>\n",
       "</table>\n",
       "</div>"
      ],
      "text/plain": [
       "         price     upper    middle  crossup\n",
       "8320  0.501111  0.505457  0.495143    False\n",
       "8321  0.505840  0.505383  0.495587     True\n",
       "8322  0.502814  0.505389  0.495917    False\n",
       "8323  0.498446  0.505419  0.496127    False\n",
       "8324  0.501504  0.505486  0.496364    False\n",
       "8325  0.501341  0.505592  0.496520    False\n",
       "8326  0.505504  0.505766  0.496726    False\n",
       "8327  0.500925  0.505852  0.496897    False\n",
       "8328  0.492012  0.505852  0.496977     True\n",
       "8329  0.489389  0.505841  0.497036     True"
      ]
     },
     "execution_count": 13,
     "metadata": {},
     "output_type": "execute_result"
    }
   ],
   "source": [
    "pd.DataFrame(\n",
    "    {\"price\": price, \"upper\": upper, \"middle\": middle, \"crossup\": (price > upper)|(price < middle)}\n",
    ")[8320:8330]"
   ]
  }
 ],
 "metadata": {
  "kernelspec": {
   "display_name": "Python 3",
   "language": "python",
   "name": "python3"
  },
  "language_info": {
   "codemirror_mode": {
    "name": "ipython",
    "version": 3
   },
   "file_extension": ".py",
   "mimetype": "text/x-python",
   "name": "python",
   "nbconvert_exporter": "python",
   "pygments_lexer": "ipython3",
   "version": "3.9.2"
  },
  "toc": {
   "base_numbering": 1,
   "nav_menu": {},
   "number_sections": true,
   "sideBar": true,
   "skip_h1_title": false,
   "title_cell": "Table of Contents",
   "title_sidebar": "Contents",
   "toc_cell": true,
   "toc_position": {},
   "toc_section_display": true,
   "toc_window_display": false
  }
 },
 "nbformat": 4,
 "nbformat_minor": 5
}
