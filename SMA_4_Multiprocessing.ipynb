{
 "cells": [
  {
   "cell_type": "markdown",
   "metadata": {
    "toc": true
   },
   "source": [
    "<h1>Table of Contents<span class=\"tocSkip\"></span></h1>\n",
    "<div class=\"toc\"><ul class=\"toc-item\"></ul></div>"
   ]
  },
  {
   "cell_type": "code",
   "execution_count": 7,
   "metadata": {},
   "outputs": [
    {
     "data": {
      "text/html": [
       "<div>\n",
       "<style scoped>\n",
       "    .dataframe tbody tr th:only-of-type {\n",
       "        vertical-align: middle;\n",
       "    }\n",
       "\n",
       "    .dataframe tbody tr th {\n",
       "        vertical-align: top;\n",
       "    }\n",
       "\n",
       "    .dataframe thead th {\n",
       "        text-align: right;\n",
       "    }\n",
       "</style>\n",
       "<table border=\"1\" class=\"dataframe\">\n",
       "  <thead>\n",
       "    <tr style=\"text-align: right;\">\n",
       "      <th></th>\n",
       "      <th>ticker</th>\n",
       "      <th>High</th>\n",
       "      <th>Low</th>\n",
       "      <th>Open</th>\n",
       "      <th>Close</th>\n",
       "      <th>Volume</th>\n",
       "      <th>Adj Close</th>\n",
       "    </tr>\n",
       "    <tr>\n",
       "      <th>Date</th>\n",
       "      <th></th>\n",
       "      <th></th>\n",
       "      <th></th>\n",
       "      <th></th>\n",
       "      <th></th>\n",
       "      <th></th>\n",
       "      <th></th>\n",
       "    </tr>\n",
       "  </thead>\n",
       "  <tbody>\n",
       "    <tr>\n",
       "      <th>2015-12-18</th>\n",
       "      <td>GAZP.ME</td>\n",
       "      <td>137.389999</td>\n",
       "      <td>132.250000</td>\n",
       "      <td>137.289993</td>\n",
       "      <td>132.250000</td>\n",
       "      <td>38544860.0</td>\n",
       "      <td>132.250000</td>\n",
       "    </tr>\n",
       "    <tr>\n",
       "      <th>2015-12-21</th>\n",
       "      <td>GAZP.ME</td>\n",
       "      <td>133.940002</td>\n",
       "      <td>131.000000</td>\n",
       "      <td>132.000000</td>\n",
       "      <td>131.500000</td>\n",
       "      <td>28393100.0</td>\n",
       "      <td>131.500000</td>\n",
       "    </tr>\n",
       "    <tr>\n",
       "      <th>2015-12-22</th>\n",
       "      <td>GAZP.ME</td>\n",
       "      <td>133.539993</td>\n",
       "      <td>131.809998</td>\n",
       "      <td>132.000000</td>\n",
       "      <td>133.199997</td>\n",
       "      <td>20022420.0</td>\n",
       "      <td>133.199997</td>\n",
       "    </tr>\n",
       "    <tr>\n",
       "      <th>2015-12-23</th>\n",
       "      <td>GAZP.ME</td>\n",
       "      <td>135.300003</td>\n",
       "      <td>133.350006</td>\n",
       "      <td>133.550003</td>\n",
       "      <td>135.300003</td>\n",
       "      <td>26760910.0</td>\n",
       "      <td>135.300003</td>\n",
       "    </tr>\n",
       "    <tr>\n",
       "      <th>2015-12-24</th>\n",
       "      <td>GAZP.ME</td>\n",
       "      <td>138.080002</td>\n",
       "      <td>134.449997</td>\n",
       "      <td>135.850006</td>\n",
       "      <td>136.000000</td>\n",
       "      <td>36828650.0</td>\n",
       "      <td>136.000000</td>\n",
       "    </tr>\n",
       "  </tbody>\n",
       "</table>\n",
       "</div>"
      ],
      "text/plain": [
       "             ticker        High         Low        Open       Close  \\\n",
       "Date                                                                  \n",
       "2015-12-18  GAZP.ME  137.389999  132.250000  137.289993  132.250000   \n",
       "2015-12-21  GAZP.ME  133.940002  131.000000  132.000000  131.500000   \n",
       "2015-12-22  GAZP.ME  133.539993  131.809998  132.000000  133.199997   \n",
       "2015-12-23  GAZP.ME  135.300003  133.350006  133.550003  135.300003   \n",
       "2015-12-24  GAZP.ME  138.080002  134.449997  135.850006  136.000000   \n",
       "\n",
       "                Volume   Adj Close  \n",
       "Date                                \n",
       "2015-12-18  38544860.0  132.250000  \n",
       "2015-12-21  28393100.0  131.500000  \n",
       "2015-12-22  20022420.0  133.199997  \n",
       "2015-12-23  26760910.0  135.300003  \n",
       "2015-12-24  36828650.0  136.000000  "
      ]
     },
     "execution_count": 7,
     "metadata": {},
     "output_type": "execute_result"
    }
   ],
   "source": [
    "import backtesting\n",
    "from backtesting import Backtest, Strategy\n",
    "from backtesting.lib import crossover\n",
    "from backtesting.test import SMA\n",
    "import pandas_datareader.data as dtr\n",
    "import requests_cache\n",
    "import datetime\n",
    "from tqdm.notebook import tqdm\n",
    "from concurrent import futures\n",
    "expire_after = datetime.timedelta(days = 7)\n",
    "session = requests_cache.CachedSession(cache_name='cache', backend='sqlite', expire_after=expire_after)\n",
    "\n",
    "tickers = [\"LNTA.ME\",\"MGNT.ME\",\"PIKK.ME\",\n",
    "           \"MTSS.ME\",\"MGTS.ME\",\"RTKM.ME\",\n",
    "           \"ROSN.ME\",\"GAZP.ME\",\"NVTK.ME\",\"LKOH.ME\",\"TATN.ME\",\"SNGS.ME\",\"SIBN.ME\",\n",
    "           \"PLZL.ME\",\"NLMK.ME\",\"CHMF.ME\",\"POLY.ME\",\"RUAL.ME\",\"ALRS.ME\",\n",
    "           \"SBER.ME\",\"VTBR.ME\",\"MOEX.ME\",\"CBOM.ME\",\"YNDX.ME\",\"CBOM.ME\",\"ROSB.ME\",\n",
    "           \"HYDR.ME\",\"RSTI.ME\",\"FEES.ME\"\n",
    "          ]\n",
    "\n",
    "df = pd.DataFrame()\n",
    "\n",
    "for ticker in tickers:\n",
    "    try:\n",
    "        df_ = dtr.DataReader(ticker, data_source=\"yahoo\" , session=session, retry_count=1)\n",
    "        df_.insert(0, \"ticker\", ticker)\n",
    "    except:\n",
    "        print(f\"ticker '{ticker}' failed\")\n",
    "        pass\n",
    "    df = df.append(df_)\n",
    "\n",
    "GAZP = df[df.ticker == \"GAZP.ME\"]\n",
    "GAZP.head()"
   ]
  },
  {
   "cell_type": "code",
   "execution_count": 9,
   "metadata": {},
   "outputs": [],
   "source": [
    "class Sma4Cross(Strategy):\n",
    "    n1 = 50\n",
    "    n2 = 100\n",
    "    n_enter = 20\n",
    "    n_exit = 10\n",
    "    \n",
    "    def init(self):\n",
    "        self.sma1 = self.I(SMA, self.data.Close, self.n1)\n",
    "        self.sma2 = self.I(SMA, self.data.Close, self.n2)\n",
    "        self.sma_enter = self.I(SMA, self.data.Close, self.n_enter)\n",
    "        self.sma_exit = self.I(SMA, self.data.Close, self.n_exit)\n",
    "        \n",
    "    def next(self):\n",
    "        \n",
    "        if not self.position:\n",
    "            \n",
    "            # On upwards trend, if price closes above\n",
    "            # \"entry\" MA, go long\n",
    "            \n",
    "            # self.sma1 and self.sma2 are of class Indicator\n",
    "            # thus the last value is used for comparison\n",
    "            # this is unlike usual nd.arrays\n",
    "            if self.sma1 > self.sma2:\n",
    "                if crossover(self.data.Close, self.sma_enter):\n",
    "                    self.buy()\n",
    "                    \n",
    "            # On downwards trend, if price closes below\n",
    "            # \"entry\" MA, go short\n",
    "            \n",
    "            else:\n",
    "                if crossover(self.sma_enter, self.data.Close):\n",
    "                    self.sell()\n",
    "        \n",
    "        # But if we already hold a position and the price\n",
    "        # closes back below (above) \"exit\" MA, close the position\n",
    "        \n",
    "        else:\n",
    "            if (self.position.is_long and\n",
    "                crossover(self.sma_exit, self.data.Close)\n",
    "                or\n",
    "                self.position.is_short and\n",
    "                crossover(self.data.Close, self.sma_exit)):\n",
    "                \n",
    "                self.position.close()\n",
    "       \n",
    "backtest = Backtest(GAZP, Sma4Cross, commission=.002)"
   ]
  },
  {
   "cell_type": "code",
   "execution_count": 10,
   "metadata": {},
   "outputs": [
    {
     "name": "stderr",
     "output_type": "stream",
     "text": [
      "/home/sergey/anaconda3/lib/python3.7/site-packages/backtesting/backtesting.py:1468: UserWarning: Searching for best of 7188 configurations.\n",
      "  output = _optimize_grid()\n"
     ]
    },
    {
     "data": {
      "application/vnd.jupyter.widget-view+json": {
       "model_id": "",
       "version_major": 2,
       "version_minor": 0
      },
      "text/plain": [
       "HBox(children=(HTML(value=''), FloatProgress(value=0.0, max=24.0), HTML(value='')))"
      ]
     },
     "metadata": {},
     "output_type": "display_data"
    },
    {
     "name": "stdout",
     "output_type": "stream",
     "text": [
      "CPU times: user 593 ms, sys: 53.1 ms, total: 646 ms\n",
      "Wall time: 1min 9s\n"
     ]
    },
    {
     "data": {
      "text/plain": [
       "8.135738398587943"
      ]
     },
     "execution_count": 10,
     "metadata": {},
     "output_type": "execute_result"
    }
   ],
   "source": [
    "stats, heatmap = backtest.optimize(\n",
    "    n1=range(10, 50, 3),\n",
    "    n2=range(20, 100, 3),\n",
    "    n_enter=range(10, 50, 3),\n",
    "    n_exit=range(10, 50, 3),\n",
    "    constraint=lambda p: p.n_exit < p.n_enter < p.n1 < p.n2,\n",
    "    maximize='Equity Final [$]',\n",
    "    max_tries=None,\n",
    "    random_state=0,\n",
    "    method=\"grid\",\n",
    "    return_heatmap=True,   \n",
    ")\n",
    "stats['Return (Ann.) [%]']"
   ]
  },
  {
   "cell_type": "code",
   "execution_count": 43,
   "metadata": {},
   "outputs": [
    {
     "data": {
      "image/png": "[encoded data removed]",
      "text/plain": [
       "<Figure size 432x288 with 2 Axes>"
      ]
     },
     "metadata": {
      "needs_background": "light"
     },
     "output_type": "display_data"
    }
   ],
   "source": [
    "hm=heatmap.groupby([\"n1\",\"n2\"]).agg(\"mean\").unstack(\"n1\")\n",
    "\n",
    "plt.pcolor(hm, cmap=\"RdBu_r\")\n",
    "plt.colorbar();"
   ]
  },
  {
   "cell_type": "code",
   "execution_count": 3,
   "metadata": {},
   "outputs": [],
   "source": [
    "params = []\n",
    "for n1 in range(10, 50, 3):\n",
    "    for n2 in range(20, 100, 3):\n",
    "        for n_enter in range(10, 50, 3):\n",
    "            for n_exit in range(10, 50, 3):\n",
    "                if n_exit < n_enter < n1 < n2:\n",
    "                    params.append({\"n1\":n1,\"n2\":n2,\"n_exit\":n_exit,\"n_enter\":n_enter})"
   ]
  },
  {
   "cell_type": "code",
   "execution_count": 88,
   "metadata": {},
   "outputs": [
    {
     "name": "stdout",
     "output_type": "stream",
     "text": [
      "CPU times: user 7min 20s, sys: 260 ms, total: 7min 21s\n",
      "Wall time: 7min 20s\n"
     ]
    }
   ],
   "source": [
    "%%time\n",
    "for param in params:\n",
    "    backtest.run(**param)"
   ]
  },
  {
   "cell_type": "code",
   "execution_count": 40,
   "metadata": {},
   "outputs": [
    {
     "name": "stdout",
     "output_type": "stream",
     "text": [
      "0:01:15.606029\n"
     ]
    }
   ],
   "source": [
    "from datetime import datetime\n",
    "start = datetime.now()\n",
    "\n",
    "def backtest_wrapper(x):\n",
    "    return backtest.run(**x)\n",
    "\n",
    "with futures.ProcessPoolExecutor() as executor:\n",
    "    ## can't use lambda cause it's not serializable\n",
    "    stats = executor.map(backtest_wrapper, params) \n",
    "    \n",
    "print(datetime.now() - start)\n",
    "# 0:01:17.346338"
   ]
  },
  {
   "cell_type": "code",
   "execution_count": 6,
   "metadata": {},
   "outputs": [
    {
     "name": "stdout",
     "output_type": "stream",
     "text": [
      "CPU times: user 1.15 s, sys: 57.7 ms, total: 1.21 s\n",
      "Wall time: 1.21 s\n"
     ]
    },
    {
     "data": {
      "text/plain": [
       "1.7165487220489606"
      ]
     },
     "execution_count": 6,
     "metadata": {},
     "output_type": "execute_result"
    }
   ],
   "source": [
    "%%time\n",
    "stats = backtest.optimize(\n",
    "    n1=range(10, 50, 3),\n",
    "    n2=range(20, 100, 3),\n",
    "    n_enter=range(10, 50, 3),\n",
    "    n_exit=range(10, 50, 3),\n",
    "    constraint=lambda p: p.n_exit < p.n_enter < p.n1 < p.n2,\n",
    "    maximize='Equity Final [$]',\n",
    "    max_tries=30,\n",
    "    random_state=42,\n",
    "    method=\"skopt\"\n",
    ")\n",
    "stats['Return (Ann.) [%]']"
   ]
  }
 ],
 "metadata": {
  "kernelspec": {
   "display_name": "Python 3",
   "language": "python",
   "name": "python3"
  },
  "language_info": {
   "codemirror_mode": {
    "name": "ipython",
    "version": 3
   },
   "file_extension": ".py",
   "mimetype": "text/x-python",
   "name": "python",
   "nbconvert_exporter": "python",
   "pygments_lexer": "ipython3",
   "version": "3.9.2"
  },
  "toc": {
   "base_numbering": 1,
   "nav_menu": {},
   "number_sections": true,
   "sideBar": true,
   "skip_h1_title": false,
   "title_cell": "Table of Contents",
   "title_sidebar": "Contents",
   "toc_cell": true,
   "toc_position": {},
   "toc_section_display": true,
   "toc_window_display": false
  }
 },
 "nbformat": 4,
 "nbformat_minor": 4
}
