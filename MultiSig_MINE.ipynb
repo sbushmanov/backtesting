{
 "cells": [
  {
   "cell_type": "markdown",
   "id": "f34b76a8",
   "metadata": {
    "toc": true
   },
   "source": [
    "<h1>Table of Contents<span class=\"tocSkip\"></span></h1>\n",
    "<div class=\"toc\"><ul class=\"toc-item\"></ul></div>"
   ]
  },
  {
   "cell_type": "code",
   "execution_count": 1,
   "id": "f33c50c7",
   "metadata": {
    "ExecuteTime": {
     "end_time": "2021-05-30T17:22:52.527085Z",
     "start_time": "2021-05-30T17:22:52.085171Z"
    }
   },
   "outputs": [],
   "source": [
    "from numba import njit, int64, float64, types, typeof\n",
    "from numba.types import Array, string, boolean, UniTuple, Tuple, DictType\n",
    "from numba.experimental import jitclass\n",
    "\n",
    "np.random.seed(42)\n",
    "x = np.random.randn(1000000)\n",
    "y = np.random.randn(1000000)\n",
    "z = np.random.randn(1000000)\n",
    "\n",
    "# Example of \"human-readable\" signals\n",
    "entry_sig_ = ((x, y, \"crossup\", False),)\n",
    "exit_sig_ = ((x, z, \"crossup\", False), \"or_\", (x, y, \"crossdown\", False))\n",
    "\n",
    "# Turn signals into homogeneous tuple\n",
    "# entry_sig_\n",
    "entry_sig = (((x, y, \"crossup\", False), \"NOP\"),)\n",
    "# exit_sig_\n",
    "exit_sig = (((x, z, \"crossup\", False), \"or_\"), ((x, y, \"crossdown\", False), \"NOP\"))\n",
    "\n",
    "\n",
    "@njit\n",
    "def crossup(x, y, i):\n",
    "    \"\"\"\n",
    "    x,y: np.array\n",
    "    i: int - point in time\n",
    "    Returns: 1 or 0 when condition is met\n",
    "    \"\"\"\n",
    "    if x[i - 1] < y[i - 1] and x[i] > y[i]:\n",
    "        out = True\n",
    "    else:\n",
    "        out = False\n",
    "    return out\n",
    "\n",
    "\n",
    "@njit\n",
    "def crossdown(x, y, i):\n",
    "    if x[i - 1] > y[i - 1] and x[i] < y[i]:\n",
    "        out = True\n",
    "    else:\n",
    "        out = False\n",
    "    return out\n",
    "\n",
    "sig_dt = Tuple([Tuple([Array(float64, 1,\"C\"), Array(float64, 1, \"C\"), string, boolean]), string])\n",
    "\n",
    "\n",
    "spec = [(\"memory\", boolean[:]), (\"signals\", DictType(int64, sig_dt)), (\"L\", int64)]\n",
    "\n",
    "\n",
    "@jitclass(spec)\n",
    "class MultiSig:\n",
    "    def __init__(self, signals):\n",
    "        L = len(signals)\n",
    "        self.memory = np.array([False] * L)\n",
    "        self.signals = {0: signals[0]}\n",
    "        for i in range(1, L):\n",
    "            self.signals[i] = signals[i]\n",
    "        self.L = L\n",
    "\n",
    "    def single_sig(self, signal, i, n):\n",
    "        \"\"\"\n",
    "        Accepts:\n",
    "            - signal: tuple of 4 fields\n",
    "            - i: int - point in time\n",
    "            - n: int - consequetive number of the signal\n",
    "        Updates:\n",
    "            - corresponding memory field\n",
    "        Returns:\n",
    "            - boolean accounting for memory\n",
    "        \"\"\"\n",
    "        x, y, how, acc = signal\n",
    "        if how == \"crossup\":\n",
    "            out = crossup(x, y, i)\n",
    "        elif how == \"crossdown\":\n",
    "            out = crossdown(x, y, i)\n",
    "        out = out | self.memory[n]\n",
    "        if acc:\n",
    "            self.memory[n] = out\n",
    "        return out\n",
    "\n",
    "    def sig(self, i):\n",
    "        s, logic = self.signals[0]\n",
    "        out = self.single_sig(s, i, 0)\n",
    "        for cnt in range(1, self.L):\n",
    "            s = self.single_sig(self.signals[cnt][0], i, cnt)\n",
    "            out = out | s if logic == \"or_\" else out & s\n",
    "            logic = self.signals[cnt][1]\n",
    "        return out\n",
    "\n",
    "    def reset(self):\n",
    "        self.memory = np.array([False] * self.L)"
   ]
  },
  {
   "cell_type": "code",
   "execution_count": 2,
   "id": "5983f981",
   "metadata": {
    "ExecuteTime": {
     "end_time": "2021-05-30T17:22:54.196788Z",
     "start_time": "2021-05-30T17:22:52.528228Z"
    }
   },
   "outputs": [
    {
     "data": {
      "text/plain": [
       "False"
      ]
     },
     "execution_count": 2,
     "metadata": {},
     "output_type": "execute_result"
    }
   ],
   "source": [
    "ms = MultiSig(entry_sig)\n",
    "ms.sig(11)"
   ]
  }
 ],
 "metadata": {
  "kernelspec": {
   "display_name": "Python 3",
   "language": "python",
   "name": "python3"
  },
  "language_info": {
   "codemirror_mode": {
    "name": "ipython",
    "version": 3
   },
   "file_extension": ".py",
   "mimetype": "text/x-python",
   "name": "python",
   "nbconvert_exporter": "python",
   "pygments_lexer": "ipython3",
   "version": "3.9.4"
  },
  "toc": {
   "base_numbering": 1,
   "nav_menu": {},
   "number_sections": true,
   "sideBar": true,
   "skip_h1_title": false,
   "title_cell": "Table of Contents",
   "title_sidebar": "Contents",
   "toc_cell": true,
   "toc_position": {},
   "toc_section_display": true,
   "toc_window_display": false
  }
 },
 "nbformat": 4,
 "nbformat_minor": 5
}
