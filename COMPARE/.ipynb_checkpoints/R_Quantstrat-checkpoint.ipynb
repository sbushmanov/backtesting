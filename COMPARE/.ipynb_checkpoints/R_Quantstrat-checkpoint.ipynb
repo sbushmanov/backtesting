{
 "cells": [
  {
   "cell_type": "markdown",
   "id": "38eebbd1",
   "metadata": {
    "toc": true
   },
   "source": [
    "<h1>Table of Contents<span class=\"tocSkip\"></span></h1>\n",
    "<div class=\"toc\"><ul class=\"toc-item\"></ul></div>"
   ]
  },
  {
   "cell_type": "code",
   "execution_count": 1,
   "id": "5927994e",
   "metadata": {
    "ExecuteTime": {
     "end_time": "2021-05-09T13:00:32.740047Z",
     "start_time": "2021-05-09T13:00:32.483Z"
    }
   },
   "outputs": [],
   "source": [
    "suppressMessages(\n",
    "    library(quantstrat)\n",
    ")\n",
    "options(\"width\"=120)"
   ]
  },
  {
   "cell_type": "code",
   "execution_count": 2,
   "id": "8eef72b5",
   "metadata": {
    "ExecuteTime": {
     "end_time": "2021-05-09T13:00:35.789557Z",
     "start_time": "2021-05-09T13:00:32.487Z"
    }
   },
   "outputs": [
    {
     "data": {
      "text/html": [
       "'RUB'"
      ],
      "text/latex": [
       "'RUB'"
      ],
      "text/markdown": [
       "'RUB'"
      ],
      "text/plain": [
       "[1] \"RUB\""
      ]
     },
     "metadata": {},
     "output_type": "display_data"
    },
    {
     "data": {
      "text/html": [
       "'GAZP'"
      ],
      "text/latex": [
       "'GAZP'"
      ],
      "text/markdown": [
       "'GAZP'"
      ],
      "text/plain": [
       "[1] \"GAZP\""
      ]
     },
     "metadata": {},
     "output_type": "display_data"
    },
    {
     "data": {
      "text/html": [
       "'BBANDS'"
      ],
      "text/latex": [
       "'BBANDS'"
      ],
      "text/markdown": [
       "'BBANDS'"
      ],
      "text/plain": [
       "[1] \"BBANDS\""
      ]
     },
     "metadata": {},
     "output_type": "display_data"
    },
    {
     "data": {
      "text/html": [
       "'BBANDS'"
      ],
      "text/latex": [
       "'BBANDS'"
      ],
      "text/markdown": [
       "'BBANDS'"
      ],
      "text/plain": [
       "[1] \"BBANDS\""
      ]
     },
     "metadata": {},
     "output_type": "display_data"
    }
   ],
   "source": [
    "GAZP <- read.csv('../gazp.csv')\n",
    "GAZP$Date <- as.POSIXct(strptime(GAZP$Date, format=\"%Y-%m-%d %H:%M:%S\"))\n",
    "GAZP <- as.xts(GAZP[c(\"Open\",\"High\",\"Low\",\"Close\",\"Volume\")], order.by=GAZP$Date)\n",
    "GAZP <- GAZP[1:150]\n",
    "\n",
    "symbols <- c('GAZP')\n",
    "currency(\"RUB\")\n",
    "stock(symbols, 'RUB')\n",
    "initDate <- \"2007-01-01\"\n",
    "initEq <- 1e5\n",
    "nm <- \"BBANDS\"\n",
    "\n",
    "initPortf(nm, symbols = symbols, curr=\"RUB\")\n",
    "initAcct(nm, nm, initEq = initEq, curr = \"RUB\")\n",
    "initOrders(nm, symbols = symbols)\n",
    "\n",
    "st <- 'bbands'\n",
    "strategy(st, store=TRUE)"
   ]
  },
  {
   "cell_type": "code",
   "execution_count": 3,
   "id": "2d35458b",
   "metadata": {
    "ExecuteTime": {
     "end_time": "2021-05-09T13:00:35.798770Z",
     "start_time": "2021-05-09T13:00:32.490Z"
    }
   },
   "outputs": [],
   "source": [
    "fee <- function(TxnQty, TxnPrice, Symbol, pct=.0003) {\n",
    "  # A function for computing a transaction fee that is 2% of total value of\n",
    "  # transaction\n",
    "  #\n",
    "  # Args:\n",
    "  #   TxnQty: Numeric for number of shares being traded\n",
    "  #   TxnPrice: Numeric for price per share\n",
    "  #   Symbol: The symbol being traded (not used here, but will be passed)\n",
    "  #\n",
    "  # Returns:\n",
    "  #   The fee to be applied\n",
    "  \n",
    "  return(-pct * abs(TxnQty * TxnPrice))\n",
    "}"
   ]
  },
  {
   "cell_type": "code",
   "execution_count": 4,
   "id": "b8b4ed10",
   "metadata": {
    "ExecuteTime": {
     "end_time": "2021-05-09T13:00:35.850777Z",
     "start_time": "2021-05-09T13:00:32.495Z"
    }
   },
   "outputs": [
    {
     "data": {
      "text/html": [
       "'bbands'"
      ],
      "text/latex": [
       "'bbands'"
      ],
      "text/markdown": [
       "'bbands'"
      ],
      "text/plain": [
       "[1] \"bbands\""
      ]
     },
     "metadata": {},
     "output_type": "display_data"
    },
    {
     "data": {
      "text/html": [
       "'bbands'"
      ],
      "text/latex": [
       "'bbands'"
      ],
      "text/markdown": [
       "'bbands'"
      ],
      "text/plain": [
       "[1] \"bbands\""
      ]
     },
     "metadata": {},
     "output_type": "display_data"
    },
    {
     "data": {
      "text/html": [
       "'bbands'"
      ],
      "text/latex": [
       "'bbands'"
      ],
      "text/markdown": [
       "'bbands'"
      ],
      "text/plain": [
       "[1] \"bbands\""
      ]
     },
     "metadata": {},
     "output_type": "display_data"
    },
    {
     "data": {
      "text/html": [
       "'bbands'"
      ],
      "text/latex": [
       "'bbands'"
      ],
      "text/markdown": [
       "'bbands'"
      ],
      "text/plain": [
       "[1] \"bbands\""
      ]
     },
     "metadata": {},
     "output_type": "display_data"
    },
    {
     "data": {
      "text/html": [
       "'bbands'"
      ],
      "text/latex": [
       "'bbands'"
      ],
      "text/markdown": [
       "'bbands'"
      ],
      "text/plain": [
       "[1] \"bbands\""
      ]
     },
     "metadata": {},
     "output_type": "display_data"
    },
    {
     "data": {
      "text/html": [
       "'bbands'"
      ],
      "text/latex": [
       "'bbands'"
      ],
      "text/markdown": [
       "'bbands'"
      ],
      "text/plain": [
       "[1] \"bbands\""
      ]
     },
     "metadata": {},
     "output_type": "display_data"
    },
    {
     "data": {
      "text/html": [
       "'bbands'"
      ],
      "text/latex": [
       "'bbands'"
      ],
      "text/markdown": [
       "'bbands'"
      ],
      "text/plain": [
       "[1] \"bbands\""
      ]
     },
     "metadata": {},
     "output_type": "display_data"
    },
    {
     "data": {
      "text/html": [
       "'bbands'"
      ],
      "text/latex": [
       "'bbands'"
      ],
      "text/markdown": [
       "'bbands'"
      ],
      "text/plain": [
       "[1] \"bbands\""
      ]
     },
     "metadata": {},
     "output_type": "display_data"
    },
    {
     "data": {
      "text/html": [
       "'bbands'"
      ],
      "text/latex": [
       "'bbands'"
      ],
      "text/markdown": [
       "'bbands'"
      ],
      "text/plain": [
       "[1] \"bbands\""
      ]
     },
     "metadata": {},
     "output_type": "display_data"
    },
    {
     "data": {
      "text/html": [
       "'bbands'"
      ],
      "text/latex": [
       "'bbands'"
      ],
      "text/markdown": [
       "'bbands'"
      ],
      "text/plain": [
       "[1] \"bbands\""
      ]
     },
     "metadata": {},
     "output_type": "display_data"
    },
    {
     "data": {
      "text/html": [
       "'bbands'"
      ],
      "text/latex": [
       "'bbands'"
      ],
      "text/markdown": [
       "'bbands'"
      ],
      "text/plain": [
       "[1] \"bbands\""
      ]
     },
     "metadata": {},
     "output_type": "display_data"
    },
    {
     "data": {
      "text/html": [
       "'bbands'"
      ],
      "text/latex": [
       "'bbands'"
      ],
      "text/markdown": [
       "'bbands'"
      ],
      "text/plain": [
       "[1] \"bbands\""
      ]
     },
     "metadata": {},
     "output_type": "display_data"
    },
    {
     "data": {
      "text/html": [
       "'bbands'"
      ],
      "text/latex": [
       "'bbands'"
      ],
      "text/markdown": [
       "'bbands'"
      ],
      "text/plain": [
       "[1] \"bbands\""
      ]
     },
     "metadata": {},
     "output_type": "display_data"
    }
   ],
   "source": [
    "add.indicator(\n",
    "    strategy = st,\n",
    "    name = 'BBands',\n",
    "    arguments = list(HLC=quote(Cl(mktdata))),\n",
    "#     arguments = list(HLC=quote(HLC(mktdata))),\n",
    "    label='BBands',\n",
    "    store=TRUE\n",
    ")\n",
    "\n",
    "#enter long\n",
    "add.signal(\n",
    "    strategy = st,\n",
    "    name = \"sigCrossover\",\n",
    "    arguments = list(columns=c(\"Close\", \"dn.BBands\"),relationships=\"gt\"),\n",
    "    label=\"Cl.gt.dn\",\n",
    "    store=TRUE\n",
    ")\n",
    "\n",
    "#exit long\n",
    "add.signal(\n",
    "    strategy = st,\n",
    "    name = \"sigCrossover\",\n",
    "    arguments = list(columns=c(\"Close\", \"mavg.BBands\"),relationship=\"gt\"),\n",
    "    label=\"Cl.gt.mid\",\n",
    "    store=TRUE\n",
    ")\n",
    "\n",
    "#exit long\n",
    "add.signal(\n",
    "    strategy = st,\n",
    "    name = \"sigCrossover\",\n",
    "    arguments = list(columns=c(\"dn.BBands\", \"Close\"),relationships=\"gt\"),\n",
    "    label=\"Cl.lt.dn\",\n",
    "    store=TRUE\n",
    ")  \n",
    "\n",
    "#enter short\n",
    "add.signal(\n",
    "    strategy = st,\n",
    "    name = \"sigCrossover\",\n",
    "    arguments = list(columns=c(\"up.BBands\", \"Close\"),relationships=\"gt\"),\n",
    "    label=\"Cl.lt.up\",\n",
    "    store=TRUE\n",
    ")\n",
    "\n",
    "#exit short\n",
    "add.signal(\n",
    "    strategy = st,\n",
    "    name = \"sigCrossover\",\n",
    "    arguments = list(columns=c(\"mavg.BBands\", \"Close\"),relationship=\"gt\"),\n",
    "    label=\"Cl.lt.mid\",\n",
    "    store=TRUE\n",
    ")\n",
    "\n",
    "#exit short\n",
    "add.signal(\n",
    "    strategy = st,\n",
    "    name = \"sigCrossover\",\n",
    "    arguments = list(columns=c(\"Close\", \"up.BBands\"),relationship=\"gt\"),\n",
    "    label=\"Cl.gt.up\",\n",
    "    store=TRUE\n",
    ")\n",
    "        \n",
    "#enter long\n",
    "add.rule(strategy = st,\n",
    "         name = 'ruleSignal',\n",
    "         arguments = list(sigcol=\"Cl.gt.dn\",\n",
    "                          sigval=TRUE,\n",
    "                          orderqty=100,\n",
    "                          ordertype='market',\n",
    "                          orderside=NULL,\n",
    "                          TxnFees = \"fee\"\n",
    "                         ),\n",
    "         type='enter', path.dep=TRUE, store=TRUE)\n",
    "\n",
    "#exit long\n",
    "add.rule(strategy = st,\n",
    "         name='ruleSignal',\n",
    "         arguments=list(sigcol=\"Cl.gt.mid\",\n",
    "                        sigval=TRUE,\n",
    "                        orderqty= 'all',\n",
    "                        ordertype='market',\n",
    "                        orderside=NULL,\n",
    "                        TxnFees = \"fee\"\n",
    "                       ),\n",
    "         type='exit', path.dep=TRUE, store=TRUE)\n",
    "\n",
    "#exit long\n",
    "add.rule(strategy = st,\n",
    "         name='ruleSignal',\n",
    "         arguments=list(sigcol=\"Cl.lt.dn\",\n",
    "                        sigval=TRUE,\n",
    "                        orderqty= 'all',\n",
    "                        ordertype='market',\n",
    "                        orderside=NULL,\n",
    "                        TxnFees = \"fee\"\n",
    "                       ),\n",
    "         type='exit', path.dep=TRUE, store=TRUE)\n",
    "\n",
    "#enter short\n",
    "add.rule(strategy = st,\n",
    "         name = 'ruleSignal',\n",
    "         arguments = list(sigcol=\"Cl.lt.up\",\n",
    "                          sigval=TRUE,\n",
    "                          orderqty=-100,\n",
    "                          ordertype='market',\n",
    "                          orderside=NULL,\n",
    "                          TxnFees = \"fee\"\n",
    "                         ),\n",
    "         type='enter', path.dep=TRUE, store=TRUE)\n",
    "\n",
    "#exit short\n",
    "add.rule(strategy = st,\n",
    "         name='ruleSignal',\n",
    "         arguments=list(sigcol=\"Cl.lt.mid\",\n",
    "                        sigval=TRUE,\n",
    "                        orderqty= 'all',\n",
    "                        ordertype='market',\n",
    "                        orderside=NULL,\n",
    "                        TxnFees = \"fee\"\n",
    "                       ),\n",
    "         type='exit', path.dep=TRUE, store=TRUE)\n",
    "\n",
    "#exit short\n",
    "add.rule(strategy = st,\n",
    "         name='ruleSignal',\n",
    "         arguments=list(sigcol=\"Cl.gt.up\",\n",
    "                        sigval=TRUE,\n",
    "                        orderqty= 'all',\n",
    "                        ordertype='market',\n",
    "                        orderside=NULL,\n",
    "                        TxnFees = \"fee\"\n",
    "                       ),\n",
    "         type='exit', path.dep=TRUE, store=TRUE)"
   ]
  },
  {
   "cell_type": "code",
   "execution_count": 5,
   "id": "9e53a40a",
   "metadata": {
    "ExecuteTime": {
     "end_time": "2021-05-09T13:00:35.998609Z",
     "start_time": "2021-05-09T13:00:32.498Z"
    }
   },
   "outputs": [
    {
     "name": "stdout",
     "output_type": "stream",
     "text": [
      "[1] \"2006-02-01 16:25:00 GAZP -100 @ 222.9\"\n",
      "[1] \"2006-02-01 18:00:00 GAZP 100 @ 222.42\"\n",
      "[1] \"2006-02-02 10:35:00 GAZP -100 @ 223.9\"\n",
      "[1] \"2006-02-02 11:00:00 GAZP 100 @ 223\"\n",
      "[1] \"2006-02-02 12:15:00 GAZP 100 @ 220.93\"\n",
      "[1] \"2006-02-02 13:10:00 GAZP -100 @ 221.36\"\n"
     ]
    }
   ],
   "source": [
    "SD = 2\n",
    "N = 20\n",
    "out <- applyStrategy(\n",
    "    strategy = st,\n",
    "    portfolios = nm,\n",
    "    mktdata = GAZP,\n",
    "    parameters = list(sd=SD, n=N)\n",
    ")"
   ]
  },
  {
   "cell_type": "code",
   "execution_count": 6,
   "id": "7c55d78e",
   "metadata": {
    "ExecuteTime": {
     "end_time": "2021-05-09T13:00:36.041661Z",
     "start_time": "2021-05-09T13:00:32.501Z"
    }
   },
   "outputs": [
    {
     "data": {
      "text/html": [
       "'BBANDS'"
      ],
      "text/latex": [
       "'BBANDS'"
      ],
      "text/markdown": [
       "'BBANDS'"
      ],
      "text/plain": [
       "[1] \"BBANDS\""
      ]
     },
     "metadata": {},
     "output_type": "display_data"
    },
    {
     "data": {
      "text/html": [
       "'BBANDS'"
      ],
      "text/latex": [
       "'BBANDS'"
      ],
      "text/markdown": [
       "'BBANDS'"
      ],
      "text/plain": [
       "[1] \"BBANDS\""
      ]
     },
     "metadata": {},
     "output_type": "display_data"
    },
    {
     "data": {
      "text/html": [
       "'BBANDS'"
      ],
      "text/latex": [
       "'BBANDS'"
      ],
      "text/markdown": [
       "'BBANDS'"
      ],
      "text/plain": [
       "[1] \"BBANDS\""
      ]
     },
     "metadata": {},
     "output_type": "display_data"
    }
   ],
   "source": [
    "updatePortf(nm)\n",
    "\n",
    "updateAcct(nm)\n",
    "\n",
    "updateEndEq(nm)"
   ]
  },
  {
   "cell_type": "code",
   "execution_count": 7,
   "id": "d03d7640",
   "metadata": {
    "ExecuteTime": {
     "end_time": "2021-05-09T13:00:36.054638Z",
     "start_time": "2021-05-09T13:00:32.506Z"
    }
   },
   "outputs": [
    {
     "data": {
      "text/plain": [
       "                     Close up.BBands mavg.BBands dn.BBands\n",
       "2006-02-01 10:30:00 217.20        NA          NA        NA\n",
       "2006-02-01 10:35:00 217.52        NA          NA        NA\n",
       "2006-02-01 10:40:00 217.50        NA          NA        NA\n",
       "2006-02-01 10:45:00 216.11        NA          NA        NA\n",
       "2006-02-01 10:50:00 217.20        NA          NA        NA\n",
       "2006-02-01 10:55:00 217.92        NA          NA        NA\n",
       "2006-02-01 11:00:00 217.92        NA          NA        NA\n",
       "2006-02-01 11:05:00 218.00        NA          NA        NA\n",
       "2006-02-01 11:10:00 218.00        NA          NA        NA\n",
       "2006-02-01 11:15:00 219.98        NA          NA        NA\n",
       "2006-02-01 11:20:00 219.75        NA          NA        NA\n",
       "2006-02-01 11:25:00 220.00        NA          NA        NA\n",
       "2006-02-01 11:30:00 220.40        NA          NA        NA\n",
       "2006-02-01 11:35:00 220.45        NA          NA        NA\n",
       "2006-02-01 11:40:00 219.82        NA          NA        NA\n",
       "2006-02-01 11:45:00 219.76        NA          NA        NA\n",
       "2006-02-01 11:50:00 220.30        NA          NA        NA\n",
       "2006-02-01 11:55:00 221.20        NA          NA        NA\n",
       "2006-02-01 12:00:00 220.81        NA          NA        NA\n",
       "2006-02-01 12:05:00 220.79  222.0125    219.0315  216.0505\n",
       "2006-02-01 12:10:00 221.02  222.1991    219.2225  216.2459\n",
       "2006-02-01 12:15:00 221.00  222.3615    219.3965  216.4315\n",
       "2006-02-01 12:20:00 220.80  222.4524    219.5615  216.6706\n",
       "2006-02-01 12:25:00 220.51  222.2230    219.7815  217.3400\n",
       "2006-02-01 12:30:00 221.99  222.3392    220.0210  217.7028\n",
       "2006-02-01 12:35:00 221.77  222.4394    220.2135  217.9876\n",
       "2006-02-01 12:40:00 222.00  222.5091    220.4175  218.3259\n",
       "2006-02-01 12:45:00 221.60  222.4294    220.5975  218.7656\n",
       "2006-02-01 12:50:00 220.49  222.1172    220.7220  219.3268\n",
       "2006-02-01 12:55:00 220.00  222.1161    220.7230  219.3299\n",
       "2006-02-01 13:00:00 220.00  222.0976    220.7355  219.3734\n",
       "2006-02-01 13:05:00 220.51  222.0857    220.7610  219.4363\n",
       "2006-02-01 13:10:00 220.60  222.0876    220.7710  219.4544\n",
       "2006-02-01 13:15:00 221.02  222.1118    220.7995  219.4872\n",
       "2006-02-01 13:20:00 221.36  222.1292    220.8765  219.6238\n",
       "2006-02-01 13:25:00 221.50  222.1329    220.9635  219.7941\n",
       "2006-02-01 13:30:00 221.50  222.1735    221.0235  219.8735\n",
       "2006-02-01 13:35:00 221.50  222.2051    221.0385  219.8719\n",
       "2006-02-01 13:40:00 221.59  222.2629    221.0775  219.8921\n",
       "2006-02-01 13:45:00 221.59  222.3153    221.1175  219.9197\n",
       "2006-02-01 13:50:00 221.15  222.3210    221.1240  219.9270\n",
       "2006-02-01 13:55:00 221.18  222.3289    221.1330  219.9371\n",
       "2006-02-01 14:00:00 221.05  222.3324    221.1455  219.9586\n",
       "2006-02-01 14:05:00 221.40  222.3445    221.1900  220.0355\n",
       "2006-02-01 14:10:00 222.40  222.4337    221.2105  219.9873\n",
       "2006-02-01 14:15:00 222.00  222.4700    221.2220  219.9740\n",
       "2006-02-01 14:20:00 222.35  222.5394    221.2395  219.9396\n",
       "2006-02-01 14:25:00 221.80  222.5634    221.2495  219.9356\n",
       "2006-02-01 14:30:00 222.29  222.6793    221.3395  219.9997\n",
       "2006-02-01 14:35:00 222.02  222.6603    221.4405  220.2207\n",
       "2006-02-01 14:40:00 222.20  222.6182    221.5505  220.4828\n",
       "2006-02-01 14:45:00 222.04  222.6006    221.6270  220.6534\n",
       "2006-02-01 14:50:00 221.90  222.5493    221.6920  220.8347\n",
       "2006-02-01 14:55:00 221.87  222.5369    221.7345  220.9321\n",
       "2006-02-01 15:00:00 221.10  222.5555    221.7215  220.8875\n",
       "2006-02-01 15:05:00 221.13  222.5715    221.7030  220.8345\n",
       "2006-02-01 15:10:00 221.11  222.5862    221.6835  220.7808\n",
       "2006-02-01 15:15:00 221.10  222.5987    221.6635  220.7283\n",
       "2006-02-01 15:20:00 221.10  222.6058    221.6390  220.6722\n",
       "2006-02-01 15:25:00 220.90  222.6237    221.6045  220.5853\n",
       "2006-02-01 15:30:00 220.90  222.6389    221.5920  220.5451\n",
       "2006-02-01 15:35:00 220.70  222.6720    221.5680  220.4640\n",
       "2006-02-01 15:40:00 220.90  222.6804    221.5605  220.4406\n",
       "2006-02-01 15:45:00 221.40  222.6804    221.5605  220.4406\n",
       "2006-02-01 15:50:00 221.58  222.5715    221.5195  220.4675\n",
       "2006-02-01 15:55:00 221.55  222.5259    221.4970  220.4681\n",
       "2006-02-01 16:00:00 222.00  222.4606    221.4795  220.4984\n",
       "2006-02-01 16:05:00 222.15  222.5122    221.4970  220.4818\n",
       "2006-02-01 16:10:00 222.00  222.4596    221.4825  220.5054\n",
       "2006-02-01 16:15:00 223.20  222.7551    221.5415  220.3279\n",
       "2006-02-01 16:20:00 222.50  222.8091    221.5565  220.3039\n",
       "2006-02-01 16:25:00 222.90  222.9691    221.5995  220.2299\n",
       "2006-02-01 16:30:00 222.79  223.1046    221.6440  220.1834\n",
       "2006-02-01 16:35:00 222.06  223.1223    221.6535  220.1847\n",
       "2006-02-01 16:40:00 222.29  223.1837    221.7130  220.2423\n",
       "2006-02-01 16:45:00 222.00  223.2070    221.7565  220.3060\n",
       "2006-02-01 16:50:00 222.20  223.2420    221.8110  220.3800\n",
       "2006-02-01 16:55:00 222.50  223.3030    221.8810  220.4590\n",
       "2006-02-01 17:00:00 222.70  223.3782    221.9610  220.5438\n",
       "2006-02-01 17:05:00 223.00  223.4643    222.0660  220.6677\n",
       "2006-02-01 17:10:00 223.29  223.5732    222.1855  220.7978\n",
       "2006-02-01 17:15:00 222.63  223.5013    222.2820  221.0627\n",
       "2006-02-01 17:20:00 223.10  223.4830    222.3920  221.3010\n",
       "2006-02-01 17:25:00 223.29  223.5443    222.4865  221.4287\n",
       "2006-02-01 17:30:00 223.43  223.6270    222.5790  221.5310\n",
       "2006-02-01 17:35:00 223.00  223.6007    222.6515  221.7023\n",
       "2006-02-01 17:40:00 223.24  223.6463    222.7135  221.7807\n",
       "2006-02-01 17:45:00 223.25  223.6915    222.7685  221.8455\n",
       "2006-02-01 17:50:00 222.95  223.6713    222.8160  221.9607\n",
       "2006-02-01 17:55:00 222.32  223.6342    222.7720  221.9098\n",
       "2006-02-01 18:00:00 222.42  223.6360    222.7680  221.9000\n",
       "2006-02-01 18:05:00 222.50  223.6213    222.7480  221.8747\n",
       "2006-02-01 18:10:00 222.73  223.6181    222.7450  221.8719\n",
       "2006-02-01 18:15:00 222.50  223.5907    222.7670  221.9433\n",
       "2006-02-01 18:20:00 222.02  223.6160    222.7535  221.8910\n",
       "2006-02-01 18:25:00 222.10  223.6045    222.7585  221.9125\n",
       "2006-02-01 18:30:00 222.45  223.5906    222.7710  221.9514\n",
       "2006-02-01 18:35:00 223.20  223.6360    222.8060  221.9760\n",
       "2006-02-01 18:40:00 223.99  223.8454    222.8705  221.8956\n",
       "2006-02-02 10:30:00 223.50  223.9073    222.8955  221.8837\n",
       "2006-02-02 10:35:00 223.90  224.0172    222.9260  221.8348\n",
       "2006-02-02 10:40:00 224.20  224.2182    223.0045  221.7908\n",
       "2006-02-02 10:45:00 224.21  224.3828    223.0600  221.7372\n",
       "2006-02-02 10:50:00 223.80  224.4442    223.0855  221.7268\n",
       "2006-02-02 10:55:00 223.00  224.4138    223.0640  221.7142\n",
       "2006-02-02 11:00:00 223.00  224.4138    223.0640  221.7142\n",
       "2006-02-02 11:05:00 222.52  224.3954    223.0280  221.6606\n",
       "2006-02-02 11:10:00 223.00  224.3791    223.0155  221.6519\n",
       "2006-02-02 11:15:00 223.20  224.3935    223.0280  221.6625\n",
       "2006-02-02 11:20:00 222.73  224.3829    223.0485  221.7141\n",
       "2006-02-02 11:25:00 223.01  224.3812    223.0780  221.7748\n",
       "2006-02-02 11:30:00 221.70  224.4539    223.0380  221.6221\n",
       "2006-02-02 11:35:00 221.60  224.5264    222.9815  221.4366\n",
       "2006-02-02 11:40:00 222.00  224.5473    222.9565  221.3657\n",
       "2006-02-02 11:45:00 222.15  224.5394    222.9630  221.3866\n",
       "2006-02-02 11:50:00 221.51  224.5933    222.9335  221.2737\n",
       "2006-02-02 11:55:00 221.70  224.6300    222.8960  221.1620\n",
       "2006-02-02 12:00:00 221.10  224.6855    222.7910  220.8965\n",
       "2006-02-02 12:05:00 220.50  224.6731    222.6165  220.5599\n",
       "2006-02-02 12:10:00 220.63  224.6594    222.4730  220.2866\n",
       "2006-02-02 12:15:00 220.93  224.5065    222.3245  220.1425\n",
       "2006-02-02 12:20:00 220.89  224.2470    222.1590  220.0710\n",
       "2006-02-02 12:25:00 221.48  223.9029    222.0225  220.1421\n",
       "2006-02-02 12:30:00 221.50  223.6122    221.9075  220.2028\n",
       "2006-02-02 12:35:00 221.44  223.4686    221.8295  220.1904\n",
       "2006-02-02 12:40:00 220.80  223.3245    221.7195  220.1145\n",
       "2006-02-02 12:45:00 220.50  223.2630    221.6185  219.9740\n",
       "2006-02-02 12:50:00 220.80  223.0604    221.5085  219.9566\n",
       "2006-02-02 12:55:00 220.75  222.7612    221.3860  220.0108\n",
       "2006-02-02 13:00:00 221.00  222.5364    221.2995  220.0626\n",
       "2006-02-02 13:05:00 221.77  222.2242    221.2375  220.2508\n",
       "2006-02-02 13:10:00 221.36  222.1862    221.2205  220.2548\n",
       "2006-02-02 13:15:00 221.45  222.1691    221.2130  220.2569\n",
       "2006-02-02 13:20:00 221.50  222.0848    221.1880  220.2912\n",
       "2006-02-02 13:25:00 221.60  221.9668    221.1605  220.3542\n",
       "2006-02-02 13:30:00 221.23  221.9376    221.1465  220.3554\n",
       "2006-02-02 13:35:00 221.11  221.8662    221.1170  220.3678\n",
       "2006-02-02 13:40:00 221.17  221.8700    221.1205  220.3710\n",
       "2006-02-02 13:45:00 221.00  221.8420    221.1455  220.4490\n",
       "2006-02-02 13:50:00 221.25  221.8325    221.1765  220.5205\n",
       "2006-02-02 13:55:00 221.25  221.8392    221.1925  220.5458\n",
       "2006-02-02 14:00:00 221.00  221.8362    221.1980  220.5598\n",
       "2006-02-02 14:05:00 221.19  221.8084    221.1835  220.5586\n",
       "2006-02-02 14:10:00 220.67  221.7872    221.1420  220.4968\n",
       "2006-02-02 14:15:00 220.99  221.7529    221.1195  220.4861\n",
       "2006-02-02 14:20:00 221.00  221.7485    221.1295  220.5105\n",
       "2006-02-02 14:25:00 220.90  221.7089    221.1495  220.5901\n",
       "2006-02-02 14:30:00 221.71  221.7807    221.1950  220.6093\n",
       "2006-02-02 14:35:00 221.40  221.7821    221.2275  220.6729\n",
       "2006-02-02 14:40:00 221.15  221.7811    221.2350  220.6889"
      ]
     },
     "metadata": {},
     "output_type": "display_data"
    }
   ],
   "source": [
    "mktdata[,c('Close','up.BBands','mavg.BBands','dn.BBands')]"
   ]
  },
  {
   "cell_type": "code",
   "execution_count": 8,
   "id": "7c53f5c4",
   "metadata": {
    "ExecuteTime": {
     "end_time": "2021-05-09T13:00:36.066690Z",
     "start_time": "2021-05-09T13:00:32.509Z"
    }
   },
   "outputs": [
    {
     "data": {
      "text/plain": [
       "                     Close up.BBands Cl.gt.dn Cl.gt.mid Cl.lt.dn Cl.lt.up Cl.lt.mid Cl.gt.up\n",
       "2006-02-01 10:30:00 217.20        NA       NA        NA       NA       NA        NA       NA\n",
       "2006-02-01 10:35:00 217.52        NA       NA        NA       NA       NA        NA       NA\n",
       "2006-02-01 10:40:00 217.50        NA       NA        NA       NA       NA        NA       NA\n",
       "2006-02-01 10:45:00 216.11        NA       NA        NA       NA       NA        NA       NA\n",
       "2006-02-01 10:50:00 217.20        NA       NA        NA       NA       NA        NA       NA\n",
       "2006-02-01 10:55:00 217.92        NA       NA        NA       NA       NA        NA       NA\n",
       "2006-02-01 11:00:00 217.92        NA       NA        NA       NA       NA        NA       NA\n",
       "2006-02-01 11:05:00 218.00        NA       NA        NA       NA       NA        NA       NA\n",
       "2006-02-01 11:10:00 218.00        NA       NA        NA       NA       NA        NA       NA\n",
       "2006-02-01 11:15:00 219.98        NA       NA        NA       NA       NA        NA       NA\n",
       "2006-02-01 11:20:00 219.75        NA       NA        NA       NA       NA        NA       NA\n",
       "2006-02-01 11:25:00 220.00        NA       NA        NA       NA       NA        NA       NA\n",
       "2006-02-01 11:30:00 220.40        NA       NA        NA       NA       NA        NA       NA\n",
       "2006-02-01 11:35:00 220.45        NA       NA        NA       NA       NA        NA       NA\n",
       "2006-02-01 11:40:00 219.82        NA       NA        NA       NA       NA        NA       NA\n",
       "2006-02-01 11:45:00 219.76        NA       NA        NA       NA       NA        NA       NA\n",
       "2006-02-01 11:50:00 220.30        NA       NA        NA       NA       NA        NA       NA\n",
       "2006-02-01 11:55:00 221.20        NA       NA        NA       NA       NA        NA       NA\n",
       "2006-02-01 12:00:00 220.81        NA       NA        NA       NA       NA        NA       NA\n",
       "2006-02-01 12:05:00 220.79  222.0125       NA        NA       NA       NA        NA       NA\n",
       "2006-02-01 12:10:00 221.02  222.1991       NA        NA       NA       NA        NA       NA\n",
       "2006-02-01 12:15:00 221.00  222.3615       NA        NA       NA       NA        NA       NA\n",
       "2006-02-01 12:20:00 220.80  222.4524       NA        NA       NA       NA        NA       NA\n",
       "2006-02-01 12:25:00 220.51  222.2230       NA        NA       NA       NA        NA       NA\n",
       "2006-02-01 12:30:00 221.99  222.3392       NA        NA       NA       NA        NA       NA\n",
       "2006-02-01 12:35:00 221.77  222.4394       NA        NA       NA       NA        NA       NA\n",
       "2006-02-01 12:40:00 222.00  222.5091       NA        NA       NA       NA        NA       NA\n",
       "2006-02-01 12:45:00 221.60  222.4294       NA        NA       NA       NA        NA       NA\n",
       "2006-02-01 12:50:00 220.49  222.1172       NA        NA       NA       NA         1       NA\n",
       "2006-02-01 12:55:00 220.00  222.1161       NA        NA       NA       NA        NA       NA\n",
       "2006-02-01 13:00:00 220.00  222.0976       NA        NA       NA       NA        NA       NA\n",
       "2006-02-01 13:05:00 220.51  222.0857       NA        NA       NA       NA        NA       NA\n",
       "2006-02-01 13:10:00 220.60  222.0876       NA        NA       NA       NA        NA       NA\n",
       "2006-02-01 13:15:00 221.02  222.1118       NA         1       NA       NA        NA       NA\n",
       "2006-02-01 13:20:00 221.36  222.1292       NA        NA       NA       NA        NA       NA\n",
       "2006-02-01 13:25:00 221.50  222.1329       NA        NA       NA       NA        NA       NA\n",
       "2006-02-01 13:30:00 221.50  222.1735       NA        NA       NA       NA        NA       NA\n",
       "2006-02-01 13:35:00 221.50  222.2051       NA        NA       NA       NA        NA       NA\n",
       "2006-02-01 13:40:00 221.59  222.2629       NA        NA       NA       NA        NA       NA\n",
       "2006-02-01 13:45:00 221.59  222.3153       NA        NA       NA       NA        NA       NA\n",
       "2006-02-01 13:50:00 221.15  222.3210       NA        NA       NA       NA        NA       NA\n",
       "2006-02-01 13:55:00 221.18  222.3289       NA        NA       NA       NA        NA       NA\n",
       "2006-02-01 14:00:00 221.05  222.3324       NA        NA       NA       NA         1       NA\n",
       "2006-02-01 14:05:00 221.40  222.3445       NA         1       NA       NA        NA       NA\n",
       "2006-02-01 14:10:00 222.40  222.4337       NA        NA       NA       NA        NA       NA\n",
       "2006-02-01 14:15:00 222.00  222.4700       NA        NA       NA       NA        NA       NA\n",
       "2006-02-01 14:20:00 222.35  222.5394       NA        NA       NA       NA        NA       NA\n",
       "2006-02-01 14:25:00 221.80  222.5634       NA        NA       NA       NA        NA       NA\n",
       "2006-02-01 14:30:00 222.29  222.6793       NA        NA       NA       NA        NA       NA\n",
       "2006-02-01 14:35:00 222.02  222.6603       NA        NA       NA       NA        NA       NA\n",
       "2006-02-01 14:40:00 222.20  222.6182       NA        NA       NA       NA        NA       NA\n",
       "2006-02-01 14:45:00 222.04  222.6006       NA        NA       NA       NA        NA       NA\n",
       "2006-02-01 14:50:00 221.90  222.5493       NA        NA       NA       NA        NA       NA\n",
       "2006-02-01 14:55:00 221.87  222.5369       NA        NA       NA       NA        NA       NA\n",
       "2006-02-01 15:00:00 221.10  222.5555       NA        NA       NA       NA         1       NA\n",
       "2006-02-01 15:05:00 221.13  222.5715       NA        NA       NA       NA        NA       NA\n",
       "2006-02-01 15:10:00 221.11  222.5862       NA        NA       NA       NA        NA       NA\n",
       "2006-02-01 15:15:00 221.10  222.5987       NA        NA       NA       NA        NA       NA\n",
       "2006-02-01 15:20:00 221.10  222.6058       NA        NA       NA       NA        NA       NA\n",
       "2006-02-01 15:25:00 220.90  222.6237       NA        NA       NA       NA        NA       NA\n",
       "2006-02-01 15:30:00 220.90  222.6389       NA        NA       NA       NA        NA       NA\n",
       "2006-02-01 15:35:00 220.70  222.6720       NA        NA       NA       NA        NA       NA\n",
       "2006-02-01 15:40:00 220.90  222.6804       NA        NA       NA       NA        NA       NA\n",
       "2006-02-01 15:45:00 221.40  222.6804       NA        NA       NA       NA        NA       NA\n",
       "2006-02-01 15:50:00 221.58  222.5715       NA         1       NA       NA        NA       NA\n",
       "2006-02-01 15:55:00 221.55  222.5259       NA        NA       NA       NA        NA       NA\n",
       "2006-02-01 16:00:00 222.00  222.4606       NA        NA       NA       NA        NA       NA\n",
       "2006-02-01 16:05:00 222.15  222.5122       NA        NA       NA       NA        NA       NA\n",
       "2006-02-01 16:10:00 222.00  222.4596       NA        NA       NA       NA        NA       NA\n",
       "2006-02-01 16:15:00 223.20  222.7551       NA        NA       NA       NA        NA        1\n",
       "2006-02-01 16:20:00 222.50  222.8091       NA        NA       NA        1        NA       NA\n",
       "2006-02-01 16:25:00 222.90  222.9691       NA        NA       NA       NA        NA       NA\n",
       "2006-02-01 16:30:00 222.79  223.1046       NA        NA       NA       NA        NA       NA\n",
       "2006-02-01 16:35:00 222.06  223.1223       NA        NA       NA       NA        NA       NA\n",
       "2006-02-01 16:40:00 222.29  223.1837       NA        NA       NA       NA        NA       NA\n",
       "2006-02-01 16:45:00 222.00  223.2070       NA        NA       NA       NA        NA       NA\n",
       "2006-02-01 16:50:00 222.20  223.2420       NA        NA       NA       NA        NA       NA\n",
       "2006-02-01 16:55:00 222.50  223.3030       NA        NA       NA       NA        NA       NA\n",
       "2006-02-01 17:00:00 222.70  223.3782       NA        NA       NA       NA        NA       NA\n",
       "2006-02-01 17:05:00 223.00  223.4643       NA        NA       NA       NA        NA       NA\n",
       "2006-02-01 17:10:00 223.29  223.5732       NA        NA       NA       NA        NA       NA\n",
       "2006-02-01 17:15:00 222.63  223.5013       NA        NA       NA       NA        NA       NA\n",
       "2006-02-01 17:20:00 223.10  223.4830       NA        NA       NA       NA        NA       NA\n",
       "2006-02-01 17:25:00 223.29  223.5443       NA        NA       NA       NA        NA       NA\n",
       "2006-02-01 17:30:00 223.43  223.6270       NA        NA       NA       NA        NA       NA\n",
       "2006-02-01 17:35:00 223.00  223.6007       NA        NA       NA       NA        NA       NA\n",
       "2006-02-01 17:40:00 223.24  223.6463       NA        NA       NA       NA        NA       NA\n",
       "2006-02-01 17:45:00 223.25  223.6915       NA        NA       NA       NA        NA       NA\n",
       "2006-02-01 17:50:00 222.95  223.6713       NA        NA       NA       NA        NA       NA\n",
       "2006-02-01 17:55:00 222.32  223.6342       NA        NA       NA       NA         1       NA\n",
       "2006-02-01 18:00:00 222.42  223.6360       NA        NA       NA       NA        NA       NA\n",
       "2006-02-01 18:05:00 222.50  223.6213       NA        NA       NA       NA        NA       NA\n",
       "2006-02-01 18:10:00 222.73  223.6181       NA        NA       NA       NA        NA       NA\n",
       "2006-02-01 18:15:00 222.50  223.5907       NA        NA       NA       NA        NA       NA\n",
       "2006-02-01 18:20:00 222.02  223.6160       NA        NA       NA       NA        NA       NA\n",
       "2006-02-01 18:25:00 222.10  223.6045       NA        NA       NA       NA        NA       NA\n",
       "2006-02-01 18:30:00 222.45  223.5906       NA        NA       NA       NA        NA       NA\n",
       "2006-02-01 18:35:00 223.20  223.6360       NA         1       NA       NA        NA       NA\n",
       "2006-02-01 18:40:00 223.99  223.8454       NA        NA       NA       NA        NA        1\n",
       "2006-02-02 10:30:00 223.50  223.9073       NA        NA       NA        1        NA       NA\n",
       "2006-02-02 10:35:00 223.90  224.0172       NA        NA       NA       NA        NA       NA\n",
       "2006-02-02 10:40:00 224.20  224.2182       NA        NA       NA       NA        NA       NA\n",
       "2006-02-02 10:45:00 224.21  224.3828       NA        NA       NA       NA        NA       NA\n",
       "2006-02-02 10:50:00 223.80  224.4442       NA        NA       NA       NA        NA       NA\n",
       "2006-02-02 10:55:00 223.00  224.4138       NA        NA       NA       NA         1       NA\n",
       "2006-02-02 11:00:00 223.00  224.4138       NA        NA       NA       NA        NA       NA\n",
       "2006-02-02 11:05:00 222.52  224.3954       NA        NA       NA       NA        NA       NA\n",
       "2006-02-02 11:10:00 223.00  224.3791       NA        NA       NA       NA        NA       NA\n",
       "2006-02-02 11:15:00 223.20  224.3935       NA         1       NA       NA        NA       NA\n",
       "2006-02-02 11:20:00 222.73  224.3829       NA        NA       NA       NA         1       NA\n",
       "2006-02-02 11:25:00 223.01  224.3812       NA        NA       NA       NA        NA       NA\n",
       "2006-02-02 11:30:00 221.70  224.4539       NA        NA       NA       NA        NA       NA\n",
       "2006-02-02 11:35:00 221.60  224.5264       NA        NA       NA       NA        NA       NA\n",
       "2006-02-02 11:40:00 222.00  224.5473       NA        NA       NA       NA        NA       NA\n",
       "2006-02-02 11:45:00 222.15  224.5394       NA        NA       NA       NA        NA       NA\n",
       "2006-02-02 11:50:00 221.51  224.5933       NA        NA       NA       NA        NA       NA\n",
       "2006-02-02 11:55:00 221.70  224.6300       NA        NA       NA       NA        NA       NA\n",
       "2006-02-02 12:00:00 221.10  224.6855       NA        NA       NA       NA        NA       NA\n",
       "2006-02-02 12:05:00 220.50  224.6731       NA        NA        1       NA        NA       NA\n",
       "2006-02-02 12:10:00 220.63  224.6594        1        NA       NA       NA        NA       NA\n",
       "2006-02-02 12:15:00 220.93  224.5065       NA        NA       NA       NA        NA       NA\n",
       "2006-02-02 12:20:00 220.89  224.2470       NA        NA       NA       NA        NA       NA\n",
       "2006-02-02 12:25:00 221.48  223.9029       NA        NA       NA       NA        NA       NA\n",
       "2006-02-02 12:30:00 221.50  223.6122       NA        NA       NA       NA        NA       NA\n",
       "2006-02-02 12:35:00 221.44  223.4686       NA        NA       NA       NA        NA       NA\n",
       "2006-02-02 12:40:00 220.80  223.3245       NA        NA       NA       NA        NA       NA\n",
       "2006-02-02 12:45:00 220.50  223.2630       NA        NA       NA       NA        NA       NA\n",
       "2006-02-02 12:50:00 220.80  223.0604       NA        NA       NA       NA        NA       NA\n",
       "2006-02-02 12:55:00 220.75  222.7612       NA        NA       NA       NA        NA       NA\n",
       "2006-02-02 13:00:00 221.00  222.5364       NA        NA       NA       NA        NA       NA\n",
       "2006-02-02 13:05:00 221.77  222.2242       NA         1       NA       NA        NA       NA\n",
       "2006-02-02 13:10:00 221.36  222.1862       NA        NA       NA       NA        NA       NA\n",
       "2006-02-02 13:15:00 221.45  222.1691       NA        NA       NA       NA        NA       NA\n",
       "2006-02-02 13:20:00 221.50  222.0848       NA        NA       NA       NA        NA       NA\n",
       "2006-02-02 13:25:00 221.60  221.9668       NA        NA       NA       NA        NA       NA\n",
       "2006-02-02 13:30:00 221.23  221.9376       NA        NA       NA       NA        NA       NA\n",
       "2006-02-02 13:35:00 221.11  221.8662       NA        NA       NA       NA         1       NA\n",
       "2006-02-02 13:40:00 221.17  221.8700       NA         1       NA       NA        NA       NA\n",
       "2006-02-02 13:45:00 221.00  221.8420       NA        NA       NA       NA         1       NA\n",
       "2006-02-02 13:50:00 221.25  221.8325       NA         1       NA       NA        NA       NA\n",
       "2006-02-02 13:55:00 221.25  221.8392       NA        NA       NA       NA        NA       NA\n",
       "2006-02-02 14:00:00 221.00  221.8362       NA        NA       NA       NA         1       NA\n",
       "2006-02-02 14:05:00 221.19  221.8084       NA         1       NA       NA        NA       NA\n",
       "2006-02-02 14:10:00 220.67  221.7872       NA        NA       NA       NA         1       NA\n",
       "2006-02-02 14:15:00 220.99  221.7529       NA        NA       NA       NA        NA       NA\n",
       "2006-02-02 14:20:00 221.00  221.7485       NA        NA       NA       NA        NA       NA\n",
       "2006-02-02 14:25:00 220.90  221.7089       NA        NA       NA       NA        NA       NA\n",
       "2006-02-02 14:30:00 221.71  221.7807       NA         1       NA       NA        NA       NA\n",
       "2006-02-02 14:35:00 221.40  221.7821       NA        NA       NA       NA        NA       NA\n",
       "2006-02-02 14:40:00 221.15  221.7811       NA        NA       NA       NA         1       NA"
      ]
     },
     "metadata": {},
     "output_type": "display_data"
    }
   ],
   "source": [
    "mktdata[,c('Close','up.BBands','Cl.gt.dn','Cl.gt.mid','Cl.lt.dn','Cl.lt.up','Cl.lt.mid','Cl.gt.up')]"
   ]
  },
  {
   "cell_type": "code",
   "execution_count": 9,
   "id": "cc4d0cc6",
   "metadata": {
    "ExecuteTime": {
     "end_time": "2021-05-09T13:00:36.077759Z",
     "start_time": "2021-05-09T13:00:32.512Z"
    }
   },
   "outputs": [
    {
     "data": {
      "text/plain": [
       "$BBANDS\n",
       "$BBANDS$GAZP\n",
       "                    Order.Qty Order.Price Order.Type Order.Side Order.Threshold Order.Status Order.StatusTime     \n",
       "2006-02-01 16:20:00 \"-100\"    \"222.5\"     \"market\"   \"short\"    NA              \"closed\"     \"2006-02-01 16:25:00\"\n",
       "2006-02-01 17:55:00 \"all\"     \"222.32\"    \"market\"   \"short\"    NA              \"closed\"     \"2006-02-01 18:00:00\"\n",
       "2006-02-02 10:30:00 \"-100\"    \"223.5\"     \"market\"   \"short\"    NA              \"closed\"     \"2006-02-02 10:35:00\"\n",
       "2006-02-02 10:55:00 \"all\"     \"223\"       \"market\"   \"short\"    NA              \"closed\"     \"2006-02-02 11:00:00\"\n",
       "2006-02-02 12:10:00 \"100\"     \"220.63\"    \"market\"   \"long\"     NA              \"closed\"     \"2006-02-02 12:15:00\"\n",
       "2006-02-02 13:05:00 \"all\"     \"221.77\"    \"market\"   \"long\"     NA              \"closed\"     \"2006-02-02 13:10:00\"\n",
       "                    Prefer Order.Set Txn.Fees Rule              Time.In.Force\n",
       "2006-02-01 16:20:00 \"\"     NA        \"fee\"    \"ruleSignal.rule\" \"\"           \n",
       "2006-02-01 17:55:00 \"\"     NA        \"fee\"    \"ruleSignal.rule\" \"\"           \n",
       "2006-02-02 10:30:00 \"\"     NA        \"fee\"    \"ruleSignal.rule\" \"\"           \n",
       "2006-02-02 10:55:00 \"\"     NA        \"fee\"    \"ruleSignal.rule\" \"\"           \n",
       "2006-02-02 12:10:00 \"\"     NA        \"fee\"    \"ruleSignal.rule\" \"\"           \n",
       "2006-02-02 13:05:00 \"\"     NA        \"fee\"    \"ruleSignal.rule\" \"\"           \n",
       "\n",
       "\n",
       "attr(,\"class\")\n",
       "[1] \"order_book\""
      ]
     },
     "metadata": {},
     "output_type": "display_data"
    }
   ],
   "source": [
    "getOrderBook(nm)"
   ]
  },
  {
   "cell_type": "code",
   "execution_count": 10,
   "id": "f5e43bbf",
   "metadata": {
    "ExecuteTime": {
     "end_time": "2021-05-09T13:00:36.264937Z",
     "start_time": "2021-05-09T13:00:32.514Z"
    }
   },
   "outputs": [
    {
     "data": {
      "image/png": "[encoded data removed]",
      "text/plain": [
       "plot without title"
      ]
     },
     "metadata": {
      "image/png": {
       "height": 420,
       "width": 420
      }
     },
     "output_type": "display_data"
    }
   ],
   "source": [
    "chart.Posn(Portfolio = nm, TA = \"add_BBands()\")"
   ]
  }
 ],
 "metadata": {
  "kernelspec": {
   "display_name": "R",
   "language": "R",
   "name": "ir"
  },
  "language_info": {
   "codemirror_mode": "r",
   "file_extension": ".r",
   "mimetype": "text/x-r-source",
   "name": "R",
   "pygments_lexer": "r",
   "version": "4.0.5"
  },
  "toc": {
   "base_numbering": 1,
   "nav_menu": {},
   "number_sections": true,
   "sideBar": true,
   "skip_h1_title": false,
   "title_cell": "Table of Contents",
   "title_sidebar": "Contents",
   "toc_cell": true,
   "toc_position": {},
   "toc_section_display": true,
   "toc_window_display": false
  }
 },
 "nbformat": 4,
 "nbformat_minor": 5
}
