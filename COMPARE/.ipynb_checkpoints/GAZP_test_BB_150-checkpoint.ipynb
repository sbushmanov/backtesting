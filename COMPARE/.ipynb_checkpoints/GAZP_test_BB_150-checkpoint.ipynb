{
 "cells": [
  {
   "cell_type": "markdown",
   "id": "9cfa9362",
   "metadata": {
    "toc": true
   },
   "source": [
    "<h1>Table of Contents<span class=\"tocSkip\"></span></h1>\n",
    "<div class=\"toc\"><ul class=\"toc-item\"></ul></div>"
   ]
  },
  {
   "cell_type": "code",
   "execution_count": 6,
   "id": "7972dfed",
   "metadata": {
    "ExecuteTime": {
     "end_time": "2021-05-09T12:50:13.857245Z",
     "start_time": "2021-05-09T12:50:13.838106Z"
    }
   },
   "outputs": [
    {
     "ename": "SyntaxError",
     "evalue": "invalid syntax (<ipython-input-6-f7e644e33edf>, line 3)",
     "output_type": "error",
     "traceback": [
      "\u001b[0;36m  File \u001b[0;32m\"<ipython-input-6-f7e644e33edf>\"\u001b[0;36m, line \u001b[0;32m3\u001b[0m\n\u001b[0;31m    from ../utils.py import BBANDS_signal\u001b[0m\n\u001b[0m           ^\u001b[0m\n\u001b[0;31mSyntaxError\u001b[0m\u001b[0;31m:\u001b[0m invalid syntax\n"
     ]
    }
   ],
   "source": [
    "%load_ext autoreload\n",
    "%autoreload 2\n",
    "from ../utils.py import BBANDS_signal\n",
    "from talib import BBANDS\n",
    "\n",
    "gazp = pd.read_csv(\"../gazp.csv\", parse_dates=[\"Date\"]).sort_values(\"Date\")\n",
    "gazp = gazp[:150]\n",
    "date = gazp['Date']\n",
    "price = gazp[\"Close\"].values"
   ]
  },
  {
   "cell_type": "code",
   "execution_count": null,
   "id": "afeea6c0",
   "metadata": {
    "ExecuteTime": {
     "end_time": "2021-05-09T12:49:31.600252Z",
     "start_time": "2021-05-09T12:49:31.516Z"
    }
   },
   "outputs": [],
   "source": [
    "upper, middle, lower = BBANDS(price, 20, 2, 2, matype=0)\n",
    "signal = BBANDS_signal(price, upper, middle, lower)"
   ]
  },
  {
   "cell_type": "code",
   "execution_count": null,
   "id": "83183cb0",
   "metadata": {
    "ExecuteTime": {
     "end_time": "2021-05-09T12:49:31.600896Z",
     "start_time": "2021-05-09T12:49:31.529Z"
    }
   },
   "outputs": [],
   "source": [
    "pd.options.display.max_rows = 300\n",
    "pd.DataFrame({\n",
    "    \"time\":date,\n",
    "    \"price\":price,\n",
    "    'upper':upper,\n",
    "    'middle':middle,\n",
    "    'lower':lower,\n",
    "    \"signal\":signal,\n",
    "})"
   ]
  }
 ],
 "metadata": {
  "kernelspec": {
   "display_name": "Python 3",
   "language": "python",
   "name": "python3"
  },
  "language_info": {
   "codemirror_mode": {
    "name": "ipython",
    "version": 3
   },
   "file_extension": ".py",
   "mimetype": "text/x-python",
   "name": "python",
   "nbconvert_exporter": "python",
   "pygments_lexer": "ipython3",
   "version": "3.9.2"
  },
  "toc": {
   "base_numbering": 1,
   "nav_menu": {},
   "number_sections": true,
   "sideBar": true,
   "skip_h1_title": false,
   "title_cell": "Table of Contents",
   "title_sidebar": "Contents",
   "toc_cell": true,
   "toc_position": {},
   "toc_section_display": true,
   "toc_window_display": false
  }
 },
 "nbformat": 4,
 "nbformat_minor": 5
}
