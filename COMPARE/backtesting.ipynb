{
 "cells": [
  {
   "cell_type": "markdown",
   "id": "0c541f28",
   "metadata": {
    "toc": true
   },
   "source": [
    "<h1>Table of Contents<span class=\"tocSkip\"></span></h1>\n",
    "<div class=\"toc\"><ul class=\"toc-item\"></ul></div>"
   ]
  },
  {
   "cell_type": "code",
   "execution_count": 35,
   "id": "cd113339",
   "metadata": {
    "ExecuteTime": {
     "end_time": "2021-05-09T13:54:11.758249Z",
     "start_time": "2021-05-09T13:54:11.385743Z"
    }
   },
   "outputs": [],
   "source": [
    "import backtesting\n",
    "from backtesting import Backtest, Strategy\n",
    "from backtesting.lib import crossover\n",
    "import sys\n",
    "sys.path.append(\"..\")\n",
    "from utils import BBANDS_signal\n",
    "from talib import BBANDS\n",
    "\n",
    "gazp = pd.read_csv(\"../gazp.csv\", parse_dates=[\"Date\"]).sort_values(\"Date\").set_index('Date')\n",
    "gazp = gazp[:150]\n",
    "# date = gazp['Date']\n",
    "price = gazp[\"Close\"].values"
   ]
  },
  {
   "cell_type": "code",
   "execution_count": 90,
   "id": "7ab42988",
   "metadata": {
    "ExecuteTime": {
     "end_time": "2021-05-09T14:31:51.990675Z",
     "start_time": "2021-05-09T14:31:51.929001Z"
    }
   },
   "outputs": [
    {
     "name": "stdout",
     "output_type": "stream",
     "text": [
      "short\n",
      "exit short\n",
      "short\n",
      "exit short\n",
      "long\n",
      "close long\n"
     ]
    },
    {
     "name": "stderr",
     "output_type": "stream",
     "text": [
      "/home/sergey/anaconda3/lib/python3.9/site-packages/backtesting/backtesting.py:1584: RuntimeWarning: divide by zero encountered in double_scalars\n",
      "  s.loc['Sortino Ratio'] = np.clip(annualized_return / (np.sqrt(np.mean(day_returns.clip(-np.inf, 0)**2)) * np.sqrt(annual_trading_days)), 0, np.inf)  # noqa: E501\n"
     ]
    }
   ],
   "source": [
    "class BB(Strategy):\n",
    "    std = 2\n",
    "    loockback = 20\n",
    "\n",
    "    def init(self):\n",
    "        \n",
    "        self.upper, self.middle, self.lower = self.I(\n",
    "            BBANDS, self.data.Close, self.loockback, self.std, self.std, 0\n",
    "        )\n",
    "\n",
    "    def next(self):\n",
    "\n",
    "        if crossover(self.data.Close, self.lower):\n",
    "            print(\"long\")\n",
    "            self.buy()\n",
    "\n",
    "        if self.position.is_long and (\n",
    "            crossover(self.data.Close, self.middle)\n",
    "            or crossover(self.lower, self.data.Close)\n",
    "        ):\n",
    "            print(\"close long\")\n",
    "            self.position.close()\n",
    "            \n",
    "        if crossover(self.upper, self.data.Close):\n",
    "            print(\"short\")\n",
    "            self.sell()\n",
    "            \n",
    "        if self.position.is_short and (crossover(self.middle, self.data.Close) or crossover(self.upper, self.data.Close)):\n",
    "            print(\"exit short\")\n",
    "            self.position.close()\n",
    "            \n",
    "bt = Backtest(gazp, BB, commission = .0006)\n",
    "res = bt.run()"
   ]
  },
  {
   "cell_type": "code",
   "execution_count": 91,
   "id": "2c2d2491",
   "metadata": {
    "ExecuteTime": {
     "end_time": "2021-05-09T14:32:01.774650Z",
     "start_time": "2021-05-09T14:32:01.758460Z"
    }
   },
   "outputs": [
    {
     "data": {
      "text/html": [
       "<div>\n",
       "<style scoped>\n",
       "    .dataframe tbody tr th:only-of-type {\n",
       "        vertical-align: middle;\n",
       "    }\n",
       "\n",
       "    .dataframe tbody tr th {\n",
       "        vertical-align: top;\n",
       "    }\n",
       "\n",
       "    .dataframe thead th {\n",
       "        text-align: right;\n",
       "    }\n",
       "</style>\n",
       "<table border=\"1\" class=\"dataframe\">\n",
       "  <thead>\n",
       "    <tr style=\"text-align: right;\">\n",
       "      <th></th>\n",
       "      <th>Size</th>\n",
       "      <th>EntryBar</th>\n",
       "      <th>ExitBar</th>\n",
       "      <th>EntryPrice</th>\n",
       "      <th>ExitPrice</th>\n",
       "      <th>PnL</th>\n",
       "      <th>ReturnPct</th>\n",
       "      <th>EntryTime</th>\n",
       "      <th>ExitTime</th>\n",
       "      <th>Duration</th>\n",
       "    </tr>\n",
       "  </thead>\n",
       "  <tbody>\n",
       "    <tr>\n",
       "      <th>0</th>\n",
       "      <td>-44</td>\n",
       "      <td>71</td>\n",
       "      <td>90</td>\n",
       "      <td>222.766260</td>\n",
       "      <td>222.31</td>\n",
       "      <td>20.07544</td>\n",
       "      <td>0.002048</td>\n",
       "      <td>2006-02-01 16:25:00</td>\n",
       "      <td>2006-02-01 18:00:00</td>\n",
       "      <td>0 days 01:35:00</td>\n",
       "    </tr>\n",
       "    <tr>\n",
       "      <th>1</th>\n",
       "      <td>-44</td>\n",
       "      <td>100</td>\n",
       "      <td>105</td>\n",
       "      <td>223.365900</td>\n",
       "      <td>222.77</td>\n",
       "      <td>26.21960</td>\n",
       "      <td>0.002668</td>\n",
       "      <td>2006-02-02 10:35:00</td>\n",
       "      <td>2006-02-02 11:00:00</td>\n",
       "      <td>0 days 00:25:00</td>\n",
       "    </tr>\n",
       "    <tr>\n",
       "      <th>2</th>\n",
       "      <td>45</td>\n",
       "      <td>120</td>\n",
       "      <td>131</td>\n",
       "      <td>221.252672</td>\n",
       "      <td>221.75</td>\n",
       "      <td>22.37976</td>\n",
       "      <td>0.002248</td>\n",
       "      <td>2006-02-02 12:15:00</td>\n",
       "      <td>2006-02-02 13:10:00</td>\n",
       "      <td>0 days 00:55:00</td>\n",
       "    </tr>\n",
       "  </tbody>\n",
       "</table>\n",
       "</div>"
      ],
      "text/plain": [
       "   Size  EntryBar  ExitBar  EntryPrice  ExitPrice       PnL  ReturnPct  \\\n",
       "0   -44        71       90  222.766260     222.31  20.07544   0.002048   \n",
       "1   -44       100      105  223.365900     222.77  26.21960   0.002668   \n",
       "2    45       120      131  221.252672     221.75  22.37976   0.002248   \n",
       "\n",
       "            EntryTime            ExitTime        Duration  \n",
       "0 2006-02-01 16:25:00 2006-02-01 18:00:00 0 days 01:35:00  \n",
       "1 2006-02-02 10:35:00 2006-02-02 11:00:00 0 days 00:25:00  \n",
       "2 2006-02-02 12:15:00 2006-02-02 13:10:00 0 days 00:55:00  "
      ]
     },
     "execution_count": 91,
     "metadata": {},
     "output_type": "execute_result"
    }
   ],
   "source": [
    "res._trades"
   ]
  }
 ],
 "metadata": {
  "kernelspec": {
   "display_name": "Python 3",
   "language": "python",
   "name": "python3"
  },
  "language_info": {
   "codemirror_mode": {
    "name": "ipython",
    "version": 3
   },
   "file_extension": ".py",
   "mimetype": "text/x-python",
   "name": "python",
   "nbconvert_exporter": "python",
   "pygments_lexer": "ipython3",
   "version": "3.9.2"
  },
  "toc": {
   "base_numbering": 1,
   "nav_menu": {},
   "number_sections": true,
   "sideBar": true,
   "skip_h1_title": false,
   "title_cell": "Table of Contents",
   "title_sidebar": "Contents",
   "toc_cell": true,
   "toc_position": {},
   "toc_section_display": true,
   "toc_window_display": false
  }
 },
 "nbformat": 4,
 "nbformat_minor": 5
}
