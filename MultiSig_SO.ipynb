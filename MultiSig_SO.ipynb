{
 "cells": [
  {
   "cell_type": "markdown",
   "id": "fac4f894",
   "metadata": {
    "toc": true
   },
   "source": [
    "<h1>Table of Contents<span class=\"tocSkip\"></span></h1>\n",
    "<div class=\"toc\"><ul class=\"toc-item\"></ul></div>"
   ]
  },
  {
   "cell_type": "code",
   "execution_count": 4,
   "id": "19498a2d",
   "metadata": {
    "ExecuteTime": {
     "end_time": "2021-05-29T09:57:15.054372Z",
     "start_time": "2021-05-29T09:57:14.949502Z"
    }
   },
   "outputs": [],
   "source": [
    "from numba import njit, int64, float64, types\n",
    "from numba.types import Array, string, boolean\n",
    "from numba.experimental import jitclass\n",
    "\n",
    "np.random.seed(42)\n",
    "x = np.random.randn(1000000)\n",
    "y = np.random.randn(1000000)\n",
    "z = np.random.randn(1000000)\n",
    "\n",
    "# Example of \"human-readable\" signals\n",
    "entry_sig_ = ((x,y,'crossup',False),)\n",
    "exit_sig_ = ((x,z,'crossup',False), 'or_',(x,y,'crossdown',False))\n",
    "\n",
    "# Turn signals into homogeneous tuple\n",
    "#entry_sig_\n",
    "entry_sig = (((x,y,'crossup',False),'NOP','1'),)\n",
    "#exit_sig_\n",
    "exit_sig = (((x,z,'crossup',False),'or_','2'),((x,y,'crossdown',False),'NOP','3'))\n",
    "\n",
    "@njit\n",
    "def cross(x, y, i):\n",
    "    '''\n",
    "    x,y: np.array\n",
    "    i: int - point in time\n",
    "    Returns: 1 or 0 when condition is met\n",
    "    '''\n",
    "    if (x[i - 1] - y[i - 1])*(x[i] - y[i]) < 0:\n",
    "        out = 1\n",
    "    else:\n",
    "        out = 0\n",
    "    return out\n",
    "\n",
    "\n",
    "kv_ty = (types.string,types.int64)\n",
    "\n",
    "spec = [\n",
    "    ('memory', types.DictType(*kv_ty)),\n",
    "]\n",
    "\n",
    "@njit\n",
    "def single_signal(x, y, how, acc, i):\n",
    "    '''\n",
    "    i: int - point in time\n",
    "    Returns either signal or accumulator\n",
    "    '''\n",
    "    if cross(x, y, i):\n",
    "        if x[i] < y[i] and how == 'crossdown':\n",
    "            out = 1\n",
    "        elif x[i] > y[i] and how == \"crossup\":\n",
    "            out = 1\n",
    "        else:\n",
    "            out = 0\n",
    "    else:\n",
    "        out = 0\n",
    "    return out"
   ]
  },
  {
   "cell_type": "code",
   "execution_count": 6,
   "id": "32bc668d",
   "metadata": {
    "ExecuteTime": {
     "end_time": "2021-05-29T09:57:23.556100Z",
     "start_time": "2021-05-29T09:57:23.550434Z"
    }
   },
   "outputs": [
    {
     "data": {
      "text/plain": [
       "'2'"
      ]
     },
     "execution_count": 6,
     "metadata": {},
     "output_type": "execute_result"
    }
   ],
   "source": [
    "exit_sig[0][2]"
   ]
  },
  {
   "cell_type": "code",
   "execution_count": null,
   "id": "81f72f4f",
   "metadata": {},
   "outputs": [],
   "source": [
    "@jitclass(spec)\n",
    "class MultiSig:\n",
    "    def __init__(self,entry,exit):\n",
    "        '''\n",
    "        initialize memory at single signal level\n",
    "        '''\n",
    "        memory_dict = {}\n",
    "        for i in entry:\n",
    "            memory_dict[str(i[2])] = 0\n",
    "        \n",
    "        for i in exit:\n",
    "            memory_dict[str(i[2])] = 0\n",
    "        \n",
    "        self.memory = memory_dict\n",
    "        \n",
    "    def reduce_sig(self, sig, i):\n",
    "        '''\n",
    "        Parses multisignal\n",
    "        sig: homogeneous tuple of tuples (\"human-readable\" signal definition)\n",
    "        i: int - point in time\n",
    "        Returns: resulting value of multisignal\n",
    "        '''\n",
    "        L = len(sig)\n",
    "        out = single_signal(*sig[0][0],i)\n",
    "        logic = sig[0][1]\n",
    "        if out:\n",
    "            self.update_memory(sig[0][2])\n",
    "        for cnt in range(1, L):\n",
    "            s = single_signal(*sig[cnt][0],i)\n",
    "            if s:\n",
    "                self.update_memory(sig[cnt][2])\n",
    "            out = out | s if logic == 'or_' else out & s\n",
    "            logic = sig[cnt][1]\n",
    "        return out\n",
    "    \n",
    "    def update_memory(self, key):\n",
    "        '''\n",
    "        update memory\n",
    "        '''\n",
    "        self.memory[str(key)] += 1\n",
    "    \n",
    "    def reset(self):\n",
    "        '''\n",
    "        reset memory\n",
    "        '''\n",
    "        dicti = {}\n",
    "        for i in self.memory:\n",
    "            dicti[i] = 0\n",
    "        self.memory = dicti\n",
    "        \n",
    "    def query_memory(self, key):\n",
    "        '''\n",
    "        return number of hits on signal\n",
    "        '''\n",
    "        return self.memory[str(key)]"
   ]
  },
  {
   "cell_type": "code",
   "execution_count": null,
   "id": "51f82470",
   "metadata": {},
   "outputs": [],
   "source": []
  }
 ],
 "metadata": {
  "kernelspec": {
   "display_name": "Python 3",
   "language": "python",
   "name": "python3"
  },
  "language_info": {
   "codemirror_mode": {
    "name": "ipython",
    "version": 3
   },
   "file_extension": ".py",
   "mimetype": "text/x-python",
   "name": "python",
   "nbconvert_exporter": "python",
   "pygments_lexer": "ipython3",
   "version": "3.9.4"
  },
  "toc": {
   "base_numbering": 1,
   "nav_menu": {},
   "number_sections": true,
   "sideBar": true,
   "skip_h1_title": false,
   "title_cell": "Table of Contents",
   "title_sidebar": "Contents",
   "toc_cell": true,
   "toc_position": {},
   "toc_section_display": true,
   "toc_window_display": false
  }
 },
 "nbformat": 4,
 "nbformat_minor": 5
}
