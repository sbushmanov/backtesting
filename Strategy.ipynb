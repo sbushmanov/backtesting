{
 "cells": [
  {
   "cell_type": "markdown",
   "id": "f92935b8",
   "metadata": {
    "toc": true
   },
   "source": [
    "<h1>Table of Contents<span class=\"tocSkip\"></span></h1>\n",
    "<div class=\"toc\"><ul class=\"toc-item\"></ul></div>"
   ]
  },
  {
   "cell_type": "code",
   "execution_count": 1,
   "id": "66f36a0c",
   "metadata": {
    "ExecuteTime": {
     "end_time": "2021-05-12T13:57:17.346986Z",
     "start_time": "2021-05-12T13:57:13.979224Z"
    }
   },
   "outputs": [],
   "source": [
    "%load_ext autoreload\n",
    "%autoreload 2\n",
    "from utils import BBANDS_signal, Signal\n",
    "from talib import BBANDS\n",
    "from numba import njit\n",
    "\n",
    "gazp = pd.read_csv(\"gazp.csv\", parse_dates=[\"Date\"]).sort_values(\"Date\")\n",
    "gazp = gazp[:150]\n",
    "date = gazp['Date']\n",
    "price = gazp[\"Close\"].values\n",
    "upper, middle, lower = BBANDS(price, 20, 2, 2, matype=0)"
   ]
  },
  {
   "cell_type": "code",
   "execution_count": null,
   "id": "a378afb1",
   "metadata": {},
   "outputs": [],
   "source": [
    "Strategy(\n",
    "    df = df,\n",
    "    enter_long=[('Close', 'lower', 'crossup', False),],\n",
    "    exit_long=[\n",
    "        ('Close', 'middle', 'crossup', False),\n",
    "        'or',\n",
    "        ('Close', 'lower', 'crossdown', False),\n",
    "    ],\n",
    "    enter_short=('Close', 'upper', 'crossdown', False),\n",
    "    exit_short=[\n",
    "        ('Close', 'middle', 'crossdown', False),\n",
    "        'or',\n",
    "        ('Close', 'upper', 'crossup', False),\n",
    "    ],\n",
    ")"
   ]
  },
  {
   "cell_type": "code",
   "execution_count": 3,
   "id": "85bae742",
   "metadata": {
    "ExecuteTime": {
     "end_time": "2021-05-12T14:20:26.265139Z",
     "start_time": "2021-05-12T14:20:26.245967Z"
    }
   },
   "outputs": [],
   "source": [
    "gazp['upper'], gazp['middle'], gazp['lower'] = BBANDS(price, 20,2,2)"
   ]
  },
  {
   "cell_type": "code",
   "execution_count": 53,
   "id": "8de0b4eb",
   "metadata": {
    "ExecuteTime": {
     "end_time": "2021-05-12T19:06:53.331633Z",
     "start_time": "2021-05-12T19:06:53.304284Z"
    }
   },
   "outputs": [],
   "source": [
    "def check_tuple(obj, df):\n",
    "    if len(obj) != 4:\n",
    "        raise ValueError(f'signal {obj} must consist of 4 elements: 2 cols, a signal type, and a bool')\n",
    "    if obj[0] not in df.columns or obj[1] not in df.columns:\n",
    "        raise ValueError(f'first 2 elements of signal {obj} must be columns in input df')\n",
    "    if obj[2] not in ['crossup', 'crossdown','higher','lower']:\n",
    "        raise ValueError(f\"signal type in {obj} must be one of 'crossup', 'crossdown','higher', or 'lower'\")\n",
    "    if not(isinstance(obj[3], bool)):\n",
    "        raise ValueError(f'signal accumulator field in {obj} must be boolean')\n",
    "        \n",
    "def check_list(obj, df):\n",
    "    if (len(obj) - 1)%2 != 0:\n",
    "        raise ValueError(f'signal {obj} must have total length of 3, or 5, or 7, etc elements')\n",
    "    for i,el in enumerate(obj):\n",
    "        if i%2 == 0:\n",
    "            check_tuple(el, df)\n",
    "        else:\n",
    "            if el not in ['and','or']:\n",
    "                raise ValueError(f'elemnts of signal {obj} must be divided by \"and\" or \"or\"')\n",
    "\n",
    "def check_signal(obj, df):\n",
    "    \n",
    "    if not (isinstance(obj, tuple) or isinstance(obj, list)):\n",
    "        raise ValueError(f'signal {obj} must be either tuple or list')\n",
    "    \n",
    "    elif isinstance(obj, tuple):\n",
    "        check_tuple(obj, df)\n",
    "        obj = [obj]\n",
    "    \n",
    "    elif isinstance(obj, list) and len(obj) == 1:\n",
    "        check_tuple(obj[0], df)\n",
    "    \n",
    "    else:\n",
    "        check_list(obj, df)   \n",
    "        \n",
    "    return obj"
   ]
  },
  {
   "cell_type": "code",
   "execution_count": null,
   "id": "9ac9ef52",
   "metadata": {},
   "outputs": [],
   "source": [
    "def parse_tuple(tpl, df):\n",
    "    return Signal(df[tpl[0]].values, df[tpl[1]].values, tpl[2], tpl[3])\n",
    "\n",
    "def parse_signal(obj, df):\n",
    "    f"
   ]
  },
  {
   "cell_type": "code",
   "execution_count": 43,
   "id": "7a7e305b",
   "metadata": {
    "ExecuteTime": {
     "end_time": "2021-05-12T15:32:45.052973Z",
     "start_time": "2021-05-12T15:32:45.032064Z"
    }
   },
   "outputs": [],
   "source": [
    "sig1 = Signal(gazp['Close'].values, gazp['middle'].values,'crossup', False)\n",
    "sig2 = Signal(gazp['Close'].values, gazp['lower'].values, 'crossdown', False)"
   ]
  },
  {
   "cell_type": "code",
   "execution_count": 52,
   "id": "8c22169f",
   "metadata": {
    "ExecuteTime": {
     "end_time": "2021-05-12T15:48:13.539751Z",
     "start_time": "2021-05-12T15:48:13.518518Z"
    }
   },
   "outputs": [
    {
     "data": {
      "text/plain": [
       "'and'"
      ]
     },
     "execution_count": 52,
     "metadata": {},
     "output_type": "execute_result"
    }
   ],
   "source": [
    "X = {'a':True, 'b':False}\n",
    "x = (\"a\",\"and\",\"b\")\n",
    "y = (\"a\",\"or\",\"b\")\n",
    "\n",
    "def func(z):\n",
    "    return X[z[0]] and/or X[z[2]]"
   ]
  },
  {
   "cell_type": "code",
   "execution_count": 4,
   "id": "dc314daa",
   "metadata": {
    "ExecuteTime": {
     "end_time": "2021-05-10T19:32:33.984735Z",
     "start_time": "2021-05-10T19:32:33.953721Z"
    }
   },
   "outputs": [],
   "source": [
    "class Strategy:\n",
    "    \n",
    "    def __init__(self, df, enter_long, exit_long, enter_short, exit_short, commission=.0003):\n",
    "        self.df = df\n",
    "        self.enter_long = check_signal(enter_long)\n",
    "        self.exit_long = check_signal(exit_long)\n",
    "        self.enter_short = check_signal(enter_short)\n",
    "        self.exit_short = check_signal(exit_short)\n",
    "        self.commission = commission\n",
    "        \n",
    "    \n",
    "    @njit\n",
    "    def run(self):\n",
    "        enter_long = Signal(self.enter_long)\n",
    "        exit_long = Signal(self.exit_long)\n",
    "        enter_short = Signal(self.enter_short)\n",
    "        exit_short = Signal(self.exit_short)\n",
    "\n",
    "        L = self.price.shape[0]\n",
    "        out = np.empty(L)\n",
    "        out[:2] = 0.0\n",
    "        out[-2:] = 0.0\n",
    "        i = 1\n",
    "\n",
    "        while i < (L-2):\n",
    "            \n",
    "\n",
    "            out[i+1] = 0.0\n",
    "\n",
    "            if enter_long.sig(i) and i < (L-2):\n",
    "                out[i+1] = self.price[i+2]/(self.price[i+1]*(1+self.commission)) - 1.0\n",
    "                trade = True\n",
    "                while trade and i < (L-3):\n",
    "                    i += 1\n",
    "                    out[i+1] = self.price[i+2]/self.price[i+1] - 1.0\n",
    "                    if exit_long.sig(i):\n",
    "                        trade = False\n",
    "                        out[i+1] = (1-self.commission)*self.price[i+2]/self.price[i+1] - 1.0\n",
    "\n",
    "\n",
    "            if enter_short(i) and i < (L-2):\n",
    "                out[i+1] = (1-self.commission)*self.price[i+1]/self.price[i+2] - 1.0\n",
    "                trade = True\n",
    "                while trade and i < (L-3):\n",
    "                    i += 1\n",
    "                    out[i+1] = self.price[i+1]/self.price[i+2] - 1.0\n",
    "                    if exit_short(i):\n",
    "                        trade = False\n",
    "                        out[i+1] = self.price[i+1]/(self.price[i+2]*(1+self.commission)) - 1.0\n",
    "\n",
    "\n",
    "            i +=1\n",
    "        return out"
   ]
  }
 ],
 "metadata": {
  "kernelspec": {
   "display_name": "Python 3",
   "language": "python",
   "name": "python3"
  },
  "language_info": {
   "codemirror_mode": {
    "name": "ipython",
    "version": 3
   },
   "file_extension": ".py",
   "mimetype": "text/x-python",
   "name": "python",
   "nbconvert_exporter": "python",
   "pygments_lexer": "ipython3",
   "version": "3.9.4"
  },
  "toc": {
   "base_numbering": 1,
   "nav_menu": {},
   "number_sections": true,
   "sideBar": true,
   "skip_h1_title": false,
   "title_cell": "Table of Contents",
   "title_sidebar": "Contents",
   "toc_cell": true,
   "toc_position": {},
   "toc_section_display": true,
   "toc_window_display": false
  }
 },
 "nbformat": 4,
 "nbformat_minor": 5
}
