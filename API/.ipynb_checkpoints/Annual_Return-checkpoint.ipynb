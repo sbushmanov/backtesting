{
 "cells": [
  {
   "cell_type": "markdown",
   "metadata": {
    "toc": true
   },
   "source": [
    "<h1>Table of Contents<span class=\"tocSkip\"></span></h1>\n",
    "<div class=\"toc\"><ul class=\"toc-item\"></ul></div>"
   ]
  },
  {
   "cell_type": "code",
   "execution_count": 67,
   "metadata": {},
   "outputs": [
    {
     "data": {
      "application/vnd.jupyter.widget-view+json": {
       "model_id": "",
       "version_major": 2,
       "version_minor": 0
      },
      "text/plain": [
       "HBox(children=(HTML(value=''), FloatProgress(value=0.0, max=10.0), HTML(value='')))"
      ]
     },
     "metadata": {},
     "output_type": "display_data"
    },
    {
     "name": "stdout",
     "output_type": "stream",
     "text": [
      "Start                     2004-08-19 00:00:00\n",
      "End                       2013-03-01 00:00:00\n",
      "Duration                   3116 days 00:00:00\n",
      "Exposure Time [%]                     99.0689\n",
      "Equity Final [$]                       103949\n",
      "Equity Peak [$]                        108328\n",
      "Return [%]                            939.494\n",
      "Buy & Hold Return [%]                 703.458\n",
      "Return (Ann.) [%]                     31.6109\n",
      "Volatility (Ann.) [%]                 44.7398\n",
      "Sharpe Ratio                          0.70655\n",
      "Sortino Ratio                         1.49096\n",
      "Calmar Ratio                         0.718505\n",
      "Max. Drawdown [%]                    -43.9954\n",
      "Avg. Drawdown [%]                    -6.13885\n",
      "Max. Drawdown Duration      690 days 00:00:00\n",
      "Avg. Drawdown Duration       43 days 00:00:00\n",
      "# Trades                                  153\n",
      "Win Rate [%]                           51.634\n",
      "Best Trade [%]                        61.5629\n",
      "Worst Trade [%]                      -19.7783\n",
      "Avg. Trade [%]                        1.55028\n",
      "Max. Trade Duration          83 days 00:00:00\n",
      "Avg. Trade Duration          21 days 00:00:00\n",
      "Profit Factor                         1.98458\n",
      "Expectancy [%]                        1.97988\n",
      "SQN                                   1.60416\n",
      "_strategy                 SmaCross(up_fast...\n",
      "_equity_curve                             ...\n",
      "_trades                        Size  Entry...\n",
      "dtype: object\n"
     ]
    }
   ],
   "source": [
    "from backtesting import Strategy, Backtest\n",
    "from backtesting.lib import crossover\n",
    "from backtesting.test import SMA, GOOG\n",
    "\n",
    "class SmaCross(Strategy):\n",
    "    \n",
    "    up_fast = 10\n",
    "    up_slow = 20\n",
    "    \n",
    "    def init(self):\n",
    "        \n",
    "        price = self.data.Close # to be fed to indicator\n",
    "        self.up_fast = self.I(SMA, price, self.up_fast) # callable, callable args\n",
    "        self.up_slow = self.I(SMA, price, self.up_slow)\n",
    "        \n",
    "    def next(self):\n",
    "        \n",
    "        if crossover(self.up_fast, self.up_slow):\n",
    "            self.buy()\n",
    "            \n",
    "        if crossover(self.up_slow, self.up_fast):\n",
    "            self.sell()\n",
    "\n",
    "bt = Backtest(GOOG, SmaCross, cash=10000,commission=.002, exclusive_orders=True) \n",
    "stats = bt.optimize(up_fast=range(5, 30, 5),\n",
    "                    up_slow=range(10, 70, 5),\n",
    "                    maximize='Equity Final [$]',\n",
    "                    constraint=lambda param: param.up_fast < param.up_slow)\n",
    "eq = stats._equity_curve[\"Equity\"]\n",
    "ret = eq[-1]/eq[0]\n",
    "dur = stats[\"Duration\"].days\n",
    "ret_ann = ret**(252/dur) -1\n",
    "print(stats)"
   ]
  },
  {
   "cell_type": "code",
   "execution_count": 20,
   "metadata": {},
   "outputs": [
    {
     "name": "stdout",
     "output_type": "stream",
     "text": [
      "31.610935989553134 31.61093598955005\n"
     ]
    }
   ],
   "source": [
    "# Return (Ann.) [%]\n",
    "eq = stats._equity_curve[\"Equity\"]\n",
    "ret = eq[-1]/eq[0]\n",
    "dur = stats[\"Duration\"].days\n",
    "dur = bt._data.shape[0]\n",
    "ret_ann = ret**(252/dur) -1\n",
    "print(ret_ann*100, stats[\"Return (Ann.) [%]\"])"
   ]
  },
  {
   "cell_type": "code",
   "execution_count": 68,
   "metadata": {},
   "outputs": [
    {
     "name": "stdout",
     "output_type": "stream",
     "text": [
      "33.10864212390824 44.73981572651169\n"
     ]
    }
   ],
   "source": [
    "# Volatility (Ann.) [%] \n",
    "s = stats._equity_curve.Equity.pct_change().dropna(0).std()*np.sqrt(252)\n",
    "print(s*100, stats[\"Volatility (Ann.) [%]\"])"
   ]
  },
  {
   "cell_type": "code",
   "execution_count": 65,
   "metadata": {},
   "outputs": [],
   "source": [
    "def lognstat(mu, sigma):\n",
    "    \"\"\"Calculate the mean of and variance of the lognormal distribution given\n",
    "    the mean (`mu`) and standard deviation (`sigma`), of the associated normal \n",
    "    distribution.\"\"\"\n",
    "    m = np.exp(mu + sigma**2 / 2.0)\n",
    "    v = np.exp(2 * mu + sigma**2) * (np.exp(sigma**2) - 1)\n",
    "    return m, v"
   ]
  },
  {
   "cell_type": "code",
   "execution_count": 69,
   "metadata": {},
   "outputs": [
    {
     "data": {
      "text/plain": [
       "(38.919616652960244, 46.935262560485356)"
      ]
     },
     "execution_count": 69,
     "metadata": {},
     "output_type": "execute_result"
    }
   ],
   "source": [
    "log_day_returns = np.log(day_returns+1)\n",
    "mu = log_day_returns.mean()*252\n",
    "sigma = log_day_returns.std()*np.sqrt(252)\n",
    "m,v = lognstat(mu,sigma)\n",
    "(m-1)*100, (np.sqrt(v))*100"
   ]
  },
  {
   "cell_type": "code",
   "execution_count": 7,
   "metadata": {},
   "outputs": [
    {
     "name": "stdout",
     "output_type": "stream",
     "text": [
      "1.9798796110462602 1.979879611046262\n"
     ]
    }
   ],
   "source": [
    "# Trade Expectancy [%]\n",
    "exp_ret = stats._trades[\"ReturnPct\"].mean()\n",
    "print(exp_ret*100, stats[\"Expectancy [%]\"])"
   ]
  },
  {
   "cell_type": "code",
   "execution_count": 8,
   "metadata": {},
   "outputs": [
    {
     "name": "stdout",
     "output_type": "stream",
     "text": [
      "0.0007587325902018716\n"
     ]
    }
   ],
   "source": [
    "# Trade expectancy per day\n",
    "trade_duration = round(dur*stats[\"Exposure Time [%]\"]/100)\n",
    "exp_ret_per_day = ret**(1/trade_duration) -1\n",
    "print(exp_ret_per_day)"
   ]
  },
  {
   "cell_type": "code",
   "execution_count": 9,
   "metadata": {},
   "outputs": [
    {
     "name": "stdout",
     "output_type": "stream",
     "text": [
      "0.2106145392193397\n"
     ]
    }
   ],
   "source": [
    "# Trade expectancy annualized\n",
    "exp_ret_ann = (1+exp_ret_per_day)**252 -1\n",
    "print(exp_ret_ann)"
   ]
  },
  {
   "cell_type": "code",
   "execution_count": 9,
   "metadata": {},
   "outputs": [
    {
     "data": {
      "text/plain": [
       "1.3161093598955005"
      ]
     },
     "execution_count": 9,
     "metadata": {},
     "output_type": "execute_result"
    }
   ],
   "source": [
    "def geometric_mean(returns):\n",
    "    returns = returns.fillna(0) + 1\n",
    "    return (0 if np.any(returns <= 0) else\n",
    "            np.exp(np.log(returns).sum() / (len(returns) or np.nan)) - 1)\n",
    "\n",
    "day_returns = stats._equity_curve[\"Equity\"].resample('D').last().dropna(0).pct_change()\n",
    "\n",
    "(1+geometric_mean(day_returns))**252"
   ]
  }
 ],
 "metadata": {
  "kernelspec": {
   "display_name": "Python 3",
   "language": "python",
   "name": "python3"
  },
  "language_info": {
   "codemirror_mode": {
    "name": "ipython",
    "version": 3
   },
   "file_extension": ".py",
   "mimetype": "text/x-python",
   "name": "python",
   "nbconvert_exporter": "python",
   "pygments_lexer": "ipython3",
   "version": "3.7.8"
  },
  "toc": {
   "base_numbering": 1,
   "nav_menu": {},
   "number_sections": true,
   "sideBar": true,
   "skip_h1_title": false,
   "title_cell": "Table of Contents",
   "title_sidebar": "Contents",
   "toc_cell": true,
   "toc_position": {},
   "toc_section_display": true,
   "toc_window_display": false
  }
 },
 "nbformat": 4,
 "nbformat_minor": 4
}
