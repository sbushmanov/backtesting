{
 "cells": [
  {
   "cell_type": "markdown",
   "metadata": {
    "toc": true
   },
   "source": [
    "<h1>Table of Contents<span class=\"tocSkip\"></span></h1>\n",
    "<div class=\"toc\"><ul class=\"toc-item\"><li><span><a href=\"#Normal\" data-toc-modified-id=\"Normal-1\"><span class=\"toc-item-num\">1&nbsp;&nbsp;</span>Normal</a></span></li><li><span><a href=\"#Lognormal\" data-toc-modified-id=\"Lognormal-2\"><span class=\"toc-item-num\">2&nbsp;&nbsp;</span>Lognormal</a></span></li><li><span><a href=\"#Returns\" data-toc-modified-id=\"Returns-3\"><span class=\"toc-item-num\">3&nbsp;&nbsp;</span>Returns</a></span></li><li><span><a href=\"#Logreturns\" data-toc-modified-id=\"Logreturns-4\"><span class=\"toc-item-num\">4&nbsp;&nbsp;</span>Logreturns</a></span></li></ul></div>"
   ]
  },
  {
   "cell_type": "markdown",
   "metadata": {},
   "source": [
    "# Normal"
   ]
  },
  {
   "cell_type": "code",
   "execution_count": 24,
   "metadata": {},
   "outputs": [
    {
     "data": {
      "text/plain": [
       "(0.03290710973820492, 0.9838262925597459)"
      ]
     },
     "execution_count": 24,
     "metadata": {},
     "output_type": "execute_result"
    }
   ],
   "source": [
    "np.random.seed(42)\n",
    "T = 2520\n",
    "x = np.random.randn(T)\n",
    "x_mean = x.mean()\n",
    "x_std = x.std(ddof=1)\n",
    "x_mean, x_std"
   ]
  },
  {
   "cell_type": "markdown",
   "metadata": {},
   "source": [
    "# Lognormal"
   ]
  },
  {
   "cell_type": "code",
   "execution_count": 25,
   "metadata": {},
   "outputs": [
    {
     "data": {
      "text/plain": [
       "(1.688225642633398, 2.24986968350467)"
      ]
     },
     "execution_count": 25,
     "metadata": {},
     "output_type": "execute_result"
    }
   ],
   "source": [
    "x_log = np.exp(x)\n",
    "x_log_mean = x_log.mean()\n",
    "x_log_std = x_log.std(ddof=1)\n",
    "x_log_mean, x_log_std"
   ]
  },
  {
   "cell_type": "code",
   "execution_count": 26,
   "metadata": {},
   "outputs": [
    {
     "data": {
      "text/plain": [
       "(1.6767614031232687, 2.14235251337104)"
      ]
     },
     "execution_count": 26,
     "metadata": {},
     "output_type": "execute_result"
    }
   ],
   "source": [
    "def lognstat(mu, sigma):\n",
    "    \"\"\"Calculate the mean of and variance of the lognormal distribution given\n",
    "    the mean (`mu`) and standard deviation (`sigma`), of the associated normal \n",
    "    distribution.\"\"\"\n",
    "    m = np.exp(mu + sigma**2 / 2.0)\n",
    "    v = np.exp(2 * mu + sigma**2) * (np.exp(sigma**2) - 1)\n",
    "    return m, np.sqrt(v)\n",
    "\n",
    "lognstat(x_mean,x_std)"
   ]
  },
  {
   "cell_type": "markdown",
   "metadata": {},
   "source": [
    "# Returns"
   ]
  },
  {
   "cell_type": "code",
   "execution_count": 35,
   "metadata": {},
   "outputs": [
    {
     "data": {
      "text/plain": [
       "(1.000329071097382, 0.00983631069560987)"
      ]
     },
     "execution_count": 35,
     "metadata": {},
     "output_type": "execute_result"
    }
   ],
   "source": [
    "np.random.seed(42)\n",
    "ret = np.random.randn(T)/100\n",
    "ret.mean()+1, ret.std()"
   ]
  },
  {
   "cell_type": "code",
   "execution_count": 44,
   "metadata": {},
   "outputs": [
    {
     "data": {
      "text/plain": [
       "(1.086719364965531, 0.17089181700877332)"
      ]
     },
     "execution_count": 44,
     "metadata": {},
     "output_type": "execute_result"
    }
   ],
   "source": [
    "N = 100000\n",
    "ret \n",
    "arr = np.zeros(N)\n",
    "for i in range(N):\n",
    "    arr[i] = np.prod(np.random.choice(ret, size=252)+1)\n",
    "\n",
    "arr.mean(), arr.std()"
   ]
  },
  {
   "cell_type": "markdown",
   "metadata": {},
   "source": [
    "# Logreturns"
   ]
  },
  {
   "cell_type": "code",
   "execution_count": 32,
   "metadata": {},
   "outputs": [],
   "source": [
    "logret = np.log(1+ret)"
   ]
  },
  {
   "cell_type": "code",
   "execution_count": 33,
   "metadata": {},
   "outputs": [
    {
     "data": {
      "text/plain": [
       "(1.0003290705725376, 0.009836144123486837)"
      ]
     },
     "execution_count": 33,
     "metadata": {},
     "output_type": "execute_result"
    }
   ],
   "source": [
    "lognstat(logret.mean(),logret.std())"
   ]
  },
  {
   "cell_type": "code",
   "execution_count": 36,
   "metadata": {},
   "outputs": [
    {
     "data": {
      "text/plain": [
       "(1.0864463524969215, 0.17062029188382657)"
      ]
     },
     "execution_count": 36,
     "metadata": {},
     "output_type": "execute_result"
    }
   ],
   "source": [
    "lognstat(logret.mean()*252,logret.std()*np.sqrt(252))"
   ]
  },
  {
   "cell_type": "code",
   "execution_count": 45,
   "metadata": {},
   "outputs": [
    {
     "data": {
      "text/plain": [
       "1.0732917038556247"
      ]
     },
     "execution_count": 45,
     "metadata": {},
     "output_type": "execute_result"
    }
   ],
   "source": [
    "np.exp(logret.mean()*252)"
   ]
  },
  {
   "cell_type": "code",
   "execution_count": 52,
   "metadata": {},
   "outputs": [
    {
     "data": {
      "text/plain": [
       "(1.0867431699668038, 0.17078777666715064)"
      ]
     },
     "execution_count": 52,
     "metadata": {},
     "output_type": "execute_result"
    }
   ],
   "source": [
    "# draw yearly returns 100000\n",
    "# assess if we are correct on average\n",
    "N = 100000\n",
    "arr = np.zeros(N)\n",
    "for i in range(N):\n",
    "    arr[i] = np.prod(np.random.choice(ret, size=252)+1)\n",
    "\n",
    "arr.mean(), arr.std()"
   ]
  },
  {
   "cell_type": "code",
   "execution_count": 51,
   "metadata": {},
   "outputs": [
    {
     "data": {
      "text/plain": [
       "(1.0864463524969215, 0.17062029188382657)"
      ]
     },
     "execution_count": 51,
     "metadata": {},
     "output_type": "execute_result"
    }
   ],
   "source": [
    "# what are our predictions for original returns\n",
    "# inferred from distribution of logtransformed returns\n",
    "np.random.seed(42)\n",
    "T = 2520\n",
    "ret = np.random.randn(T)/100\n",
    "N = 100000\n",
    "def lognstat(mu, sigma):\n",
    "    \"\"\"Calculate the mean of and variance of the lognormal distribution given\n",
    "    the mean (`mu`) and standard deviation (`sigma`), of the associated normal \n",
    "    distribution.\"\"\"\n",
    "    m = np.exp(mu + sigma**2 / 2.0)\n",
    "    v = np.exp(2 * mu + sigma**2) * (np.exp(sigma**2) - 1)\n",
    "    return m, np.sqrt(v)\n",
    "\n",
    "log_ret = np.log(1+ret)\n",
    "lognstat(logret.mean()*252,logret.std()*np.sqrt(252))"
   ]
  }
 ],
 "metadata": {
  "kernelspec": {
   "display_name": "Python 3",
   "language": "python",
   "name": "python3"
  },
  "language_info": {
   "codemirror_mode": {
    "name": "ipython",
    "version": 3
   },
   "file_extension": ".py",
   "mimetype": "text/x-python",
   "name": "python",
   "nbconvert_exporter": "python",
   "pygments_lexer": "ipython3",
   "version": "3.7.8"
  },
  "toc": {
   "base_numbering": 1,
   "nav_menu": {},
   "number_sections": true,
   "sideBar": true,
   "skip_h1_title": false,
   "title_cell": "Table of Contents",
   "title_sidebar": "Contents",
   "toc_cell": true,
   "toc_position": {},
   "toc_section_display": true,
   "toc_window_display": false
  }
 },
 "nbformat": 4,
 "nbformat_minor": 4
}
