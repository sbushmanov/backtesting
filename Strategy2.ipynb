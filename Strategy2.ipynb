{
 "cells": [
  {
   "cell_type": "markdown",
   "id": "bcf16427",
   "metadata": {
    "toc": true
   },
   "source": [
    "<h1>Table of Contents<span class=\"tocSkip\"></span></h1>\n",
    "<div class=\"toc\"><ul class=\"toc-item\"></ul></div>"
   ]
  },
  {
   "cell_type": "code",
   "execution_count": 18,
   "id": "e3640a3f",
   "metadata": {
    "ExecuteTime": {
     "end_time": "2021-06-02T05:47:11.538918Z",
     "start_time": "2021-06-02T05:47:07.932561Z"
    }
   },
   "outputs": [],
   "source": [
    "from utils2 import MultiSig\n",
    "from talib import BBANDS\n",
    "\n",
    "gazp = pd.read_csv(\"gazp.csv\", parse_dates=[\"Date\"]).sort_values(\"Date\")\n",
    "gazp = gazp[:150]\n",
    "date = gazp['Date']\n",
    "price = gazp[\"Close\"].values\n",
    "gazp['upper'], gazp['middle'], gazp['lower'] = BBANDS(price, 20, 2, 2, matype=0)"
   ]
  },
  {
   "cell_type": "code",
   "execution_count": 48,
   "id": "e975383d",
   "metadata": {
    "ExecuteTime": {
     "end_time": "2021-06-02T06:18:16.339326Z",
     "start_time": "2021-06-02T06:18:16.334714Z"
    }
   },
   "outputs": [],
   "source": [
    "enter_long = (('Close','lower','crossup',False),)\n",
    "exit_long = (\n",
    "    ('Close','middle','crossup',False),\n",
    "    'or_',\n",
    "    ('Close','lower','crossdown',False)\n",
    ")"
   ]
  },
  {
   "cell_type": "code",
   "execution_count": 49,
   "id": "fd03c606",
   "metadata": {
    "ExecuteTime": {
     "end_time": "2021-06-02T06:18:24.736353Z",
     "start_time": "2021-06-02T06:18:24.731544Z"
    }
   },
   "outputs": [],
   "source": [
    "enter_short = (('Close','upper','crossdown',False),)\n",
    "exit_short = (\n",
    "    ('Close','middle','crossdown',False),\n",
    "    'or_',\n",
    "    ('Close','upper','crossup',False)\n",
    ")"
   ]
  },
  {
   "cell_type": "code",
   "execution_count": 21,
   "id": "a3c8598c",
   "metadata": {
    "ExecuteTime": {
     "end_time": "2021-06-02T05:47:22.554744Z",
     "start_time": "2021-06-02T05:47:22.548141Z"
    }
   },
   "outputs": [
    {
     "data": {
      "text/plain": [
       "((('Close', 'lower', 'crossup', False), 'NOP'),)"
      ]
     },
     "execution_count": 21,
     "metadata": {},
     "output_type": "execute_result"
    }
   ],
   "source": [
    "def parse_sig(sig):\n",
    "    L = len(sig)\n",
    "    out = ()\n",
    "    for i in range(0, L, 2):\n",
    "            out += ((sig[i], sig[i + 1]),) if i < L - 1 else ((sig[i], \"NOP\"),)\n",
    "    return out\n",
    "\n",
    "parse_sig((enter_long,))"
   ]
  },
  {
   "cell_type": "code",
   "execution_count": 69,
   "id": "4f5e3e9b",
   "metadata": {
    "ExecuteTime": {
     "end_time": "2021-06-02T07:04:39.812663Z",
     "start_time": "2021-06-02T07:04:39.799285Z"
    }
   },
   "outputs": [],
   "source": [
    "def check_sig(sig, df, debug):\n",
    "    '''\n",
    "    1. Tuple of tuples\n",
    "    2. Odd elements are tuples of 4, first 2 are cols, 3rd is 'how', 4th is bool\n",
    "    3. Evens are either 'and_' or 'or_'\n",
    "    '''\n",
    "    if (not isinstance(sig, tuple)) or (not isinstance(sig[0], tuple)):\n",
    "        raise ValueError(f\"Signal {sig} must be tuple of tuples\")\n",
    "    for i, el in enumerate(sig):\n",
    "        if i%2 == 0:\n",
    "            if len(el) != 4:\n",
    "                raise ValueError(f\"Signal {el} doesn't have 4 elements\")\n",
    "            cols = df.columns\n",
    "            if el[0] not in cols:\n",
    "                raise ValueError(f\"'{el[0]}' in {sig} is not a column supplied df\")\n",
    "            if el[1] not in cols:\n",
    "                raise ValueError(f\"'{el[1]}' in {sig} is not a column supplied df\")\n",
    "            if el[2] not in ['crossup','crossdown','lt_','gt_']:\n",
    "                raise ValueError(f\"'{el[2]}' in {sig} must be one of 'crossup','crossdown', 'lt', or 'gt'\")\n",
    "            if not isinstance(el[3], bool):\n",
    "                raise ValueError(f\"'{el[3]}' in {sig} must be boolean\")\n",
    "        else:\n",
    "            if el not in ['and_','or_']:\n",
    "                raise ValueError(f\"Logic '{el}' in {sig} must be one of 'and_' or 'or_'\")\n",
    "    if debug:\n",
    "        print(f\"Signal {sig} is correctly defined\")\n",
    "    \n",
    "def parse_sig(sig, df, debug):\n",
    "    check_sig(sig, df, debug)\n",
    "    L = len(sig)\n",
    "    out = ()\n",
    "    for i in range(0, L, 2):\n",
    "        S = (df[sig[i][0]].values,df[sig[i][1]].values,sig[i][2],sig[i][3])\n",
    "        out += ((S, sig[i + 1]),) if i < L - 1 else ((S, \"NOP\"),)\n",
    "    return out"
   ]
  },
  {
   "cell_type": "code",
   "execution_count": null,
   "id": "4042d230",
   "metadata": {},
   "outputs": [],
   "source": [
    "class Strategy:\n",
    "    \n",
    "    def __init__(self, df, enter_long, exit_long, enter_short, exit_short, commission=.0003, debug=False):\n",
    "        self.df = df\n",
    "        self.enter_long = parse_sig(enter_long, df, debug)\n",
    "        self.exit_long = parse_sig(exit_long, df, debug)\n",
    "        self.enter_short = parse_sig(enter_short, df, debug)\n",
    "        self.exit_short = parse_sig(exit_short, df, debug)\n",
    "        self.commission = commission\n",
    "    \n",
    "    @staticmethod\n",
    "    def check_sig(sig, df, debug):\n",
    "    '''\n",
    "    1. Tuple of tuples\n",
    "    2. Odd elements are tuples of 4, first 2 are cols, 3rd is 'how', 4th is bool\n",
    "    3. Evens are either 'and_' or 'or_'\n",
    "    '''\n",
    "    if (not isinstance(sig, tuple)) or (not isinstance(sig[0], tuple)):\n",
    "        raise ValueError(f\"Signal {sig} must be tuple of tuples\")\n",
    "    for i, el in enumerate(sig):\n",
    "        if i%2 == 0:\n",
    "            if len(el) != 4:\n",
    "                raise ValueError(f\"Signal {el} doesn't have 4 elements\")\n",
    "            cols = df.columns\n",
    "            if el[0] not in cols:\n",
    "                raise ValueError(f\"'{el[0]}' in {sig} is not a column supplied df\")\n",
    "            if el[1] not in cols:\n",
    "                raise ValueError(f\"'{el[1]}' in {sig} is not a column supplied df\")\n",
    "            if el[2] not in ['crossup','crossdown','lt_','gt_']:\n",
    "                raise ValueError(f\"'{el[2]}' in {sig} must be one of 'crossup','crossdown', 'lt', or 'gt'\")\n",
    "            if not isinstance(el[3], bool):\n",
    "                raise ValueError(f\"'{el[3]}' in {sig} must be boolean\")\n",
    "        else:\n",
    "            if el not in ['and_','or_']:\n",
    "                raise ValueError(f\"Logic '{el}' in {sig} must be one of 'and_' or 'or_'\")\n",
    "    if debug:\n",
    "        print(f\"Signal {sig} is correctly defined\")\n",
    "        \n",
    "    \n",
    "    @staticmethod\n",
    "    def parse_sig(sig, df, debug):\n",
    "        check_sig(sig, df, debug)\n",
    "        L = len(sig)\n",
    "        out = ()\n",
    "        for i in range(0, L, 2):\n",
    "            S = (df[sig[i][0]].values,df[sig[i][1]].values,sig[i][2],sig[i][3])\n",
    "            out += ((S, sig[i + 1]),) if i < L - 1 else ((S, \"NOP\"),)\n",
    "        return out\n",
    "    \n",
    "    @njit\n",
    "    def run(self):\n",
    "        enter_long = Signal(self.enter_long)\n",
    "        exit_long = Signal(self.exit_long)\n",
    "        enter_short = Signal(self.enter_short)\n",
    "        exit_short = Signal(self.exit_short)\n",
    "\n",
    "        L = self.price.shape[0]\n",
    "        out = np.empty(L)\n",
    "        out[:2] = 0.0\n",
    "        out[-2:] = 0.0\n",
    "        i = 1\n",
    "\n",
    "        while i < (L-2):\n",
    "            \n",
    "\n",
    "            out[i+1] = 0.0\n",
    "\n",
    "            if enter_long.sig(i) and i < (L-2):\n",
    "                out[i+1] = self.price[i+2]/(self.price[i+1]*(1+self.commission)) - 1.0\n",
    "                trade = True\n",
    "                while trade and i < (L-3):\n",
    "                    i += 1\n",
    "                    out[i+1] = self.price[i+2]/self.price[i+1] - 1.0\n",
    "                    if exit_long.sig(i):\n",
    "                        trade = False\n",
    "                        out[i+1] = (1-self.commission)*self.price[i+2]/self.price[i+1] - 1.0\n",
    "\n",
    "\n",
    "            if enter_short(i) and i < (L-2):\n",
    "                out[i+1] = (1-self.commission)*self.price[i+1]/self.price[i+2] - 1.0\n",
    "                trade = True\n",
    "                while trade and i < (L-3):\n",
    "                    i += 1\n",
    "                    out[i+1] = self.price[i+1]/self.price[i+2] - 1.0\n",
    "                    if exit_short(i):\n",
    "                        trade = False\n",
    "                        out[i+1] = self.price[i+1]/(self.price[i+2]*(1+self.commission)) - 1.0\n",
    "\n",
    "\n",
    "            i +=1\n",
    "        return out"
   ]
  }
 ],
 "metadata": {
  "kernelspec": {
   "display_name": "Python 3",
   "language": "python",
   "name": "python3"
  },
  "language_info": {
   "codemirror_mode": {
    "name": "ipython",
    "version": 3
   },
   "file_extension": ".py",
   "mimetype": "text/x-python",
   "name": "python",
   "nbconvert_exporter": "python",
   "pygments_lexer": "ipython3",
   "version": "3.9.4"
  },
  "toc": {
   "base_numbering": 1,
   "nav_menu": {},
   "number_sections": true,
   "sideBar": true,
   "skip_h1_title": false,
   "title_cell": "Table of Contents",
   "title_sidebar": "Contents",
   "toc_cell": true,
   "toc_position": {},
   "toc_section_display": true,
   "toc_window_display": false
  }
 },
 "nbformat": 4,
 "nbformat_minor": 5
}
