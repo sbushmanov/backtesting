{
 "cells": [
  {
   "cell_type": "markdown",
   "metadata": {
    "toc": true
   },
   "source": [
    "<h1>Table of Contents<span class=\"tocSkip\"></span></h1>\n",
    "<div class=\"toc\"><ul class=\"toc-item\"></ul></div>"
   ]
  },
  {
   "cell_type": "code",
   "execution_count": 14,
   "metadata": {},
   "outputs": [],
   "source": [
    "from skopt.learning import ExtraTreesRegressor\n",
    "from sklearn.datasets import make_regression\n",
    "from sklearn.model_selection import train_test_split\n",
    "from sklearn.metrics import mean_squared_error\n",
    "from lightgbm.sklearn import LGBMRegressor\n",
    "from ngboost import NGBRegressor\n",
    "from ngboost.distns import Normal\n",
    "np.random.seed(42)\n",
    "rnd = np.random.RandomState(42)"
   ]
  },
  {
   "cell_type": "code",
   "execution_count": null,
   "metadata": {},
   "outputs": [],
   "source": [
    "X,y = make_regression(1000,100, random_state=rnd)\n",
    "X_train, X_test, y_train, y_test = train_test_split(X,y, random_state=rnd)"
   ]
  },
  {
   "cell_type": "code",
   "execution_count": 29,
   "metadata": {},
   "outputs": [
    {
     "name": "stdout",
     "output_type": "stream",
     "text": [
      "CPU times: user 28.7 ms, sys: 0 ns, total: 28.7 ms\n",
      "Wall time: 27.2 ms\n"
     ]
    },
    {
     "data": {
      "text/plain": [
       "(9655.225545166513, 127.33751033083503)"
      ]
     },
     "execution_count": 29,
     "metadata": {},
     "output_type": "execute_result"
    }
   ],
   "source": [
    "%%time\n",
    "erf = ExtraTreesRegressor(n_estimators=10, max_depth=3, random_state=rnd)\n",
    "erf.fit(X_train, y_train)\n",
    "erf_mean, erf_std = erf.predict(X_test, return_std=True)\n",
    "mean_squared_error(erf_mean, y_test), erf_std.mean()"
   ]
  },
  {
   "cell_type": "code",
   "execution_count": 30,
   "metadata": {},
   "outputs": [
    {
     "name": "stdout",
     "output_type": "stream",
     "text": [
      "[iter 0] loss=6.3891 val_loss=0.0000 scale=2.0000 norm=232.7423\n",
      "CPU times: user 33.4 s, sys: 1.68 s, total: 35.1 s\n",
      "Wall time: 2.95 s\n"
     ]
    },
    {
     "data": {
      "text/plain": [
       "(5862.552134014378, 78.29087437939015)"
      ]
     },
     "execution_count": 30,
     "metadata": {},
     "output_type": "execute_result"
    }
   ],
   "source": [
    "%%time\n",
    "lgb = LGBMRegressor(n_estimators=10,\n",
    "                    max_depth=3,\n",
    "                    verbose=-1,\n",
    "                    learning_rate=.1,\n",
    "                    force_col_wise=True,\n",
    "                    device=\"cpu\")\n",
    "ngb = NGBRegressor(Dist=Normal, Base=lgb,n_estimators=100).fit(X_train,y_train)\n",
    "preds=ngb.predict(X_test)\n",
    "dist = ngb.pred_dist(X_test)\n",
    "mean_squared_error(y_test,preds), dist.params[\"scale\"].mean()"
   ]
  }
 ],
 "metadata": {
  "kernelspec": {
   "display_name": "Python 3",
   "language": "python",
   "name": "python3"
  },
  "language_info": {
   "codemirror_mode": {
    "name": "ipython",
    "version": 3
   },
   "file_extension": ".py",
   "mimetype": "text/x-python",
   "name": "python",
   "nbconvert_exporter": "python",
   "pygments_lexer": "ipython3",
   "version": "3.7.8"
  },
  "toc": {
   "base_numbering": 1,
   "nav_menu": {},
   "number_sections": true,
   "sideBar": true,
   "skip_h1_title": false,
   "title_cell": "Table of Contents",
   "title_sidebar": "Contents",
   "toc_cell": true,
   "toc_position": {},
   "toc_section_display": true,
   "toc_window_display": false
  }
 },
 "nbformat": 4,
 "nbformat_minor": 4
}
