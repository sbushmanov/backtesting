{
 "cells": [
  {
   "cell_type": "markdown",
   "id": "2f1d377f",
   "metadata": {
    "toc": true
   },
   "source": [
    "<h1>Table of Contents<span class=\"tocSkip\"></span></h1>\n",
    "<div class=\"toc\"><ul class=\"toc-item\"><li><span><a href=\"#Gaps-in-data\" data-toc-modified-id=\"Gaps-in-data-1\"><span class=\"toc-item-num\">1&nbsp;&nbsp;</span>Gaps in data</a></span></li></ul></div>"
   ]
  },
  {
   "cell_type": "code",
   "execution_count": 1,
   "id": "d098b589",
   "metadata": {
    "ExecuteTime": {
     "end_time": "2021-04-25T08:48:52.955874Z",
     "start_time": "2021-04-25T08:48:52.488347Z"
    }
   },
   "outputs": [],
   "source": [
    "gazp = pd.read_csv(\"gazp.csv\", parse_dates=[\"Date\"])\n",
    "gazp = gazp.sort_values(\"Date\").reset_index()\n",
    "gazp[\"Day\"] = gazp.Date.dt.day_name()"
   ]
  },
  {
   "cell_type": "code",
   "execution_count": 2,
   "id": "718ba54e",
   "metadata": {
    "ExecuteTime": {
     "end_time": "2021-04-25T08:48:53.145596Z",
     "start_time": "2021-04-25T08:48:52.957245Z"
    }
   },
   "outputs": [],
   "source": [
    "def gen_CV(gazp, train=1):\n",
    "    gazp = gazp.sort_values(\"Date\").reset_index()\n",
    "    idx = (\n",
    "        gazp.groupby([gazp.Date.dt.year, gazp.Date.dt.isocalendar().week])\n",
    "        .apply(lambda df: df.index.tolist())\n",
    "        .tolist()\n",
    "    )\n",
    "    out = [\n",
    "        ([el for lst in idx[i - train : i] for el in lst], idx[i])\n",
    "        for i in range(train, len(idx))\n",
    "    ]\n",
    "    return out\n",
    "\n",
    "cv = gen_CV(gazp)"
   ]
  },
  {
   "cell_type": "markdown",
   "id": "54ae6c83",
   "metadata": {},
   "source": [
    "# Gaps in data"
   ]
  },
  {
   "cell_type": "code",
   "execution_count": 3,
   "id": "f3ac3855",
   "metadata": {
    "ExecuteTime": {
     "end_time": "2021-04-25T08:48:53.151592Z",
     "start_time": "2021-04-25T08:48:53.147079Z"
    }
   },
   "outputs": [
    {
     "data": {
      "text/plain": [
       "(495, 494)"
      ]
     },
     "execution_count": 3,
     "metadata": {},
     "output_type": "execute_result"
    }
   ],
   "source": [
    "i = 1\n",
    "idx0 = cv[1][0]; idx1 = cv[1][1]\n",
    "len(idx0), len(idx1)"
   ]
  },
  {
   "cell_type": "code",
   "execution_count": 4,
   "id": "6c0db6a9",
   "metadata": {
    "ExecuteTime": {
     "end_time": "2021-04-25T08:48:53.288635Z",
     "start_time": "2021-04-25T08:48:53.152709Z"
    }
   },
   "outputs": [
    {
     "data": {
      "text/plain": [
       "(495, 494)"
      ]
     },
     "execution_count": 4,
     "metadata": {},
     "output_type": "execute_result"
    }
   ],
   "source": [
    "x = gazp.iloc[idx0]\n",
    "y = gazp.iloc[idx1]\n",
    "len(x), len(y)"
   ]
  },
  {
   "cell_type": "code",
   "execution_count": 5,
   "id": "4c8f6de7",
   "metadata": {
    "ExecuteTime": {
     "end_time": "2021-04-25T08:48:53.399377Z",
     "start_time": "2021-04-25T08:48:53.289918Z"
    }
   },
   "outputs": [
    {
     "data": {
      "text/plain": [
       "250"
      ]
     },
     "execution_count": 5,
     "metadata": {},
     "output_type": "execute_result"
    }
   ],
   "source": [
    "np.argmax(x[:-1].Date.dt.minute.values != y.Date.dt.minute.values)"
   ]
  },
  {
   "cell_type": "code",
   "execution_count": 6,
   "id": "ea75215b",
   "metadata": {
    "ExecuteTime": {
     "end_time": "2021-04-25T08:48:53.521507Z",
     "start_time": "2021-04-25T08:48:53.401060Z"
    }
   },
   "outputs": [
    {
     "data": {
      "text/html": [
       "<div>\n",
       "<style scoped>\n",
       "    .dataframe tbody tr th:only-of-type {\n",
       "        vertical-align: middle;\n",
       "    }\n",
       "\n",
       "    .dataframe tbody tr th {\n",
       "        vertical-align: top;\n",
       "    }\n",
       "\n",
       "    .dataframe thead th {\n",
       "        text-align: right;\n",
       "    }\n",
       "</style>\n",
       "<table border=\"1\" class=\"dataframe\">\n",
       "  <thead>\n",
       "    <tr style=\"text-align: right;\">\n",
       "      <th></th>\n",
       "      <th>index</th>\n",
       "      <th>Ticker</th>\n",
       "      <th>Per</th>\n",
       "      <th>Date</th>\n",
       "      <th>Open</th>\n",
       "      <th>High</th>\n",
       "      <th>Low</th>\n",
       "      <th>Close</th>\n",
       "      <th>Volume</th>\n",
       "      <th>Day</th>\n",
       "    </tr>\n",
       "  </thead>\n",
       "  <tbody>\n",
       "    <tr>\n",
       "      <th>1037</th>\n",
       "      <td>1037</td>\n",
       "      <td>GAZP</td>\n",
       "      <td>5</td>\n",
       "      <td>2006-02-15 14:25:00</td>\n",
       "      <td>219.90</td>\n",
       "      <td>219.90</td>\n",
       "      <td>219.56</td>\n",
       "      <td>219.60</td>\n",
       "      <td>3806</td>\n",
       "      <td>Wednesday</td>\n",
       "    </tr>\n",
       "    <tr>\n",
       "      <th>1038</th>\n",
       "      <td>1038</td>\n",
       "      <td>GAZP</td>\n",
       "      <td>5</td>\n",
       "      <td>2006-02-15 14:30:00</td>\n",
       "      <td>219.58</td>\n",
       "      <td>219.70</td>\n",
       "      <td>219.08</td>\n",
       "      <td>219.09</td>\n",
       "      <td>93473</td>\n",
       "      <td>Wednesday</td>\n",
       "    </tr>\n",
       "    <tr>\n",
       "      <th>1039</th>\n",
       "      <td>1039</td>\n",
       "      <td>GAZP</td>\n",
       "      <td>5</td>\n",
       "      <td>2006-02-15 14:35:00</td>\n",
       "      <td>219.08</td>\n",
       "      <td>219.24</td>\n",
       "      <td>219.06</td>\n",
       "      <td>219.24</td>\n",
       "      <td>12700</td>\n",
       "      <td>Wednesday</td>\n",
       "    </tr>\n",
       "    <tr>\n",
       "      <th>1040</th>\n",
       "      <td>1040</td>\n",
       "      <td>GAZP</td>\n",
       "      <td>5</td>\n",
       "      <td>2006-02-15 14:40:00</td>\n",
       "      <td>219.24</td>\n",
       "      <td>219.25</td>\n",
       "      <td>219.10</td>\n",
       "      <td>219.25</td>\n",
       "      <td>31362</td>\n",
       "      <td>Wednesday</td>\n",
       "    </tr>\n",
       "    <tr>\n",
       "      <th>1041</th>\n",
       "      <td>1041</td>\n",
       "      <td>GAZP</td>\n",
       "      <td>5</td>\n",
       "      <td>2006-02-15 14:45:00</td>\n",
       "      <td>219.20</td>\n",
       "      <td>219.30</td>\n",
       "      <td>219.20</td>\n",
       "      <td>219.30</td>\n",
       "      <td>2045</td>\n",
       "      <td>Wednesday</td>\n",
       "    </tr>\n",
       "    <tr>\n",
       "      <th>1042</th>\n",
       "      <td>1042</td>\n",
       "      <td>GAZP</td>\n",
       "      <td>5</td>\n",
       "      <td>2006-02-15 14:55:00</td>\n",
       "      <td>219.28</td>\n",
       "      <td>219.30</td>\n",
       "      <td>219.25</td>\n",
       "      <td>219.25</td>\n",
       "      <td>1750</td>\n",
       "      <td>Wednesday</td>\n",
       "    </tr>\n",
       "    <tr>\n",
       "      <th>1043</th>\n",
       "      <td>1043</td>\n",
       "      <td>GAZP</td>\n",
       "      <td>5</td>\n",
       "      <td>2006-02-15 15:00:00</td>\n",
       "      <td>219.30</td>\n",
       "      <td>219.30</td>\n",
       "      <td>219.26</td>\n",
       "      <td>219.26</td>\n",
       "      <td>156</td>\n",
       "      <td>Wednesday</td>\n",
       "    </tr>\n",
       "    <tr>\n",
       "      <th>1044</th>\n",
       "      <td>1044</td>\n",
       "      <td>GAZP</td>\n",
       "      <td>5</td>\n",
       "      <td>2006-02-15 15:05:00</td>\n",
       "      <td>219.29</td>\n",
       "      <td>219.30</td>\n",
       "      <td>219.29</td>\n",
       "      <td>219.30</td>\n",
       "      <td>20560</td>\n",
       "      <td>Wednesday</td>\n",
       "    </tr>\n",
       "    <tr>\n",
       "      <th>1045</th>\n",
       "      <td>1045</td>\n",
       "      <td>GAZP</td>\n",
       "      <td>5</td>\n",
       "      <td>2006-02-15 15:10:00</td>\n",
       "      <td>219.30</td>\n",
       "      <td>219.33</td>\n",
       "      <td>219.23</td>\n",
       "      <td>219.23</td>\n",
       "      <td>5240</td>\n",
       "      <td>Wednesday</td>\n",
       "    </tr>\n",
       "    <tr>\n",
       "      <th>1046</th>\n",
       "      <td>1046</td>\n",
       "      <td>GAZP</td>\n",
       "      <td>5</td>\n",
       "      <td>2006-02-15 15:15:00</td>\n",
       "      <td>219.33</td>\n",
       "      <td>219.48</td>\n",
       "      <td>219.33</td>\n",
       "      <td>219.46</td>\n",
       "      <td>34</td>\n",
       "      <td>Wednesday</td>\n",
       "    </tr>\n",
       "  </tbody>\n",
       "</table>\n",
       "</div>"
      ],
      "text/plain": [
       "      index Ticker  Per                Date    Open    High     Low   Close  \\\n",
       "1037   1037   GAZP    5 2006-02-15 14:25:00  219.90  219.90  219.56  219.60   \n",
       "1038   1038   GAZP    5 2006-02-15 14:30:00  219.58  219.70  219.08  219.09   \n",
       "1039   1039   GAZP    5 2006-02-15 14:35:00  219.08  219.24  219.06  219.24   \n",
       "1040   1040   GAZP    5 2006-02-15 14:40:00  219.24  219.25  219.10  219.25   \n",
       "1041   1041   GAZP    5 2006-02-15 14:45:00  219.20  219.30  219.20  219.30   \n",
       "1042   1042   GAZP    5 2006-02-15 14:55:00  219.28  219.30  219.25  219.25   \n",
       "1043   1043   GAZP    5 2006-02-15 15:00:00  219.30  219.30  219.26  219.26   \n",
       "1044   1044   GAZP    5 2006-02-15 15:05:00  219.29  219.30  219.29  219.30   \n",
       "1045   1045   GAZP    5 2006-02-15 15:10:00  219.30  219.33  219.23  219.23   \n",
       "1046   1046   GAZP    5 2006-02-15 15:15:00  219.33  219.48  219.33  219.46   \n",
       "\n",
       "      Volume        Day  \n",
       "1037    3806  Wednesday  \n",
       "1038   93473  Wednesday  \n",
       "1039   12700  Wednesday  \n",
       "1040   31362  Wednesday  \n",
       "1041    2045  Wednesday  \n",
       "1042    1750  Wednesday  \n",
       "1043     156  Wednesday  \n",
       "1044   20560  Wednesday  \n",
       "1045    5240  Wednesday  \n",
       "1046      34  Wednesday  "
      ]
     },
     "execution_count": 6,
     "metadata": {},
     "output_type": "execute_result"
    }
   ],
   "source": [
    "y[245:255]"
   ]
  }
 ],
 "metadata": {
  "kernelspec": {
   "display_name": "Python 3",
   "language": "python",
   "name": "python3"
  },
  "language_info": {
   "codemirror_mode": {
    "name": "ipython",
    "version": 3
   },
   "file_extension": ".py",
   "mimetype": "text/x-python",
   "name": "python",
   "nbconvert_exporter": "python",
   "pygments_lexer": "ipython3",
   "version": "3.9.2"
  },
  "toc": {
   "base_numbering": 1,
   "nav_menu": {},
   "number_sections": true,
   "sideBar": true,
   "skip_h1_title": false,
   "title_cell": "Table of Contents",
   "title_sidebar": "Contents",
   "toc_cell": true,
   "toc_position": {},
   "toc_section_display": true,
   "toc_window_display": false
  }
 },
 "nbformat": 4,
 "nbformat_minor": 5
}
