{
 "cells": [
  {
   "cell_type": "markdown",
   "id": "874f585a",
   "metadata": {
    "toc": true
   },
   "source": [
    "<h1>Table of Contents<span class=\"tocSkip\"></span></h1>\n",
    "<div class=\"toc\"><ul class=\"toc-item\"></ul></div>"
   ]
  },
  {
   "cell_type": "code",
   "execution_count": 1,
   "id": "239981d1",
   "metadata": {
    "ExecuteTime": {
     "end_time": "2021-05-12T16:36:05.472892Z",
     "start_time": "2021-05-12T16:36:05.099738Z"
    }
   },
   "outputs": [],
   "source": [
    "from numba import njit, float64, int64, boolean\n",
    "from numba.types import unicode_type\n",
    "from numba.experimental import jitclass\n",
    "from utils import gen_GBM\n",
    "from talib import BBANDS, SMA\n",
    "\n",
    "N = 100000\n",
    "price = gen_GBM(N)\n",
    "upper, middle, lower = BBANDS(price, 20, 1, 1)\n",
    "sma_slow = SMA(price, 20)\n",
    "sma_fast = SMA(price, 6)\n",
    "\n",
    "price = price[20:]\n",
    "upper = upper[20:]\n",
    "middle = middle[20:]\n",
    "lower = lower[20:]\n",
    "sma_slow = sma_slow[20:]\n",
    "sma_fast = sma_fast[20:]"
   ]
  },
  {
   "cell_type": "code",
   "execution_count": 2,
   "id": "55cdb002",
   "metadata": {
    "ExecuteTime": {
     "end_time": "2021-05-12T16:36:12.590725Z",
     "start_time": "2021-05-12T16:36:12.574844Z"
    }
   },
   "outputs": [],
   "source": [
    "@njit(fastmath=True)\n",
    "def crossup(x,y,i):\n",
    "    if x[i - 1] < y[i - 1] and x[i] > y[i]:\n",
    "        return 1\n",
    "    else:\n",
    "        return 0\n",
    "\n",
    "    \n",
    "@njit \n",
    "def crossdown(x,y,i):\n",
    "    if x[i - 1] > y[i - 1] and x[i] < y[i]:\n",
    "        return 1\n",
    "    else:\n",
    "        return 0\n",
    "    \n",
    "@njit \n",
    "def gt(x,y,i):\n",
    "    if x[i] > y[i]:\n",
    "        return 1\n",
    "    else:\n",
    "        return 0\n",
    "    \n",
    "@njit \n",
    "def lt(x,y,i):\n",
    "    if x[i] < y[i]:\n",
    "        return 1\n",
    "    else:\n",
    "        return 0\n",
    "\n",
    "spec = [\n",
    "    ('x',float64[:]),\n",
    "    ('y',float64[:]),\n",
    "    ('how',unicode_type),\n",
    "    ('acc', boolean),\n",
    "    ('_acc', int64),\n",
    "    ('i', int64)\n",
    "]\n",
    "\n",
    "@jitclass(spec)\n",
    "class Signal:\n",
    "    \n",
    "    def __init__(self, x, y, how, acc):\n",
    "        self.x = x\n",
    "        self.y = y\n",
    "        if how is None or how not in [\"crossup\", \"crossdown\", \"lower\", \"higher\"]:\n",
    "            raise ValueError(\n",
    "                'how must be one of \"crossup\", \"crossdown\", \"lower\", or \"higher\"'\n",
    "            )\n",
    "        else:\n",
    "            self.how = how\n",
    "        self.acc = acc\n",
    "        self._acc = 0\n",
    "    \n",
    "    def sig(self, i):\n",
    "        \n",
    "        if self.how == \"crossup\":\n",
    "            out = crossup(self.x, self.y, i)\n",
    "                \n",
    "        elif self.how == \"crossdown\":\n",
    "            out = crossdown(self.x, self.y, i)\n",
    "            \n",
    "        elif self.how == \"higher\":\n",
    "            out = gt(self.x, self.y, i)\n",
    "\n",
    "        elif self.how == \"lower\":\n",
    "            out = lt(self.x, self.y, i)\n",
    "            \n",
    "        if self.acc:\n",
    "            self._acc += out\n",
    "            return self._acc\n",
    "        else:\n",
    "            return out"
   ]
  },
  {
   "cell_type": "code",
   "execution_count": 3,
   "id": "3e115784",
   "metadata": {
    "ExecuteTime": {
     "end_time": "2021-05-12T16:36:32.202309Z",
     "start_time": "2021-05-12T16:36:25.681604Z"
    }
   },
   "outputs": [
    {
     "name": "stdout",
     "output_type": "stream",
     "text": [
      "659 ns ± 3.18 ns per loop (mean ± std. dev. of 7 runs, 1000000 loops each)\n"
     ]
    }
   ],
   "source": [
    "sig1 = Signal(price, lower, \"crossup\", True)\n",
    "\n",
    "out = sig1.sig(10)\n",
    "%timeit sig1.sig(10)\n",
    "\n",
    "# 662 ns ± 2.25 ns  with jitclass\n",
    "# 551 ns ± 1.55 ns wo jitclass"
   ]
  },
  {
   "cell_type": "code",
   "execution_count": 4,
   "id": "3306974c",
   "metadata": {
    "ExecuteTime": {
     "end_time": "2021-05-12T16:37:09.064650Z",
     "start_time": "2021-05-12T16:36:58.040979Z"
    }
   },
   "outputs": [
    {
     "name": "stdout",
     "output_type": "stream",
     "text": [
      "1.35 µs ± 3.14 ns per loop (mean ± std. dev. of 7 runs, 1000000 loops each)\n"
     ]
    }
   ],
   "source": [
    "%timeit sig1.sig(10) & sig1.sig(111)"
   ]
  },
  {
   "cell_type": "code",
   "execution_count": 10,
   "id": "083afbfd",
   "metadata": {
    "ExecuteTime": {
     "end_time": "2021-05-12T16:45:42.581411Z",
     "start_time": "2021-05-12T16:45:31.079304Z"
    }
   },
   "outputs": [
    {
     "name": "stdout",
     "output_type": "stream",
     "text": [
      "1.41 µs ± 0.74 ns per loop (mean ± std. dev. of 7 runs, 1000000 loops each)\n"
     ]
    }
   ],
   "source": [
    "%timeit getattr(operator, 'and_')(sig1.sig(10),sig1.sig(111))"
   ]
  },
  {
   "cell_type": "code",
   "execution_count": 9,
   "id": "66f62462",
   "metadata": {
    "ExecuteTime": {
     "end_time": "2021-05-12T16:44:37.123463Z",
     "start_time": "2021-05-12T16:44:37.113743Z"
    }
   },
   "outputs": [
    {
     "data": {
      "text/plain": [
       "False"
      ]
     },
     "execution_count": 9,
     "metadata": {},
     "output_type": "execute_result"
    }
   ],
   "source": [
    "import operator\n",
    "getattr(operator, 'and_')(True, False)"
   ]
  },
  {
   "cell_type": "code",
   "execution_count": 4,
   "id": "911e1e70",
   "metadata": {
    "ExecuteTime": {
     "end_time": "2021-05-11T06:29:33.676781Z",
     "start_time": "2021-05-11T06:29:31.136804Z"
    }
   },
   "outputs": [
    {
     "name": "stdout",
     "output_type": "stream",
     "text": [
      "306 ns ± 0.103 ns per loop (mean ± std. dev. of 7 runs, 1000000 loops each)\n"
     ]
    }
   ],
   "source": [
    "x = crossup(price, lower, 10)\n",
    "%timeit crossup(price, lower, 10)\n",
    "\n",
    "# 303 ns ± 0.924"
   ]
  },
  {
   "cell_type": "code",
   "execution_count": 5,
   "id": "2932d0f1",
   "metadata": {
    "ExecuteTime": {
     "end_time": "2021-05-11T06:29:39.652347Z",
     "start_time": "2021-05-11T06:29:33.677931Z"
    }
   },
   "outputs": [
    {
     "name": "stdout",
     "output_type": "stream",
     "text": [
      "72.7 ms ± 517 µs per loop (mean ± std. dev. of 7 runs, 10 loops each)\n"
     ]
    }
   ],
   "source": [
    "# @njit\n",
    "def gen_ret(p, l):    \n",
    "    sig = Signal(price, lower, \"crossup\", True)\n",
    "    L = p.shape[0]\n",
    "    out = np.empty(L, dtype=np.int64)\n",
    "    out[0] = 0\n",
    "    for i in range(1,L):\n",
    "        out[i] = sig.sig(1)\n",
    "    return out\n",
    "\n",
    "out_ = gen_ret(price, lower)\n",
    "%timeit gen_ret(price, lower)\n",
    "\n",
    "# 2.36 ms ± 763 ns"
   ]
  },
  {
   "cell_type": "code",
   "execution_count": 16,
   "id": "f57b70cc",
   "metadata": {
    "ExecuteTime": {
     "end_time": "2021-05-11T06:54:19.659947Z",
     "start_time": "2021-05-11T06:54:17.442283Z"
    }
   },
   "outputs": [
    {
     "name": "stdout",
     "output_type": "stream",
     "text": [
      "2.39 ms ± 11.9 µs per loop (mean ± std. dev. of 7 runs, 100 loops each)\n"
     ]
    }
   ],
   "source": [
    "@njit(fastmath=True, boundscheck = 0)\n",
    "def gen_ret(p, l):    \n",
    "    sig = Signal(price, lower, \"crossup\", True)\n",
    "    L = p.shape[0]\n",
    "    out = np.empty(L, dtype=np.int64)\n",
    "    out[0] = 0\n",
    "    for i in range(1,L):\n",
    "        out[i] = sig.sig(1)\n",
    "    return out\n",
    "\n",
    "out_ = gen_ret(price, lower)\n",
    "%timeit gen_ret(price, lower)\n",
    "\n",
    "# 2.36 ms ± 946 ns"
   ]
  },
  {
   "cell_type": "code",
   "execution_count": 7,
   "id": "d41cfa5b",
   "metadata": {
    "ExecuteTime": {
     "end_time": "2021-05-11T06:29:41.858840Z",
     "start_time": "2021-05-11T06:29:41.854629Z"
    }
   },
   "outputs": [],
   "source": [
    "x = np.random.randn(100000)"
   ]
  },
  {
   "cell_type": "code",
   "execution_count": 8,
   "id": "0be5c1c5",
   "metadata": {
    "ExecuteTime": {
     "end_time": "2021-05-11T06:29:44.666911Z",
     "start_time": "2021-05-11T06:29:41.859883Z"
    }
   },
   "outputs": [
    {
     "name": "stdout",
     "output_type": "stream",
     "text": [
      "33.2 µs ± 7.62 ns per loop (mean ± std. dev. of 7 runs, 10000 loops each)\n"
     ]
    }
   ],
   "source": [
    "%timeit x.sum()"
   ]
  },
  {
   "cell_type": "code",
   "execution_count": 9,
   "id": "4763c658",
   "metadata": {
    "ExecuteTime": {
     "end_time": "2021-05-11T06:29:59.322379Z",
     "start_time": "2021-05-11T06:29:44.668027Z"
    }
   },
   "outputs": [
    {
     "name": "stdout",
     "output_type": "stream",
     "text": [
      "18 µs ± 22.2 ns per loop (mean ± std. dev. of 7 runs, 100000 loops each)\n"
     ]
    }
   ],
   "source": [
    "@njit(fastmath=True)\n",
    "def func(x):\n",
    "    s = 0.0\n",
    "    L = x.shape[0]\n",
    "    for i in range(L):\n",
    "        s += x[i]\n",
    "    return s\n",
    "        \n",
    "%timeit func(x)"
   ]
  },
  {
   "cell_type": "code",
   "execution_count": 12,
   "id": "e7fe6e26",
   "metadata": {
    "ExecuteTime": {
     "end_time": "2021-05-11T06:50:29.806038Z",
     "start_time": "2021-05-11T06:50:29.800204Z"
    }
   },
   "outputs": [
    {
     "data": {
      "text/plain": [
       "(bool, unicode_type)"
      ]
     },
     "execution_count": 12,
     "metadata": {},
     "output_type": "execute_result"
    }
   ],
   "source": [
    "from numba import typeof\n",
    "typeof(True), typeof('str')"
   ]
  }
 ],
 "metadata": {
  "kernelspec": {
   "display_name": "Python 3",
   "language": "python",
   "name": "python3"
  },
  "language_info": {
   "codemirror_mode": {
    "name": "ipython",
    "version": 3
   },
   "file_extension": ".py",
   "mimetype": "text/x-python",
   "name": "python",
   "nbconvert_exporter": "python",
   "pygments_lexer": "ipython3",
   "version": "3.9.4"
  },
  "toc": {
   "base_numbering": 1,
   "nav_menu": {},
   "number_sections": true,
   "sideBar": true,
   "skip_h1_title": false,
   "title_cell": "Table of Contents",
   "title_sidebar": "Contents",
   "toc_cell": true,
   "toc_position": {},
   "toc_section_display": true,
   "toc_window_display": false
  }
 },
 "nbformat": 4,
 "nbformat_minor": 5
}
