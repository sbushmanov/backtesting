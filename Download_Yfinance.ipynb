{
 "cells": [
  {
   "cell_type": "markdown",
   "id": "comic-basketball",
   "metadata": {
    "toc": true
   },
   "source": [
    "<h1>Table of Contents<span class=\"tocSkip\"></span></h1>\n",
    "<div class=\"toc\"><ul class=\"toc-item\"></ul></div>"
   ]
  },
  {
   "cell_type": "code",
   "execution_count": 4,
   "id": "hollow-reading",
   "metadata": {
    "ExecuteTime": {
     "end_time": "2021-02-24T13:30:37.937144Z",
     "start_time": "2021-02-24T13:30:37.548346Z"
    }
   },
   "outputs": [
    {
     "name": "stdout",
     "output_type": "stream",
     "text": [
      "[*********************100%***********************]  3 of 3 completed\n",
      "\n",
      "3 Failed downloads:\n",
      "- NVTK.ME: Data doesn't exist for startDate = 1262293200, endDate = 1293742800\n",
      "- GAZP.ME: 1h data not available for startTime=1267597800 and endTime=1293742800. The requested range must be within the last 730 days.\n",
      "- ROSN.ME: 1h data not available for startTime=1267597800 and endTime=1293742800. The requested range must be within the last 730 days.\n"
     ]
    }
   ],
   "source": [
    "import yfinance as yf\n",
    "tickers = \"ROSN.ME GAZP.ME NVTK.ME\"\n",
    "\n",
    "data = yf.download(tickers, start=\"2010-01-01\", end=\"2010-12-31\", interval=\"1h\")"
   ]
  },
  {
   "cell_type": "code",
   "execution_count": null,
   "id": "congressional-affiliation",
   "metadata": {},
   "outputs": [],
   "source": []
  }
 ],
 "metadata": {
  "kernelspec": {
   "display_name": "Python 3",
   "language": "python",
   "name": "python3"
  },
  "language_info": {
   "codemirror_mode": {
    "name": "ipython",
    "version": 3
   },
   "file_extension": ".py",
   "mimetype": "text/x-python",
   "name": "python",
   "nbconvert_exporter": "python",
   "pygments_lexer": "ipython3",
   "version": "3.7.10"
  },
  "toc": {
   "base_numbering": 1,
   "nav_menu": {},
   "number_sections": true,
   "sideBar": true,
   "skip_h1_title": false,
   "title_cell": "Table of Contents",
   "title_sidebar": "Contents",
   "toc_cell": true,
   "toc_position": {},
   "toc_section_display": true,
   "toc_window_display": false
  }
 },
 "nbformat": 4,
 "nbformat_minor": 5
}
