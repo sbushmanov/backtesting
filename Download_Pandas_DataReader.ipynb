{
 "cells": [
  {
   "cell_type": "markdown",
   "id": "applicable-irrigation",
   "metadata": {
    "toc": true
   },
   "source": [
    "<h1>Table of Contents<span class=\"tocSkip\"></span></h1>\n",
    "<div class=\"toc\"><ul class=\"toc-item\"></ul></div>"
   ]
  },
  {
   "cell_type": "code",
   "execution_count": 1,
   "id": "unnecessary-industry",
   "metadata": {
    "ExecuteTime": {
     "end_time": "2021-02-24T13:09:18.542868Z",
     "start_time": "2021-02-24T13:09:18.424153Z"
    }
   },
   "outputs": [],
   "source": [
    "import pandas_datareader.data as dtr\n",
    "import requests_cache\n",
    "import datetime\n",
    "expire_after = datetime.timedelta(days = 7)\n",
    "session = requests_cache.CachedSession(cache_name='cache', backend='sqlite', expire_after=expire_after)"
   ]
  },
  {
   "cell_type": "code",
   "execution_count": null,
   "id": "international-retailer",
   "metadata": {},
   "outputs": [],
   "source": [
    "tickers = [\"LNTA.ME\",\"MGNT.ME\",\"PIKK.ME\",\n",
    "           \"MTSS.ME\",\"MGTS.ME\",\"RTKM.ME\",\n",
    "           \"ROSN.ME\",\"GAZP.ME\",\"NVTK.ME\",\"LKOH.ME\",\"TATN.ME\",\"SNGS.ME\",\"SIBN.ME\",\n",
    "           \"PLZL.ME\",\"NLMK.ME\",\"CHMF.ME\",\"POLY.ME\",\"RUAL.ME\",\"ALRS.ME\",\n",
    "           \"SBER.ME\",\"VTBR.ME\",\"MOEX.ME\",\"CBOM.ME\",\"YNDX.ME\",\"CBOM.ME\",\"ROSB.ME\",\n",
    "           \"HYDR.ME\",\"RSTI.ME\",\"FEES.ME\"\n",
    "          ]\n",
    "\n",
    "df = pd.DataFrame()\n",
    "\n",
    "for ticker in tickers:\n",
    "    try:\n",
    "        df_ = dtr.DataReader(ticker, data_source=\"yahoo\" , session=session, retry_count=1)\n",
    "        df_.insert(0, \"ticker\", ticker)\n",
    "    except:\n",
    "        print(f\"ticker '{ticker}' failed\")\n",
    "        pass\n",
    "    df = df.append(df_)"
   ]
  }
 ],
 "metadata": {
  "kernelspec": {
   "display_name": "Python 3",
   "language": "python",
   "name": "python3"
  },
  "language_info": {
   "codemirror_mode": {
    "name": "ipython",
    "version": 3
   },
   "file_extension": ".py",
   "mimetype": "text/x-python",
   "name": "python",
   "nbconvert_exporter": "python",
   "pygments_lexer": "ipython3",
   "version": "3.7.10"
  },
  "toc": {
   "base_numbering": 1,
   "nav_menu": {},
   "number_sections": true,
   "sideBar": true,
   "skip_h1_title": false,
   "title_cell": "Table of Contents",
   "title_sidebar": "Contents",
   "toc_cell": true,
   "toc_position": {},
   "toc_section_display": true,
   "toc_window_display": false
  }
 },
 "nbformat": 4,
 "nbformat_minor": 5
}
