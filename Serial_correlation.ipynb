{
 "cells": [
  {
   "cell_type": "markdown",
   "id": "9b752944",
   "metadata": {
    "toc": true
   },
   "source": [
    "<h1>Table of Contents<span class=\"tocSkip\"></span></h1>\n",
    "<div class=\"toc\"><ul class=\"toc-item\"><li><span><a href=\"#Ljung-Box-test\" data-toc-modified-id=\"Ljung-Box-test-1\"><span class=\"toc-item-num\">1&nbsp;&nbsp;</span>Ljung-Box test</a></span></li><li><span><a href=\"#Variance-ratio-test\" data-toc-modified-id=\"Variance-ratio-test-2\"><span class=\"toc-item-num\">2&nbsp;&nbsp;</span>Variance-ratio test</a></span></li></ul></div>"
   ]
  },
  {
   "cell_type": "code",
   "execution_count": null,
   "id": "92560502",
   "metadata": {
    "ExecuteTime": {
     "start_time": "2021-04-21T12:40:56.298Z"
    }
   },
   "outputs": [],
   "source": [
    "from statsmodels.stats.diagnostic import acorr_ljungbox\n",
    "\n",
    "gazp = pd.read_csv(\"gazp.csv\", parse_dates=[\"Date\"])\n",
    "ts = np.log(gazp.sort_values(\"Date\")[\"Close\"].values)"
   ]
  },
  {
   "cell_type": "markdown",
   "id": "893cf4dd",
   "metadata": {},
   "source": [
    "# Ljung-Box test\n",
    "\n",
    "This is test for RW3 (return autocorrelation)"
   ]
  },
  {
   "cell_type": "code",
   "execution_count": 9,
   "id": "0b265bde",
   "metadata": {
    "ExecuteTime": {
     "end_time": "2021-04-21T12:54:40.174997Z",
     "start_time": "2021-04-21T12:54:29.906868Z"
    }
   },
   "outputs": [
    {
     "data": {
      "text/html": [
       "<div>\n",
       "<style scoped>\n",
       "    .dataframe tbody tr th:only-of-type {\n",
       "        vertical-align: middle;\n",
       "    }\n",
       "\n",
       "    .dataframe tbody tr th {\n",
       "        vertical-align: top;\n",
       "    }\n",
       "\n",
       "    .dataframe thead th {\n",
       "        text-align: right;\n",
       "    }\n",
       "</style>\n",
       "<table border=\"1\" class=\"dataframe\">\n",
       "  <thead>\n",
       "    <tr style=\"text-align: right;\">\n",
       "      <th></th>\n",
       "      <th>lb_stat</th>\n",
       "      <th>lb_pvalue</th>\n",
       "      <th>bp_stat</th>\n",
       "      <th>bp_pvalue</th>\n",
       "    </tr>\n",
       "  </thead>\n",
       "  <tbody>\n",
       "    <tr>\n",
       "      <th>1</th>\n",
       "      <td>3.923646e+05</td>\n",
       "      <td>0.0</td>\n",
       "      <td>3.923616e+05</td>\n",
       "      <td>0.0</td>\n",
       "    </tr>\n",
       "    <tr>\n",
       "      <th>2</th>\n",
       "      <td>7.847057e+05</td>\n",
       "      <td>0.0</td>\n",
       "      <td>7.846987e+05</td>\n",
       "      <td>0.0</td>\n",
       "    </tr>\n",
       "    <tr>\n",
       "      <th>3</th>\n",
       "      <td>1.177024e+06</td>\n",
       "      <td>0.0</td>\n",
       "      <td>1.177012e+06</td>\n",
       "      <td>0.0</td>\n",
       "    </tr>\n",
       "    <tr>\n",
       "      <th>4</th>\n",
       "      <td>1.569319e+06</td>\n",
       "      <td>0.0</td>\n",
       "      <td>1.569301e+06</td>\n",
       "      <td>0.0</td>\n",
       "    </tr>\n",
       "    <tr>\n",
       "      <th>5</th>\n",
       "      <td>1.961590e+06</td>\n",
       "      <td>0.0</td>\n",
       "      <td>1.961565e+06</td>\n",
       "      <td>0.0</td>\n",
       "    </tr>\n",
       "    <tr>\n",
       "      <th>6</th>\n",
       "      <td>2.353838e+06</td>\n",
       "      <td>0.0</td>\n",
       "      <td>2.353805e+06</td>\n",
       "      <td>0.0</td>\n",
       "    </tr>\n",
       "    <tr>\n",
       "      <th>7</th>\n",
       "      <td>2.746062e+06</td>\n",
       "      <td>0.0</td>\n",
       "      <td>2.746020e+06</td>\n",
       "      <td>0.0</td>\n",
       "    </tr>\n",
       "    <tr>\n",
       "      <th>8</th>\n",
       "      <td>3.138263e+06</td>\n",
       "      <td>0.0</td>\n",
       "      <td>3.138211e+06</td>\n",
       "      <td>0.0</td>\n",
       "    </tr>\n",
       "    <tr>\n",
       "      <th>9</th>\n",
       "      <td>3.530440e+06</td>\n",
       "      <td>0.0</td>\n",
       "      <td>3.530377e+06</td>\n",
       "      <td>0.0</td>\n",
       "    </tr>\n",
       "    <tr>\n",
       "      <th>10</th>\n",
       "      <td>3.922594e+06</td>\n",
       "      <td>0.0</td>\n",
       "      <td>3.922519e+06</td>\n",
       "      <td>0.0</td>\n",
       "    </tr>\n",
       "  </tbody>\n",
       "</table>\n",
       "</div>"
      ],
      "text/plain": [
       "         lb_stat  lb_pvalue       bp_stat  bp_pvalue\n",
       "1   3.923646e+05        0.0  3.923616e+05        0.0\n",
       "2   7.847057e+05        0.0  7.846987e+05        0.0\n",
       "3   1.177024e+06        0.0  1.177012e+06        0.0\n",
       "4   1.569319e+06        0.0  1.569301e+06        0.0\n",
       "5   1.961590e+06        0.0  1.961565e+06        0.0\n",
       "6   2.353838e+06        0.0  2.353805e+06        0.0\n",
       "7   2.746062e+06        0.0  2.746020e+06        0.0\n",
       "8   3.138263e+06        0.0  3.138211e+06        0.0\n",
       "9   3.530440e+06        0.0  3.530377e+06        0.0\n",
       "10  3.922594e+06        0.0  3.922519e+06        0.0"
      ]
     },
     "execution_count": 9,
     "metadata": {},
     "output_type": "execute_result"
    }
   ],
   "source": [
    "# H₀ : datapoints are independent (i.e. there is no autocorrelation)\n",
    "acorr_ljungbox(ts, lags=10, boxpierce = True, return_df=True)"
   ]
  },
  {
   "cell_type": "markdown",
   "id": "7aa9f9f7",
   "metadata": {},
   "source": [
    "# Variance-ratio test"
   ]
  },
  {
   "cell_type": "code",
   "execution_count": 10,
   "id": "901f95ca",
   "metadata": {
    "ExecuteTime": {
     "end_time": "2021-04-21T13:30:33.982158Z",
     "start_time": "2021-04-21T13:30:33.506338Z"
    }
   },
   "outputs": [
    {
     "data": {
      "text/html": [
       "<table class=\"simpletable\">\n",
       "<caption>Variance-Ratio Test Results</caption>\n",
       "<tr>\n",
       "  <td>Test Statistic</td>    <td>-2.047</td>\n",
       "</tr>\n",
       "<tr>\n",
       "  <td>P-value</td>            <td>0.041</td>\n",
       "</tr>\n",
       "<tr>\n",
       "  <td>Lags</td>                   <td>2</td>\n",
       "</tr>\n",
       "</table><br/><br/>Computed with overlapping blocks (de-biased)"
      ],
      "text/plain": [
       "<class 'arch.unitroot.unitroot.VarianceRatio'>\n",
       "\"\"\"\n",
       "     Variance-Ratio Test Results     \n",
       "=====================================\n",
       "Test Statistic                 -2.047\n",
       "P-value                         0.041\n",
       "Lags                                2\n",
       "-------------------------------------\n",
       "\n",
       "Computed with overlapping blocks (de-biased)\n",
       "\"\"\""
      ]
     },
     "execution_count": 10,
     "metadata": {},
     "output_type": "execute_result"
    }
   ],
   "source": [
    "from arch.unitroot import VarianceRatio\n",
    "\n",
    "VarianceRatio(ts)"
   ]
  }
 ],
 "metadata": {
  "kernelspec": {
   "display_name": "Python 3",
   "language": "python",
   "name": "python3"
  },
  "language_info": {
   "codemirror_mode": {
    "name": "ipython",
    "version": 3
   },
   "file_extension": ".py",
   "mimetype": "text/x-python",
   "name": "python",
   "nbconvert_exporter": "python",
   "pygments_lexer": "ipython3",
   "version": "3.9.2"
  },
  "toc": {
   "base_numbering": 1,
   "nav_menu": {},
   "number_sections": true,
   "sideBar": true,
   "skip_h1_title": false,
   "title_cell": "Table of Contents",
   "title_sidebar": "Contents",
   "toc_cell": true,
   "toc_position": {},
   "toc_section_display": true,
   "toc_window_display": false
  }
 },
 "nbformat": 4,
 "nbformat_minor": 5
}
