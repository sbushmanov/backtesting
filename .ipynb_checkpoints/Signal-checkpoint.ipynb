{
 "cells": [
  {
   "cell_type": "markdown",
   "id": "874f585a",
   "metadata": {
    "toc": true
   },
   "source": [
    "<h1>Table of Contents<span class=\"tocSkip\"></span></h1>\n",
    "<div class=\"toc\"><ul class=\"toc-item\"></ul></div>"
   ]
  },
  {
   "cell_type": "code",
   "execution_count": 1,
   "id": "239981d1",
   "metadata": {
    "ExecuteTime": {
     "end_time": "2021-05-10T16:22:19.472939Z",
     "start_time": "2021-05-10T16:22:18.469583Z"
    }
   },
   "outputs": [],
   "source": [
    "from numba import njit, float64, int64\n",
    "from numba.types import unicode_type, boolean\n",
    "from numba.experimental import jitclass\n",
    "from utils import gen_GBM\n",
    "from talib import BBANDS, SMA\n",
    "\n",
    "N = 100000\n",
    "price = gen_GBM(N)\n",
    "upper, middle, lower = BBANDS(price, 20, 1, 1)\n",
    "sma_slow = SMA(price, 20)\n",
    "sma_fast = SMA(price, 6)\n",
    "\n",
    "price = price[20:]\n",
    "upper = upper[20:]\n",
    "middle = middle[20:]\n",
    "lower = lower[20:]\n",
    "sma_slow = sma_slow[20:]\n",
    "sma_fast = sma_fast[20:]"
   ]
  },
  {
   "cell_type": "code",
   "execution_count": 2,
   "id": "ea894df2",
   "metadata": {
    "ExecuteTime": {
     "end_time": "2021-05-10T16:22:19.498940Z",
     "start_time": "2021-05-10T16:22:19.476898Z"
    }
   },
   "outputs": [],
   "source": [
    "spec = [\n",
    "    ('x',float64[:]),\n",
    "    ('y',float64[:]),\n",
    "    ('how',unicode_type),\n",
    "    ('_acc', int64)\n",
    "]\n",
    "\n",
    "@njit\n",
    "def crossup(x,y,i):\n",
    "    if x[i - 1] < y[i - 1] and x[i] > y[i]:\n",
    "        return 1\n",
    "    else:\n",
    "        return 0\n",
    "    \n",
    "@njit \n",
    "def crossdown(x,y,i):\n",
    "    if x[i - 1] > y[i - 1] and x[i] < y[i]:\n",
    "        return 1\n",
    "    else:\n",
    "        return 0\n",
    "    \n",
    "@njit \n",
    "def gt(x,y,i):\n",
    "    if x[i] > y[i]:\n",
    "        return 1\n",
    "    else:\n",
    "        return 0\n",
    "    \n",
    "@njit \n",
    "def lt(x,y,i):\n",
    "    if x[i] < y[i]:\n",
    "        return 1\n",
    "    else:\n",
    "        return 0\n",
    "    \n",
    "\n",
    "@jitclass(spec)\n",
    "class Signal:\n",
    "    \n",
    "    def __init__(self, x, y, how):\n",
    "        self.x = x\n",
    "        self.y = y\n",
    "        if how is None or how not in [\"crossup\", \"crossdown\", \"lower\", \"higher\"]:\n",
    "            raise ValueError(\n",
    "                'how must be one of \"crossup\", \"crossdown\", \"lower\", or \"higher\"'\n",
    "            )\n",
    "        else:\n",
    "            self.how = how\n",
    "        self._acc = 0\n",
    "    \n",
    "    def sig(self, i):\n",
    "        if self.how == \"crossup\":\n",
    "            return crossup(self.x, self.y, i)\n",
    "        elif self.how == \"crossdown\":\n",
    "            return crossdown(self.x, self.y, i)\n",
    "        elif self.how == \"higher\":\n",
    "            return gt(self.x, self.y, i)\n",
    "        elif self.how == \"lower\":\n",
    "            return lt(self.x, self.y, i)\n",
    "        \n",
    "    def acc(self, i):\n",
    "        if self.how == \"crossup\":\n",
    "            self._acc += crossup(self.x, self.y, i)\n",
    "        elif self.how == \"crossdown\":\n",
    "            self._acc += crossdown(self.x, self.y, i)\n",
    "        elif self.how == \"higher\":\n",
    "            self._acc += gt(self.x, self.y, i)\n",
    "        elif self.how == \"lower\":\n",
    "            self._acc += lt(self.x, self.y, i) \n",
    "        return self._acc"
   ]
  },
  {
   "cell_type": "code",
   "execution_count": 3,
   "id": "3e115784",
   "metadata": {
    "ExecuteTime": {
     "end_time": "2021-05-10T16:22:36.976482Z",
     "start_time": "2021-05-10T16:22:19.502192Z"
    }
   },
   "outputs": [
    {
     "name": "stdout",
     "output_type": "stream",
     "text": [
      "1.8 µs ± 12.5 ns per loop (mean ± std. dev. of 7 runs, 1000000 loops each)\n"
     ]
    }
   ],
   "source": [
    "sig1 = Signal(price, lower, \"crossup\")\n",
    "\n",
    "out = sig1.sig(10)\n",
    "%timeit sig1.sig(10)"
   ]
  },
  {
   "cell_type": "code",
   "execution_count": 5,
   "id": "121864ba",
   "metadata": {
    "ExecuteTime": {
     "end_time": "2021-05-10T16:23:04.870115Z",
     "start_time": "2021-05-10T16:22:54.293181Z"
    }
   },
   "outputs": [
    {
     "name": "stdout",
     "output_type": "stream",
     "text": [
      "11.9 ms ± 168 µs per loop (mean ± std. dev. of 7 runs, 100 loops each)\n"
     ]
    }
   ],
   "source": [
    "@njit\n",
    "def gen_ret(price, lower):\n",
    "    sig = Signal(price, lower, \"crossup\")\n",
    "    L = price.shape[0]\n",
    "    out = np.empty(L, dtype=np.int64)\n",
    "    out[0] = 0\n",
    "    for i in range(1,L):\n",
    "        out[i] = sig.acc(i)\n",
    "    return out\n",
    "\n",
    "out = gen_ret(price, lower)\n",
    "%timeit gen_ret(price, lower)"
   ]
  }
 ],
 "metadata": {
  "kernelspec": {
   "display_name": "Python 3",
   "language": "python",
   "name": "python3"
  },
  "language_info": {
   "codemirror_mode": {
    "name": "ipython",
    "version": 3
   },
   "file_extension": ".py",
   "mimetype": "text/x-python",
   "name": "python",
   "nbconvert_exporter": "python",
   "pygments_lexer": "ipython3",
   "version": "3.9.2"
  },
  "toc": {
   "base_numbering": 1,
   "nav_menu": {},
   "number_sections": true,
   "sideBar": true,
   "skip_h1_title": false,
   "title_cell": "Table of Contents",
   "title_sidebar": "Contents",
   "toc_cell": true,
   "toc_position": {},
   "toc_section_display": true,
   "toc_window_display": false
  }
 },
 "nbformat": 4,
 "nbformat_minor": 5
}
