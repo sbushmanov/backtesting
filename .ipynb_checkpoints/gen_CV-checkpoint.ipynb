{
 "cells": [
  {
   "cell_type": "markdown",
   "id": "2f1d377f",
   "metadata": {
    "toc": true
   },
   "source": [
    "<h1>Table of Contents<span class=\"tocSkip\"></span></h1>\n",
    "<div class=\"toc\"><ul class=\"toc-item\"></ul></div>"
   ]
  },
  {
   "cell_type": "code",
   "execution_count": 1,
   "id": "b1606a4a",
   "metadata": {
    "ExecuteTime": {
     "end_time": "2021-04-25T07:32:50.261636Z",
     "start_time": "2021-04-25T07:32:49.356202Z"
    }
   },
   "outputs": [],
   "source": [
    "gazp = pd.read_csv(\"gazp.csv\", parse_dates=[\"Date\"])\n",
    "gazp = gazp.sort_values(\"Date\").reset_index()\n",
    "\n",
    "idx = (\n",
    "    gazp.groupby([gazp.Date.dt.year, gazp.Date.dt.isocalendar().week])\n",
    "    .apply(lambda df: df.index.values)\n",
    "    .values\n",
    ")"
   ]
  },
  {
   "cell_type": "code",
   "execution_count": 29,
   "id": "718ba54e",
   "metadata": {
    "ExecuteTime": {
     "end_time": "2021-04-24T19:53:14.205353Z",
     "start_time": "2021-04-24T19:53:14.095304Z"
    }
   },
   "outputs": [
    {
     "data": {
      "text/plain": [
       "391572    Monday\n",
       "391573    Monday\n",
       "391574    Monday\n",
       "391575    Monday\n",
       "391576    Monday\n",
       "           ...  \n",
       "392219    Friday\n",
       "392220    Friday\n",
       "392221    Friday\n",
       "392222    Friday\n",
       "392223    Friday\n",
       "Name: Date, Length: 652, dtype: object"
      ]
     },
     "execution_count": 29,
     "metadata": {},
     "output_type": "execute_result"
    }
   ],
   "source": [
    "def gen_CV(gazp, train=1):\n",
    "    gazp = gazp.sort_values(\"Date\").reset_index()\n",
    "    idx = (\n",
    "    gazp.groupby([gazp.Date.dt.year, gazp.Date.dt.isocalendar().week])\n",
    "    .apply(lambda df: df.index.values)\n",
    "    .values\n",
    "    )\n",
    "    \n",
    "        "
   ]
  }
 ],
 "metadata": {
  "kernelspec": {
   "display_name": "Python 3",
   "language": "python",
   "name": "python3"
  },
  "language_info": {
   "codemirror_mode": {
    "name": "ipython",
    "version": 3
   },
   "file_extension": ".py",
   "mimetype": "text/x-python",
   "name": "python",
   "nbconvert_exporter": "python",
   "pygments_lexer": "ipython3",
   "version": "3.9.2"
  },
  "toc": {
   "base_numbering": 1,
   "nav_menu": {},
   "number_sections": true,
   "sideBar": true,
   "skip_h1_title": false,
   "title_cell": "Table of Contents",
   "title_sidebar": "Contents",
   "toc_cell": true,
   "toc_position": {},
   "toc_section_display": true,
   "toc_window_display": false
  }
 },
 "nbformat": 4,
 "nbformat_minor": 5
}
