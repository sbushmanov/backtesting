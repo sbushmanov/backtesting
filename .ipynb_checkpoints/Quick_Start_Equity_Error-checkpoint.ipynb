{
 "cells": [
  {
   "cell_type": "code",
   "execution_count": 5,
   "metadata": {},
   "outputs": [],
   "source": [
    "import backtesting\n",
    "from backtesting import Backtest, Strategy\n",
    "from backtesting.lib import crossover\n",
    "from backtesting.test import SMA\n",
    "import pandas_datareader.data as dtr\n",
    "import requests_cache\n",
    "import datetime\n",
    "expire_after = datetime.timedelta(days = 7)\n",
    "session = requests_cache.CachedSession(cache_name='cache', backend='sqlite', expire_after=expire_after)"
   ]
  },
  {
   "cell_type": "code",
   "execution_count": 6,
   "metadata": {},
   "outputs": [],
   "source": [
    "tickers = [\"LNTA.ME\",\"MGNT.ME\",\"PIKK.ME\",\n",
    "           \"MTSS.ME\",\"MGTS.ME\",\"RTKM.ME\",\n",
    "           \"ROSN.ME\",\"GAZP.ME\",\"NVTK.ME\",\"LKOH.ME\",\"TATN.ME\",\"SNGS.ME\",\"SIBN.ME\",\n",
    "           \"PLZL.ME\",\"NLMK.ME\",\"CHMF.ME\",\"POLY.ME\",\"RUAL.ME\",\"ALRS.ME\",\n",
    "           \"SBER.ME\",\"VTBR.ME\",\"MOEX.ME\",\"CBOM.ME\",\"YNDX.ME\",\"CBOM.ME\",\"ROSB.ME\",\n",
    "           \"HYDR.ME\",\"RSTI.ME\",\"FEES.ME\"\n",
    "          ]\n",
    "\n",
    "df = pd.DataFrame()\n",
    "\n",
    "for ticker in tickers:\n",
    "    try:\n",
    "        df_ = dtr.DataReader(ticker, data_source=\"yahoo\" , session=session, retry_count=1)\n",
    "        df_.insert(0, \"ticker\", ticker)\n",
    "    except:\n",
    "        print(f\"ticker '{ticker}' failed\")\n",
    "        pass\n",
    "    df = df.append(df_)"
   ]
  },
  {
   "cell_type": "code",
   "execution_count": 7,
   "metadata": {},
   "outputs": [
    {
     "data": {
      "text/html": [
       "<div>\n",
       "<style scoped>\n",
       "    .dataframe tbody tr th:only-of-type {\n",
       "        vertical-align: middle;\n",
       "    }\n",
       "\n",
       "    .dataframe tbody tr th {\n",
       "        vertical-align: top;\n",
       "    }\n",
       "\n",
       "    .dataframe thead th {\n",
       "        text-align: right;\n",
       "    }\n",
       "</style>\n",
       "<table border=\"1\" class=\"dataframe\">\n",
       "  <thead>\n",
       "    <tr style=\"text-align: right;\">\n",
       "      <th></th>\n",
       "      <th>ticker</th>\n",
       "      <th>High</th>\n",
       "      <th>Low</th>\n",
       "      <th>Open</th>\n",
       "      <th>Close</th>\n",
       "      <th>Volume</th>\n",
       "      <th>Adj Close</th>\n",
       "    </tr>\n",
       "    <tr>\n",
       "      <th>Date</th>\n",
       "      <th></th>\n",
       "      <th></th>\n",
       "      <th></th>\n",
       "      <th></th>\n",
       "      <th></th>\n",
       "      <th></th>\n",
       "      <th></th>\n",
       "    </tr>\n",
       "  </thead>\n",
       "  <tbody>\n",
       "    <tr>\n",
       "      <th>2015-12-17</th>\n",
       "      <td>GAZP.ME</td>\n",
       "      <td>138.690002</td>\n",
       "      <td>134.649994</td>\n",
       "      <td>134.649994</td>\n",
       "      <td>137.899994</td>\n",
       "      <td>45419720.0</td>\n",
       "      <td>137.899994</td>\n",
       "    </tr>\n",
       "    <tr>\n",
       "      <th>2015-12-18</th>\n",
       "      <td>GAZP.ME</td>\n",
       "      <td>137.389999</td>\n",
       "      <td>132.250000</td>\n",
       "      <td>137.289993</td>\n",
       "      <td>132.250000</td>\n",
       "      <td>38544860.0</td>\n",
       "      <td>132.250000</td>\n",
       "    </tr>\n",
       "    <tr>\n",
       "      <th>2015-12-21</th>\n",
       "      <td>GAZP.ME</td>\n",
       "      <td>133.940002</td>\n",
       "      <td>131.000000</td>\n",
       "      <td>132.000000</td>\n",
       "      <td>131.500000</td>\n",
       "      <td>28393100.0</td>\n",
       "      <td>131.500000</td>\n",
       "    </tr>\n",
       "    <tr>\n",
       "      <th>2015-12-22</th>\n",
       "      <td>GAZP.ME</td>\n",
       "      <td>133.539993</td>\n",
       "      <td>131.809998</td>\n",
       "      <td>132.000000</td>\n",
       "      <td>133.199997</td>\n",
       "      <td>20022420.0</td>\n",
       "      <td>133.199997</td>\n",
       "    </tr>\n",
       "    <tr>\n",
       "      <th>2015-12-23</th>\n",
       "      <td>GAZP.ME</td>\n",
       "      <td>135.300003</td>\n",
       "      <td>133.350006</td>\n",
       "      <td>133.550003</td>\n",
       "      <td>135.300003</td>\n",
       "      <td>26760910.0</td>\n",
       "      <td>135.300003</td>\n",
       "    </tr>\n",
       "  </tbody>\n",
       "</table>\n",
       "</div>"
      ],
      "text/plain": [
       "             ticker        High         Low        Open       Close  \\\n",
       "Date                                                                  \n",
       "2015-12-17  GAZP.ME  138.690002  134.649994  134.649994  137.899994   \n",
       "2015-12-18  GAZP.ME  137.389999  132.250000  137.289993  132.250000   \n",
       "2015-12-21  GAZP.ME  133.940002  131.000000  132.000000  131.500000   \n",
       "2015-12-22  GAZP.ME  133.539993  131.809998  132.000000  133.199997   \n",
       "2015-12-23  GAZP.ME  135.300003  133.350006  133.550003  135.300003   \n",
       "\n",
       "                Volume   Adj Close  \n",
       "Date                                \n",
       "2015-12-17  45419720.0  137.899994  \n",
       "2015-12-18  38544860.0  132.250000  \n",
       "2015-12-21  28393100.0  131.500000  \n",
       "2015-12-22  20022420.0  133.199997  \n",
       "2015-12-23  26760910.0  135.300003  "
      ]
     },
     "execution_count": 7,
     "metadata": {},
     "output_type": "execute_result"
    }
   ],
   "source": [
    "GAZP = df[df.ticker == \"GAZP.ME\"]\n",
    "GAZP.head()"
   ]
  },
  {
   "cell_type": "code",
   "execution_count": 8,
   "metadata": {},
   "outputs": [
    {
     "ename": "NameError",
     "evalue": "name 'dir_' is not defined",
     "output_type": "error",
     "traceback": [
      "\u001b[0;31m---------------------------------------------------------------------------\u001b[0m",
      "\u001b[0;31mNameError\u001b[0m                                 Traceback (most recent call last)",
      "\u001b[0;32m<ipython-input-8-a5635b365c54>\u001b[0m in \u001b[0;36m<module>\u001b[0;34m\u001b[0m\n\u001b[0;32m----> 1\u001b[0;31m \u001b[0mdir_\u001b[0m\u001b[0;34m(\u001b[0m\u001b[0mbacktesting\u001b[0m\u001b[0;34m.\u001b[0m\u001b[0mtest\u001b[0m\u001b[0;34m)\u001b[0m\u001b[0;34m\u001b[0m\u001b[0;34m\u001b[0m\u001b[0m\n\u001b[0m",
      "\u001b[0;31mNameError\u001b[0m: name 'dir_' is not defined"
     ]
    }
   ],
   "source": [
    "dir_(backtesting.test)"
   ]
  },
  {
   "cell_type": "code",
   "execution_count": null,
   "metadata": {},
   "outputs": [],
   "source": [
    "class SmaCross(Strategy):\n",
    "    # Define the two MA lags as *class variables*\n",
    "    # for later optimization\n",
    "    up_fast = 10\n",
    "    up_slow = 20\n",
    "    down_fast = 10\n",
    "    down_slow = 20\n",
    "    def init(self):\n",
    "        price = self.data.Close # to be fed to indicator\n",
    "        self.up_fast = self.I(SMA, price, self.up_fast) # callable, callable args\n",
    "        self.up_slow = self.I(SMA, price, self.up_slow)\n",
    "        self.down_fast = self.I(SMA, price, self.down_fast)\n",
    "        self.down_slow = self.I(SMA, price, self.down_slow)\n",
    "        \n",
    "    def next(self):\n",
    "        \n",
    "        if crossover(self.up_fast, self.up_slow):\n",
    "            self.position.close() # close short if any\n",
    "            self.buy() # buy\n",
    "            \n",
    "        if crossover(self.up_slow, self.up_fast):\n",
    "            self.position.close() # close long if any\n",
    "            self.sell() # short\n",
    "            \n",
    "        if crossover(self.down_slow, self.down_fast):\n",
    "            self.sell()\n",
    "            \n",
    "        if crossover(self.down_fast, self.down_slow):\n",
    "            self.position.close()\n",
    "            self.buy()"
   ]
  },
  {
   "cell_type": "code",
   "execution_count": null,
   "metadata": {},
   "outputs": [],
   "source": [
    "bt = Backtest(GAZP, SmaCross, cash=10000,commission=.002, ) # exclusive_orders=True any time youre short or long \n",
    "\n",
    "stats = bt.run()\n",
    "print(stats)"
   ]
  },
  {
   "cell_type": "code",
   "execution_count": null,
   "metadata": {
    "scrolled": false
   },
   "outputs": [],
   "source": [
    "bt.plot()"
   ]
  },
  {
   "cell_type": "code",
   "execution_count": null,
   "metadata": {},
   "outputs": [],
   "source": [
    "%%time\n",
    "\n",
    "stats = bt.optimize(up_fast=range(5, 30, 5),\n",
    "                    up_slow=range(10, 70, 5),\n",
    "                    down_fast=range(5, 30, 5),\n",
    "                    down_slow=range(10, 70, 5),\n",
    "                    maximize='Equity Final [$]',\n",
    "                    constraint=lambda param: param.up_fast < param.up_slow and param.down_fast < param.down_slow)\n",
    "stats"
   ]
  }
 ],
 "metadata": {
  "kernelspec": {
   "display_name": "Python 3",
   "language": "python",
   "name": "python3"
  },
  "language_info": {
   "codemirror_mode": {
    "name": "ipython",
    "version": 3
   },
   "file_extension": ".py",
   "mimetype": "text/x-python",
   "name": "python",
   "nbconvert_exporter": "python",
   "pygments_lexer": "ipython3",
   "version": "3.7.8"
  },
  "toc": {
   "base_numbering": 1,
   "nav_menu": {},
   "number_sections": true,
   "sideBar": true,
   "skip_h1_title": false,
   "title_cell": "Table of Contents",
   "title_sidebar": "Contents",
   "toc_cell": false,
   "toc_position": {},
   "toc_section_display": true,
   "toc_window_display": false
  }
 },
 "nbformat": 4,
 "nbformat_minor": 4
}
