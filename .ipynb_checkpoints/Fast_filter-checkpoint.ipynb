{
 "cells": [
  {
   "cell_type": "markdown",
   "id": "natural-fifth",
   "metadata": {
    "toc": true
   },
   "source": [
    "<h1>Table of Contents<span class=\"tocSkip\"></span></h1>\n",
    "<div class=\"toc\"><ul class=\"toc-item\"></ul></div>"
   ]
  },
  {
   "cell_type": "code",
   "execution_count": 1,
   "id": "special-transcript",
   "metadata": {
    "ExecuteTime": {
     "end_time": "2021-04-02T15:29:50.800325Z",
     "start_time": "2021-04-02T15:29:47.470456Z"
    }
   },
   "outputs": [
    {
     "name": "stdout",
     "output_type": "stream",
     "text": [
      "4.01 ms ± 23.9 µs per loop (mean ± std. dev. of 7 runs, 100 loops each)\n"
     ]
    }
   ],
   "source": [
    "np.random.seed(42)\n",
    "arr = np.random.randn(1000000)\n",
    "%timeit np.where(arr>0,1,0)"
   ]
  },
  {
   "cell_type": "code",
   "execution_count": 2,
   "id": "ruled-passenger",
   "metadata": {
    "ExecuteTime": {
     "end_time": "2021-04-02T15:29:57.779929Z",
     "start_time": "2021-04-02T15:29:50.801741Z"
    }
   },
   "outputs": [
    {
     "name": "stdout",
     "output_type": "stream",
     "text": [
      "804 µs ± 6.73 µs per loop (mean ± std. dev. of 7 runs, 1000 loops each)\n"
     ]
    }
   ],
   "source": [
    "from numba import njit\n",
    "\n",
    "\n",
    "@njit\n",
    "def filt1(arr):\n",
    "    N = arr.shape[0]\n",
    "    out = np.empty(N)\n",
    "    for i in range(N):\n",
    "        if arr[i] > 0:\n",
    "            out[i] = arr[i]\n",
    "        else:\n",
    "            out[i] = 0\n",
    "    return out\n",
    "\n",
    "\n",
    "%timeit filt1(arr)"
   ]
  },
  {
   "cell_type": "code",
   "execution_count": 3,
   "id": "moderate-diagnosis",
   "metadata": {
    "ExecuteTime": {
     "end_time": "2021-04-02T15:30:04.436347Z",
     "start_time": "2021-04-02T15:29:57.781276Z"
    }
   },
   "outputs": [
    {
     "name": "stdout",
     "output_type": "stream",
     "text": [
      "809 µs ± 6.14 µs per loop (mean ± std. dev. of 7 runs, 1000 loops each)\n"
     ]
    }
   ],
   "source": [
    "@njit(fastmath=True)\n",
    "def filt2(arr):\n",
    "    N = arr.shape[0]\n",
    "    out = np.empty(N)\n",
    "    for i in range(N):\n",
    "        if arr[i] > 0:\n",
    "            out[i] = arr[i]\n",
    "        else:\n",
    "            out[i] = 0\n",
    "    return out\n",
    "\n",
    "\n",
    "%timeit filt2(arr)"
   ]
  },
  {
   "cell_type": "code",
   "execution_count": 4,
   "id": "vanilla-actress",
   "metadata": {
    "ExecuteTime": {
     "end_time": "2021-04-02T15:30:04.704175Z",
     "start_time": "2021-04-02T15:30:04.437503Z"
    }
   },
   "outputs": [
    {
     "name": "stdout",
     "output_type": "stream",
     "text": [
      "306 µs ± 91.5 µs per loop (mean ± std. dev. of 7 runs, 1 loop each)\n"
     ]
    }
   ],
   "source": [
    "from numba import prange\n",
    "\n",
    "\n",
    "@njit(fastmath=True, parallel=True)\n",
    "def filt3(arr):\n",
    "    N = arr.shape[0]\n",
    "    out = np.empty(N)\n",
    "    for i in prange(N):\n",
    "        if arr[i] > 0:\n",
    "            out[i] = arr[i]\n",
    "        else:\n",
    "            out[i] = 0\n",
    "    return out\n",
    "\n",
    "\n",
    "%timeit filt3(arr)"
   ]
  },
  {
   "cell_type": "markdown",
   "id": "appointed-blowing",
   "metadata": {},
   "source": []
  },
  {
   "cell_type": "code",
   "execution_count": 11,
   "id": "transsexual-republican",
   "metadata": {
    "ExecuteTime": {
     "end_time": "2021-04-02T15:43:11.012658Z",
     "start_time": "2021-04-02T15:43:10.983073Z"
    }
   },
   "outputs": [
    {
     "data": {
      "text/plain": [
       "297974"
      ]
     },
     "execution_count": 11,
     "metadata": {},
     "output_type": "execute_result"
    }
   ],
   "source": []
  }
 ],
 "metadata": {
  "kernelspec": {
   "display_name": "Python 3",
   "language": "python",
   "name": "python3"
  },
  "language_info": {
   "codemirror_mode": {
    "name": "ipython",
    "version": 3
   },
   "file_extension": ".py",
   "mimetype": "text/x-python",
   "name": "python",
   "nbconvert_exporter": "python",
   "pygments_lexer": "ipython3",
   "version": "3.9.2"
  },
  "toc": {
   "base_numbering": 1,
   "nav_menu": {},
   "number_sections": true,
   "sideBar": true,
   "skip_h1_title": false,
   "title_cell": "Table of Contents",
   "title_sidebar": "Contents",
   "toc_cell": true,
   "toc_position": {},
   "toc_section_display": true,
   "toc_window_display": false
  }
 },
 "nbformat": 4,
 "nbformat_minor": 5
}
