{
 "cells": [
  {
   "cell_type": "markdown",
   "id": "f92935b8",
   "metadata": {
    "toc": true
   },
   "source": [
    "<h1>Table of Contents<span class=\"tocSkip\"></span></h1>\n",
    "<div class=\"toc\"><ul class=\"toc-item\"></ul></div>"
   ]
  },
  {
   "cell_type": "code",
   "execution_count": 1,
   "id": "66f36a0c",
   "metadata": {
    "ExecuteTime": {
     "end_time": "2021-05-10T19:29:39.902511Z",
     "start_time": "2021-05-10T19:29:39.157823Z"
    }
   },
   "outputs": [],
   "source": [
    "%load_ext autoreload\n",
    "%autoreload 2\n",
    "from utils import BBANDS_signal, Signal\n",
    "from talib import BBANDS\n",
    "from numba import njit\n",
    "\n",
    "gazp = pd.read_csv(\"gazp.csv\", parse_dates=[\"Date\"]).sort_values(\"Date\")\n",
    "gazp = gazp[:150]\n",
    "date = gazp['Date']\n",
    "price = gazp[\"Close\"].values\n",
    "upper, middle, lower = BBANDS(price, 20, 2, 2, matype=0)"
   ]
  },
  {
   "cell_type": "code",
   "execution_count": 3,
   "id": "30f20e65",
   "metadata": {
    "ExecuteTime": {
     "end_time": "2021-05-10T19:30:35.367726Z",
     "start_time": "2021-05-10T19:30:34.556286Z"
    }
   },
   "outputs": [],
   "source": [
    "enter_long = Signal(price, lower, 'crossup', False)\n",
    "exit_long1 = Signal(price, middle, 'crossup', False)\n",
    "exit_long2 = Signal(price, lower, 'crossdown', False)\n",
    "\n",
    "enter_short = Signal(price, upper, 'crossdown', False)\n",
    "exit_short1 = Signal(price, middle, 'crossdown', False)\n",
    "exit_short2 = Signal(price, upper, 'crossup', False)"
   ]
  },
  {
   "cell_type": "code",
   "execution_count": null,
   "id": "a378afb1",
   "metadata": {},
   "outputs": [],
   "source": [
    "Strategy(\n",
    "    price=price,\n",
    "    enter_long=[(price, lower, \"crossup\", False),],\n",
    "    exit_long=[\n",
    "        (price, middle, \"crossup\", False),\n",
    "        \"or\",\n",
    "        (price, lower, \"crossdown\", False),\n",
    "    ],\n",
    "    enter_short=(price, upper, \"crossdown\", False),\n",
    "    exit_short=[\n",
    "        (price, middle, \"crossdown\", False),\n",
    "        \"or\",\n",
    "        (price, upper, \"crossup\", False),\n",
    "    ],\n",
    ")"
   ]
  },
  {
   "cell_type": "code",
   "execution_count": 4,
   "id": "dc314daa",
   "metadata": {
    "ExecuteTime": {
     "end_time": "2021-05-10T19:32:33.984735Z",
     "start_time": "2021-05-10T19:32:33.953721Z"
    }
   },
   "outputs": [],
   "source": [
    "class Strategy:\n",
    "    \n",
    "    def __init__(self, price, enter_long, exit_long, enter_short, exit_short, commission=.0003):\n",
    "        self.price = price\n",
    "        self.enter_long = enter_long\n",
    "        self.exit_long = exit_long\n",
    "        self.enter_short = enter_short\n",
    "        self.exit_short = exit_short\n",
    "        self.commission = commission\n",
    "    \n",
    "    @njit\n",
    "    def run(self):\n",
    "        enter_long = Signal(self.enter_long)\n",
    "        exit_long = Signal(self.exit_long)\n",
    "        enter_short = Signal(self.enter_short)\n",
    "        exit_short = Signal(self.exit_short)\n",
    "\n",
    "        L = self.price.shape[0]\n",
    "        out = np.empty(L)\n",
    "        out[:2] = 0.0\n",
    "        out[-2:] = 0.0\n",
    "        i = 1\n",
    "\n",
    "        while i < (L-2):\n",
    "            \n",
    "\n",
    "            out[i+1] = 0.0\n",
    "\n",
    "            if enter_long.sig(i) and i < (L-2):\n",
    "                out[i+1] = self.price[i+2]/(self.price[i+1]*(1+self.commission)) - 1.0\n",
    "                trade = True\n",
    "                while trade and i < (L-3):\n",
    "                    i += 1\n",
    "                    out[i+1] = self.price[i+2]/self.price[i+1] - 1.0\n",
    "                    if exit_long.sig(i):\n",
    "                        trade = False\n",
    "                        out[i+1] = (1-self.commission)*self.price[i+2]/self.price[i+1] - 1.0\n",
    "\n",
    "\n",
    "            if enter_short(i) and i < (L-2):\n",
    "                out[i+1] = (1-self.commission)*self.price[i+1]/self.price[i+2] - 1.0\n",
    "                trade = True\n",
    "                while trade and i < (L-3):\n",
    "                    i += 1\n",
    "                    out[i+1] = self.price[i+1]/self.price[i+2] - 1.0\n",
    "                    if exit_short(i):\n",
    "                        trade = False\n",
    "                        out[i+1] = self.price[i+1]/(self.price[i+2]*(1+self.commission)) - 1.0\n",
    "\n",
    "\n",
    "            i +=1\n",
    "        return out"
   ]
  }
 ],
 "metadata": {
  "kernelspec": {
   "display_name": "Python 3",
   "language": "python",
   "name": "python3"
  },
  "language_info": {
   "codemirror_mode": {
    "name": "ipython",
    "version": 3
   },
   "file_extension": ".py",
   "mimetype": "text/x-python",
   "name": "python",
   "nbconvert_exporter": "python",
   "pygments_lexer": "ipython3",
   "version": "3.9.2"
  },
  "toc": {
   "base_numbering": 1,
   "nav_menu": {},
   "number_sections": true,
   "sideBar": true,
   "skip_h1_title": false,
   "title_cell": "Table of Contents",
   "title_sidebar": "Contents",
   "toc_cell": true,
   "toc_position": {},
   "toc_section_display": true,
   "toc_window_display": false
  }
 },
 "nbformat": 4,
 "nbformat_minor": 5
}
