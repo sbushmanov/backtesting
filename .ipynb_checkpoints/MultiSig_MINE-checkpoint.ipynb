{
 "cells": [
  {
   "cell_type": "markdown",
   "id": "f34b76a8",
   "metadata": {
    "toc": true
   },
   "source": [
    "<h1>Table of Contents<span class=\"tocSkip\"></span></h1>\n",
    "<div class=\"toc\"><ul class=\"toc-item\"></ul></div>"
   ]
  },
  {
   "cell_type": "code",
   "execution_count": 1,
   "id": "320cf95c",
   "metadata": {
    "ExecuteTime": {
     "end_time": "2021-05-30T07:55:03.643080Z",
     "start_time": "2021-05-30T07:55:03.540226Z"
    }
   },
   "outputs": [],
   "source": [
    "from numba import njit, int64, float64, types\n",
    "from numba.types import Array, string, boolean, UniTuple, Tuple, DictType\n",
    "from numba.experimental import jitclass\n",
    "\n",
    "np.random.seed(42)\n",
    "x = np.random.randn(1000000)\n",
    "y = np.random.randn(1000000)\n",
    "z = np.random.randn(1000000)\n",
    "\n",
    "# Example of \"human-readable\" signals\n",
    "entry_sig_ = ((x, y, \"crossup\", False),)\n",
    "exit_sig_ = ((x, z, \"crossup\", False), \"or_\", (x, y, \"crossdown\", False))\n",
    "\n",
    "# Turn signals into homogeneous tuple\n",
    "# entry_sig_\n",
    "entry_sig = (((x, y, \"crossup\", False),'NOP'),)\n",
    "# exit_sig_\n",
    "exit_sig = (((x, z, \"crossup\", False),'or_'), ((x, y, \"crossdown\", False),'NOP'))\n",
    "\n",
    "\n",
    "\n",
    "@njit\n",
    "def crossup(x, y, i):\n",
    "    \"\"\"\n",
    "    x,y: np.array\n",
    "    i: int - point in time\n",
    "    Returns: 1 or 0 when condition is met\n",
    "    \"\"\"\n",
    "    if x[i - 1] < y[i - 1] and x[i] > y[i]:\n",
    "        out = 1\n",
    "    else:\n",
    "        out = 0\n",
    "    return out\n",
    "\n",
    "\n",
    "@njit\n",
    "def crossdown(x, y, i):\n",
    "    if x[i - 1] > y[i - 1] and x[i] < y[i]:\n",
    "        out = 1\n",
    "    else:\n",
    "        out = 0\n",
    "    return out\n",
    "\n",
    "\n",
    "@njit\n",
    "def single_sig(x, y, how, acc, i):\n",
    "    \"\"\"\n",
    "    i: int - point in time\n",
    "    Returns either signal or accumulator\n",
    "    \"\"\"\n",
    "    if how == \"crossup\":\n",
    "        out = crossup(x, y, i)\n",
    "    elif how == \"crossdown\":\n",
    "        out = crossdown(x, y, i)\n",
    "    if acc:\n",
    "        out += out\n",
    "    return out\n",
    "\n",
    "E = len(entry_sig)\n",
    "X = len(exit_sig)\n",
    "\n",
    "\n",
    "\n",
    "spec = [\n",
    "    ('memory', boolean[:]),\n",
    "    ('logic', string[:])\n",
    "]\n",
    "\n",
    "\n",
    "@jitclass(spec)\n",
    "class MultiSig: \n",
    "    def __init__(self, sig):\n",
    "        self.memory"
   ]
  },
  {
   "cell_type": "code",
   "execution_count": null,
   "id": "65494d00",
   "metadata": {
    "ExecuteTime": {
     "end_time": "2021-05-29T18:56:18.888703Z",
     "start_time": "2021-05-29T18:56:18.855790Z"
    }
   },
   "outputs": [],
   "source": []
  }
 ],
 "metadata": {
  "kernelspec": {
   "display_name": "Python 3",
   "language": "python",
   "name": "python3"
  },
  "language_info": {
   "codemirror_mode": {
    "name": "ipython",
    "version": 3
   },
   "file_extension": ".py",
   "mimetype": "text/x-python",
   "name": "python",
   "nbconvert_exporter": "python",
   "pygments_lexer": "ipython3",
   "version": "3.9.4"
  },
  "toc": {
   "base_numbering": 1,
   "nav_menu": {},
   "number_sections": true,
   "sideBar": true,
   "skip_h1_title": false,
   "title_cell": "Table of Contents",
   "title_sidebar": "Contents",
   "toc_cell": true,
   "toc_position": {},
   "toc_section_display": true,
   "toc_window_display": false
  }
 },
 "nbformat": 4,
 "nbformat_minor": 5
}
