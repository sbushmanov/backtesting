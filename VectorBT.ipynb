{
 "cells": [
  {
   "cell_type": "markdown",
   "id": "618a277c",
   "metadata": {
    "toc": true
   },
   "source": [
    "<h1>Table of Contents<span class=\"tocSkip\"></span></h1>\n",
    "<div class=\"toc\"><ul class=\"toc-item\"></ul></div>"
   ]
  },
  {
   "cell_type": "code",
   "execution_count": 2,
   "id": "d1554de9",
   "metadata": {
    "ExecuteTime": {
     "end_time": "2021-04-22T13:36:11.786742Z",
     "start_time": "2021-04-22T13:36:11.295652Z"
    }
   },
   "outputs": [],
   "source": [
    "import vectorbt as vbt\n",
    "from utils import generateCV, hurst, hl\n",
    "from talib import BBANDS\n",
    "\n",
    "gazp = pd.read_csv(\"gazp.csv\", parse_dates=[\"Date\"])\n",
    "ts_ = gazp.sort_values(\"Date\")[\"Close\"].values\n",
    "\n",
    "cv = generateCV(gazp, 10000)\n",
    "\n",
    "ts = ts_[cv[0][1]][:100]"
   ]
  },
  {
   "cell_type": "code",
   "execution_count": 21,
   "id": "d3845301",
   "metadata": {
    "ExecuteTime": {
     "end_time": "2021-04-22T13:40:07.968164Z",
     "start_time": "2021-04-22T13:40:07.961379Z"
    }
   },
   "outputs": [
    {
     "data": {
      "text/plain": [
       "285.16246895811025"
      ]
     },
     "execution_count": 21,
     "metadata": {},
     "output_type": "execute_result"
    }
   ],
   "source": [
    "BBANDS(ts, 20,1, matype=6)[0][-1]"
   ]
  },
  {
   "cell_type": "code",
   "execution_count": 15,
   "id": "a79c6bf1",
   "metadata": {
    "ExecuteTime": {
     "end_time": "2021-04-22T13:39:46.676511Z",
     "start_time": "2021-04-22T13:39:46.661230Z"
    }
   },
   "outputs": [
    {
     "data": {
      "text/plain": [
       "285.8422742485051"
      ]
     },
     "execution_count": 15,
     "metadata": {},
     "output_type": "execute_result"
    }
   ],
   "source": [
    "vbt.BBANDS.run(ts, window=20, ewm=True).upper.iloc[-1]"
   ]
  },
  {
   "cell_type": "code",
   "execution_count": 27,
   "id": "c23c0dff",
   "metadata": {
    "ExecuteTime": {
     "end_time": "2021-04-22T13:21:17.946264Z",
     "start_time": "2021-04-22T13:21:17.685401Z"
    }
   },
   "outputs": [
    {
     "data": {
      "text/plain": [
       "0.0"
      ]
     },
     "execution_count": 27,
     "metadata": {},
     "output_type": "execute_result"
    }
   ],
   "source": [
    "# %%timeit\n",
    "bbands = vbt.BBANDS.run(ts, window=20, 1)\n",
    "\n",
    "entry = (\n",
    "    (bbands.lower_below(ts, crossover=True))\n",
    "#     | (bbands.upper_below(ts, crossover=True))\n",
    "#     | (bbands.middle_above(ts, crossover=True))\n",
    ")\n",
    "\n",
    "exit = (\n",
    "    (bbands.middle_below(ts, crossover=True)) \n",
    "    | (bbands.lower_above(ts, crossover=True))\n",
    "#     | (bbands.upper_above(ts, crossover=True))\n",
    ")\n",
    "\n",
    "portf = vbt.Portfolio.from_signals(ts, entry, exit, 1)\n",
    "portf.total_return()"
   ]
  },
  {
   "cell_type": "code",
   "execution_count": 39,
   "id": "4bc1c8d0",
   "metadata": {
    "ExecuteTime": {
     "end_time": "2021-04-22T13:33:53.778222Z",
     "start_time": "2021-04-22T13:33:53.756775Z"
    }
   },
   "outputs": [
    {
     "data": {
      "text/plain": [
       "1"
      ]
     },
     "execution_count": 39,
     "metadata": {},
     "output_type": "execute_result"
    }
   ],
   "source": [
    "sum(bbands.lower_below(ts, crossover=True))"
   ]
  },
  {
   "cell_type": "code",
   "execution_count": null,
   "id": "80c8b388",
   "metadata": {},
   "outputs": [],
   "source": []
  },
  {
   "cell_type": "code",
   "execution_count": null,
   "id": "7e883a3c",
   "metadata": {},
   "outputs": [],
   "source": []
  },
  {
   "cell_type": "code",
   "execution_count": 37,
   "id": "cb2c6eb7",
   "metadata": {
    "ExecuteTime": {
     "end_time": "2021-04-22T13:28:41.382598Z",
     "start_time": "2021-04-22T13:28:41.376600Z"
    }
   },
   "outputs": [
    {
     "data": {
      "text/plain": [
       "array([False, False, False, False, False, False, False, False, False,\n",
       "       False, False, False, False, False, False, False, False, False,\n",
       "       False,  True,  True,  True,  True,  True,  True,  True,  True,\n",
       "        True,  True,  True,  True, False, False, False,  True,  True,\n",
       "        True,  True, False,  True,  True,  True,  True,  True, False,\n",
       "        True,  True,  True,  True,  True,  True,  True,  True,  True,\n",
       "        True,  True,  True,  True,  True,  True,  True,  True,  True,\n",
       "        True,  True,  True,  True,  True,  True,  True,  True,  True,\n",
       "        True,  True,  True,  True,  True,  True,  True,  True,  True,\n",
       "        True,  True,  True,  True,  True,  True,  True,  True,  True,\n",
       "        True,  True,  True,  True,  True,  True,  True,  True,  True,\n",
       "        True])"
      ]
     },
     "execution_count": 37,
     "metadata": {},
     "output_type": "execute_result"
    }
   ],
   "source": [
    "upper, middle, lower = BBANDS(ts, 20, 1)\n",
    "ts>lower"
   ]
  },
  {
   "cell_type": "code",
   "execution_count": 36,
   "id": "5413feeb",
   "metadata": {
    "ExecuteTime": {
     "end_time": "2021-04-22T13:25:14.855062Z",
     "start_time": "2021-04-22T13:25:14.833786Z"
    }
   },
   "outputs": [
    {
     "name": "stdout",
     "output_type": "stream",
     "text": [
      "0     False\n",
      "1     False\n",
      "2     False\n",
      "3     False\n",
      "4     False\n",
      "5     False\n",
      "6     False\n",
      "7     False\n",
      "8     False\n",
      "9     False\n",
      "10    False\n",
      "11    False\n",
      "12    False\n",
      "13    False\n",
      "14    False\n",
      "15    False\n",
      "16    False\n",
      "17    False\n",
      "18    False\n",
      "19     True\n",
      "20    False\n",
      "21    False\n",
      "22    False\n",
      "23    False\n",
      "24    False\n",
      "25    False\n",
      "26    False\n",
      "27    False\n",
      "28    False\n",
      "29    False\n",
      "30    False\n",
      "31    False\n",
      "32    False\n",
      "33    False\n",
      "34    False\n",
      "35    False\n",
      "36    False\n",
      "37    False\n",
      "38    False\n",
      "39    False\n",
      "40    False\n",
      "41    False\n",
      "42    False\n",
      "43    False\n",
      "44    False\n",
      "45    False\n",
      "46    False\n",
      "47    False\n",
      "48    False\n",
      "49    False\n",
      "50    False\n",
      "51    False\n",
      "52    False\n",
      "53    False\n",
      "54    False\n",
      "55    False\n",
      "56    False\n",
      "57    False\n",
      "58    False\n",
      "59    False\n",
      "60    False\n",
      "61    False\n",
      "62    False\n",
      "63    False\n",
      "64    False\n",
      "65    False\n",
      "66    False\n",
      "67    False\n",
      "68    False\n",
      "69    False\n",
      "70    False\n",
      "71    False\n",
      "72    False\n",
      "73    False\n",
      "74    False\n",
      "75    False\n",
      "76    False\n",
      "77    False\n",
      "78    False\n",
      "79    False\n",
      "80    False\n",
      "81    False\n",
      "82    False\n",
      "83    False\n",
      "84    False\n",
      "85    False\n",
      "86    False\n",
      "87    False\n",
      "88    False\n",
      "89    False\n",
      "90    False\n",
      "91    False\n",
      "92    False\n",
      "93    False\n",
      "94    False\n",
      "95    False\n",
      "96    False\n",
      "97    False\n",
      "98    False\n",
      "99    False\n",
      "Name: (20, 1), dtype: bool\n"
     ]
    }
   ],
   "source": [
    "bbands.lower_below(ts, crossover=True)"
   ]
  },
  {
   "cell_type": "code",
   "execution_count": 16,
   "id": "b985ab11",
   "metadata": {
    "ExecuteTime": {
     "end_time": "2021-04-22T12:57:22.599431Z",
     "start_time": "2021-04-22T12:57:22.591663Z"
    }
   },
   "outputs": [
    {
     "data": {
      "text/plain": [
       "1.0090161939453977"
      ]
     },
     "execution_count": 16,
     "metadata": {},
     "output_type": "execute_result"
    }
   ],
   "source": [
    "from utils import gen_return\n",
    "from talib import BBANDS\n",
    "upper, middle, lower = BBANDS(ts, 20, 1)\n",
    "\n",
    "gen_return(ts, upper, middle, lower)"
   ]
  }
 ],
 "metadata": {
  "kernelspec": {
   "display_name": "Python 3",
   "language": "python",
   "name": "python3"
  },
  "language_info": {
   "codemirror_mode": {
    "name": "ipython",
    "version": 3
   },
   "file_extension": ".py",
   "mimetype": "text/x-python",
   "name": "python",
   "nbconvert_exporter": "python",
   "pygments_lexer": "ipython3",
   "version": "3.9.2"
  },
  "toc": {
   "base_numbering": 1,
   "nav_menu": {},
   "number_sections": true,
   "sideBar": true,
   "skip_h1_title": false,
   "title_cell": "Table of Contents",
   "title_sidebar": "Contents",
   "toc_cell": true,
   "toc_position": {},
   "toc_section_display": true,
   "toc_window_display": false
  }
 },
 "nbformat": 4,
 "nbformat_minor": 5
}
